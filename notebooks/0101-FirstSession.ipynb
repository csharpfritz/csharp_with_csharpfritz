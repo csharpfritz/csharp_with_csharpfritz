{
 "cells": [
  {
   "cell_type": "markdown",
   "source": [
    "# Session 1: Types, Keywords, and Operators with C#  #\r\n",
    "\r\n",
    "In this first session, we're going to start learning about object-oriented programming with C#.  We'll touch on the very basics around variable types, language keywords, and how we can use operators to make variables work together for us.\r\n",
    "\r\n",
    "## Get C# to run locally   #\r\n",
    "\r\n",
    "You can get all of the tools to build with C# locally on your Mac or PC by installing [Visual Studio or Visual Studio for Mac](https://visualstudio.com?WT.mc_id=visualstudio-twitch-jefritz).  You can also install just the build tools for Windows, Mac, or Linux by following the instructions at [dot.net](https://dot.net?WT.mc_id=visualstudio-twitch-jefritz)  For most of our streams to start, we will be writing code using [Jupyter Notebooks and .NET Interactive](https://github.com/dotnet/interactive).\r\n",
    "\r\n",
    "## What is C# ?  #\r\n",
    "\r\n",
    "C# is a statically-typed, compiled, object-oriented language used with the .NET frameworks and runtimes.  The [official Microsoft C# language reference](https://docs.microsoft.com/dotnet/csharp/language-reference/?WT.mc_id=visualstudio-twitch-jefritz) can be found on docs.microsoft.com.  Similar to Java in syntax and structure, C# programs are compiled and executed against a .NET runtime running on a computer.  The output of compiling C# code can be called a '.NET program'.\r\n",
    "\r\n",
    "> A .NET Runtime is a collection of commands native to the computer operating system that instruct the computer how to interpret and run a .NET program. \r\n",
    "\r\n",
    "There are several different .NET runtimes available that give C# flexibility to run in many different locations.\r\n",
    "\r\n",
    " - .NET Framework - runs on Windows and support desktop user-interface, console, and server development\r\n",
    " - .NET Core - runs on Windows, Mac, and Linux with support for desktop user-interface, console, and server development\r\n",
    " - Xamarin - runs on iOS and Android devices with support for native application development on those devices\r\n",
    " - Unity - runs on Windows, Mac, Linux, iOS, and Android devices with support for game development using the Unity3D tools\r\n",
    " - Mono - runs on Windows, Mac, Linux, and Web Assembly\r\n",
    " \r\n",
    "> A .NET Framework is a collection of programming instructions and tools that help you write a program of a specific type.  Examples of .NET Frameworks include Windows Forms, ASP.NET, Xamarin iOS, and Blazor\r\n",
    " \r\n",
    "C# requires a .NET runtime and frameworks for the appropriate program type to run.  The definition of the framework and runtime for a C# program are stored in a `.csproj` file.  We'll learn more about this file and structure in a future lesson.  For now, know that the .NET tools will help construct and manage this file for you when you specify what type of program you want to create.\r\n",
    "\r\n",
    "All C# files carry a `.cs` file extension by default.\r\n",
    "\r\n",
    "## Syntax 101\r\n",
    "\r\n",
    "Here are the basics of C# code syntax that you should know as we get started.\r\n",
    "\r\n",
    "### C# uses a semi-colon to denote the end of a statement  #\r\n",
    "\r\n",
    "This is a hard and fast rule, and you'll get used to it quickly.  Every statement in C# needs to end with a semi-colon `;`  This allows us to also have very flexible spacing in how we structure our code.\r\n",
    "\r\n",
    "### C# is NOT space sensitive  #\r\n",
    "\r\n",
    "You can place as many spaces, tabs, or blank lines around your code as you would like.  \r\n",
    "\r\n",
    "### C# IS case sensitive   #\r\n",
    "\r\n",
    "C# is case-sensitive.  All variables, objects, and their interactions must be referenced with the proper casing.\r\n",
    "\r\n",
    "### Comment Syntax\r\n",
    "\r\n",
    "You can write comments by using the two forward-slash characters to indicate everything after them is a comment."
   ],
   "metadata": {}
  },
  {
   "cell_type": "code",
   "execution_count": null,
   "source": [
    "// This is a comment"
   ],
   "outputs": [],
   "metadata": {
    "dotnet_interactive": {
     "language": "csharp"
    }
   }
  },
  {
   "cell_type": "markdown",
   "source": [
    "You can create comments that span multiple lines by using slash asterisk fencing like the following:"
   ],
   "metadata": {}
  },
  {
   "cell_type": "code",
   "execution_count": null,
   "source": [
    "/*\r\n",
    "This is a multi-line comment\r\n",
    "\r\n",
    "and this is still commented out\r\n",
    "*/"
   ],
   "outputs": [],
   "metadata": {
    "dotnet_interactive": {
     "language": "csharp"
    }
   }
  },
  {
   "cell_type": "markdown",
   "source": [
    "## Everything in C# is an object   #\r\n",
    "\r\n",
    "As C# is an object oriented language, everything we want to work with is an object.  Objects can be declared of various **TYPES** and then interacted with.  The simplest types in C# are called [**Built-In Types**](https://docs.microsoft.com/dotnet/csharp/language-reference/builtin-types/built-in-types?WT.mc_id=visualstudio-twitch-jefritz)\r\n",
    "\r\n",
    "We can define variables, in-memory storage for a type by preceeding the name of the variable we would like to create with the type of the variable we are creating."
   ],
   "metadata": {}
  },
  {
   "cell_type": "code",
   "execution_count": null,
   "source": [
    "int i;\r\n",
    "                        double j;\r\n",
    "      char c;\r\n",
    "\r\n",
    "display(c);"
   ],
   "outputs": [
    {
     "data": {
      "text/html": [
       "<div class=\"dni-plaintext\">\u0000</div>"
      ]
     },
     "metadata": {},
     "output_type": "display_data"
    }
   ],
   "metadata": {
    "dotnet_interactive": {
     "language": "csharp"
    }
   }
  },
  {
   "cell_type": "markdown",
   "source": [
    "That's not very exciting, but we created a 32-bit integer named `i`.  We can initialize a variable with an `=` assignment at the time of declaration."
   ],
   "metadata": {}
  },
  {
   "cell_type": "code",
   "execution_count": null,
   "source": [
    "int i = 10;\r\n",
    "\r\n",
    "display(i);"
   ],
   "outputs": [
    {
     "data": {
      "text/html": [
       "<div class=\"dni-plaintext\">10</div>"
      ]
     },
     "metadata": {},
     "output_type": "display_data"
    }
   ],
   "metadata": {
    "dotnet_interactive": {
     "language": "csharp"
    }
   }
  },
  {
   "cell_type": "markdown",
   "source": [
    "### The var keyword\n",
    "\n",
    "Sometimes, its a little cumbersome to declare a variable, assign a value, and have to specify the type before it.  C# has built-in type inference and you can use the `var` keyword to force the compiler to detect the actual type being created  and set the variable to the type of the value being assigned."
   ],
   "metadata": {}
  },
  {
   "cell_type": "code",
   "execution_count": null,
   "source": [
    "var i                             = 10;\r\n",
    "var someReallyLongVariableName    = 9;\r\n",
    "var foo                           = \"Something\";\r\n",
    "\r\n",
    "display(someReallyLongVariableName);\r\n",
    "\r\n",
    "var c = 'C';\r\n",
    "display(c);"
   ],
   "outputs": [
    {
     "data": {
      "text/html": [
       "<div class=\"dni-plaintext\">9</div>"
      ]
     },
     "metadata": {},
     "output_type": "display_data"
    },
    {
     "data": {
      "text/html": [
       "<div class=\"dni-plaintext\">C</div>"
      ]
     },
     "metadata": {},
     "output_type": "display_data"
    }
   ],
   "metadata": {
    "dotnet_interactive": {
     "language": "csharp"
    }
   }
  },
  {
   "cell_type": "markdown",
   "source": [
    "You can **ONLY** use the `var` keyword when creating and assigning the variable in one statement."
   ],
   "metadata": {}
  },
  {
   "cell_type": "markdown",
   "source": [
    "### Target-Typed `new` expressions\r\n",
    "\r\n",
    "Starting with [C# 9 (.NET 5 and later)](https://docs.microsoft.com/en-us/dotnet/csharp/language-reference/proposals/csharp-9.0/target-typed-new), types can not be declared and constructed using the `new()` keyword without any specification for the constructor.  If the type can be inferred from it's usage, the `new()` keyword can be used.\r\n",
    "\r\n",
    "You can still use constructor arguments with `new()` to initialize the appropriate type."
   ],
   "metadata": {
    "dotnet_interactive": {
     "language": "csharp"
    }
   }
  },
  {
   "cell_type": "code",
   "execution_count": null,
   "source": [
    "//List<string> testList = new();\r\n",
    "List<string> testList = new() { \"Hello\", \"World\" };\r\n",
    "\r\n",
    "display(testList);"
   ],
   "outputs": [
    {
     "data": {
      "text/html": [
       "<table><thead><tr><th><i>index</i></th><th>value</th></tr></thead><tbody><tr><td>0</td><td>Hello</td></tr><tr><td>1</td><td>World</td></tr></tbody></table>"
      ]
     },
     "metadata": {},
     "output_type": "display_data"
    }
   ],
   "metadata": {
    "dotnet_interactive": {
     "language": "csharp"
    }
   }
  },
  {
   "cell_type": "markdown",
   "source": [
    "### Real Literals\r\n",
    "\r\n",
    "We can declare double, float, and decimal types with simple numeric notation, but we need to force the literal numbers we assign to be the correct type to match the variable type expected.\r\n",
    "\r\n",
    "To do this, we add a `d`, `f`, or `m` suffix to a number being assigned."
   ],
   "metadata": {}
  },
  {
   "cell_type": "code",
   "execution_count": null,
   "source": [
    "var myNumber = 4m;\r\n",
    "myNumber.GetType()"
   ],
   "outputs": [
    {
     "data": {
      "text/html": [
       "<span><a href=\"https://docs.microsoft.com/dotnet/api/system.decimal?view=net-5.0\">System.Decimal</a></span>"
      ]
     },
     "metadata": {},
     "output_type": "display_data"
    }
   ],
   "metadata": {
    "dotnet_interactive": {
     "language": "csharp"
    }
   }
  },
  {
   "cell_type": "markdown",
   "source": [
    "## Type Casting\n"
   ],
   "metadata": {}
  },
  {
   "cell_type": "code",
   "execution_count": null,
   "source": [
    "int valueA = 10;\r\n",
    "decimal valueB = valueA; // Implicit conversion\r\n",
    "\r\n",
    "display(valueB);\r\n",
    "display(valueB.GetType());\r\n",
    "\r\n",
    "decimal valueC = 20;\r\n",
    "//int valueD = valueC;      // This errors out because int cannot be implicitly converted to by a decimal\r\n",
    "int valueD = (int)valueC;   // Explicitly convert valueC to int with the (int) modifier\r\n",
    "\r\n",
    "display(valueD);"
   ],
   "outputs": [
    {
     "data": {
      "text/html": [
       "<div class=\"dni-plaintext\">10</div>"
      ]
     },
     "metadata": {},
     "output_type": "display_data"
    },
    {
     "data": {
      "text/html": [
       "<span><a href=\"https://docs.microsoft.com/dotnet/api/system.decimal?view=net-5.0\">System.Decimal</a></span>"
      ]
     },
     "metadata": {},
     "output_type": "display_data"
    },
    {
     "data": {
      "text/html": [
       "<div class=\"dni-plaintext\">20</div>"
      ]
     },
     "metadata": {},
     "output_type": "display_data"
    }
   ],
   "metadata": {
    "dotnet_interactive": {
     "language": "csharp"
    }
   }
  },
  {
   "cell_type": "markdown",
   "source": [
    "## Operators\r\n",
    "\r\n",
    "Now that we have some basic types and can create variables, it would sure be nice to have them interact with each other.  [Operators](https://docs.microsoft.com/dotnet/csharp/language-reference/operators/) can be used to interact with our variables.\r\n",
    "\r\n",
    "Let's start by declaring two variables, `apples` and `oranges` and interact with them using different operators.  Try changing some of the values and tinkering with the operators in the following code snippets."
   ],
   "metadata": {}
  },
  {
   "cell_type": "code",
   "execution_count": null,
   "source": [
    "var apples = 100m;   // Decimal value\r\n",
    "var oranges = 30m;   // Decimal value"
   ],
   "outputs": [],
   "metadata": {
    "dotnet_interactive": {
     "language": "csharp"
    }
   }
  },
  {
   "cell_type": "markdown",
   "source": [
    "Basic arithmetic operators and assignment are available:"
   ],
   "metadata": {}
  },
  {
   "cell_type": "code",
   "execution_count": null,
   "source": [
    "display(apples + oranges);"
   ],
   "outputs": [
    {
     "data": {
      "text/html": [
       "<div class=\"dni-plaintext\">130</div>"
      ]
     },
     "metadata": {},
     "output_type": "display_data"
    }
   ],
   "metadata": {
    "dotnet_interactive": {
     "language": "csharp"
    }
   }
  },
  {
   "cell_type": "code",
   "execution_count": null,
   "source": [
    "display(apples - oranges);"
   ],
   "outputs": [
    {
     "data": {
      "text/html": [
       "<div class=\"dni-plaintext\">70</div>"
      ]
     },
     "metadata": {},
     "output_type": "display_data"
    }
   ],
   "metadata": {
    "dotnet_interactive": {
     "language": "csharp"
    }
   }
  },
  {
   "cell_type": "code",
   "execution_count": null,
   "source": [
    "display(apples * oranges);"
   ],
   "outputs": [
    {
     "data": {
      "text/html": [
       "<div class=\"dni-plaintext\">3000</div>"
      ]
     },
     "metadata": {},
     "output_type": "display_data"
    }
   ],
   "metadata": {
    "dotnet_interactive": {
     "language": "csharp"
    }
   }
  },
  {
   "cell_type": "code",
   "execution_count": null,
   "source": [
    "display((int)apples / 7m);"
   ],
   "outputs": [
    {
     "data": {
      "text/html": [
       "<div class=\"dni-plaintext\">47.571428571428571428571428571</div>"
      ]
     },
     "metadata": {},
     "output_type": "display_data"
    }
   ],
   "metadata": {
    "dotnet_interactive": {
     "language": "csharp"
    }
   }
  },
  {
   "cell_type": "markdown",
   "source": [
    "You can use the equals character `=` to assign values, and prefix it with an arithmetic operator to modify and assign the resultant value."
   ],
   "metadata": {}
  },
  {
   "cell_type": "code",
   "execution_count": null,
   "source": [
    "display(apples += 10);\r\n",
    "\r\n",
    "display(apples -= 10);\r\n",
    "\r\n",
    "display(apples *= 10);\r\n",
    "\r\n",
    "display(apples /= 3m);\r\n",
    "\r\n",
    "display(30.0d == 30);"
   ],
   "outputs": [
    {
     "data": {
      "text/html": [
       "<div class=\"dni-plaintext\">110</div>"
      ]
     },
     "metadata": {},
     "output_type": "display_data"
    },
    {
     "data": {
      "text/html": [
       "<div class=\"dni-plaintext\">100</div>"
      ]
     },
     "metadata": {},
     "output_type": "display_data"
    },
    {
     "data": {
      "text/html": [
       "<div class=\"dni-plaintext\">1000</div>"
      ]
     },
     "metadata": {},
     "output_type": "display_data"
    },
    {
     "data": {
      "text/html": [
       "<div class=\"dni-plaintext\">333.33333333333333333333333333</div>"
      ]
     },
     "metadata": {},
     "output_type": "display_data"
    },
    {
     "data": {
      "text/html": [
       "<div class=\"dni-plaintext\">True</div>"
      ]
     },
     "metadata": {},
     "output_type": "display_data"
    }
   ],
   "metadata": {
    "dotnet_interactive": {
     "language": "csharp"
    }
   }
  },
  {
   "cell_type": "markdown",
   "source": [
    "C# makes the inequality operators available as well, and a test for equality using `==`"
   ],
   "metadata": {}
  },
  {
   "cell_type": "code",
   "execution_count": null,
   "source": [
    "display(apples > oranges);"
   ],
   "outputs": [
    {
     "data": {
      "text/html": [
       "<div class=\"dni-plaintext\">True</div>"
      ]
     },
     "metadata": {},
     "output_type": "display_data"
    }
   ],
   "metadata": {
    "dotnet_interactive": {
     "language": "csharp"
    }
   }
  },
  {
   "cell_type": "code",
   "execution_count": null,
   "source": [
    "display(apples >= oranges);"
   ],
   "outputs": [
    {
     "data": {
      "text/html": [
       "<div class=\"dni-plaintext\">True</div>"
      ]
     },
     "metadata": {},
     "output_type": "display_data"
    }
   ],
   "metadata": {
    "dotnet_interactive": {
     "language": "csharp"
    }
   }
  },
  {
   "cell_type": "code",
   "execution_count": null,
   "source": [
    "display(apples < oranges);"
   ],
   "outputs": [
    {
     "data": {
      "text/html": [
       "<div class=\"dni-plaintext\">False</div>"
      ]
     },
     "metadata": {},
     "output_type": "display_data"
    }
   ],
   "metadata": {
    "dotnet_interactive": {
     "language": "csharp"
    }
   }
  },
  {
   "cell_type": "code",
   "execution_count": null,
   "source": [
    "display(apples <= oranges);"
   ],
   "outputs": [
    {
     "data": {
      "text/html": [
       "<div class=\"dni-plaintext\">False</div>"
      ]
     },
     "metadata": {},
     "output_type": "display_data"
    }
   ],
   "metadata": {
    "dotnet_interactive": {
     "language": "csharp"
    }
   }
  },
  {
   "cell_type": "code",
   "execution_count": null,
   "source": [
    "display(apples == oranges);"
   ],
   "outputs": [
    {
     "data": {
      "text/html": [
       "<div class=\"dni-plaintext\">False</div>"
      ]
     },
     "metadata": {},
     "output_type": "display_data"
    }
   ],
   "metadata": {
    "dotnet_interactive": {
     "language": "csharp"
    }
   }
  },
  {
   "cell_type": "code",
   "execution_count": null,
   "source": [
    "display(apples != oranges); // The not-equals operator"
   ],
   "outputs": [
    {
     "data": {
      "text/html": [
       "<div class=\"dni-plaintext\">True</div>"
      ]
     },
     "metadata": {},
     "output_type": "display_data"
    }
   ],
   "metadata": {
    "dotnet_interactive": {
     "language": "csharp"
    }
   }
  },
  {
   "cell_type": "markdown",
   "source": [
    "## Date Types\r\n",
    "\r\n",
    "Dates are a more complex data type that you can interact with by using the `DateTime` type.  We can assign a new Date and time with a `new` statement to construct the DateTime type.  [Complete documentation of the DateTime type](https://docs.microsoft.com/dotnet/api/system.datetime?view=net-6.0&WT.mc_id=visualstudio-twitch-jefritz) is available at docs.microsoft.com"
   ],
   "metadata": {}
  },
  {
   "cell_type": "code",
   "execution_count": null,
   "source": [
    "DateTime today = new DateTime(2020, 8, 1, 9, 15, 30);   // Create a date for August 1, 2020 at 9:00am\r\n",
    "\r\n",
    "display(today);\r\n",
    "display(today.Hour);  // We can reference parts of the DateTime as properties on the variable\r\n",
    "display(today.Minute);\r\n",
    "display(today.Second);"
   ],
   "outputs": [
    {
     "data": {
      "text/html": [
       "<span>2020-08-01 09:15:30Z</span>"
      ]
     },
     "metadata": {},
     "output_type": "display_data"
    },
    {
     "data": {
      "text/html": [
       "<div class=\"dni-plaintext\">9</div>"
      ]
     },
     "metadata": {},
     "output_type": "display_data"
    },
    {
     "data": {
      "text/html": [
       "<div class=\"dni-plaintext\">15</div>"
      ]
     },
     "metadata": {},
     "output_type": "display_data"
    },
    {
     "data": {
      "text/html": [
       "<div class=\"dni-plaintext\">30</div>"
      ]
     },
     "metadata": {},
     "output_type": "display_data"
    }
   ],
   "metadata": {
    "dotnet_interactive": {
     "language": "csharp"
    }
   }
  },
  {
   "cell_type": "markdown",
   "source": [
    "There are several properties on the DateTime object that allow us to interact with the variable type itself:"
   ],
   "metadata": {}
  },
  {
   "cell_type": "code",
   "execution_count": null,
   "source": [
    "display(DateTime.Now);      // Display the current local time\r\n",
    "\r\n",
    "display(DateTime.MaxValue); // Display the maximum date value\r\n",
    "display(DateTime.MinValue); // Display the maximum date value"
   ],
   "outputs": [
    {
     "data": {
      "text/html": [
       "<span>2021-08-09 10:37:30Z</span>"
      ]
     },
     "metadata": {},
     "output_type": "display_data"
    },
    {
     "data": {
      "text/html": [
       "<span>9999-12-31 23:59:59Z</span>"
      ]
     },
     "metadata": {},
     "output_type": "display_data"
    },
    {
     "data": {
      "text/html": [
       "<span>0001-01-01 00:00:00Z</span>"
      ]
     },
     "metadata": {},
     "output_type": "display_data"
    }
   ],
   "metadata": {
    "dotnet_interactive": {
     "language": "csharp"
    }
   }
  },
  {
   "cell_type": "markdown",
   "source": [
    "We can also add durations to our date like days and hours.  The `TimeSpan` type is available to define a time duration that we can interact with."
   ],
   "metadata": {}
  },
  {
   "cell_type": "code",
   "execution_count": null,
   "source": [
    "display(today.AddDays(7)); // Add a week to August 1\r\n",
    "\r\n",
    "TimeSpan ThreeHours = TimeSpan.FromHours(3);   // Define a TimeSpan of 3 hours\r\n",
    "display(ThreeHours);                           // Show 3 hours as a string\r\n",
    "\r\n",
    "display(today.Add(ThreeHours));   // Add 3 hours to 'today' and display the result\r\n"
   ],
   "outputs": [
    {
     "data": {
      "text/html": [
       "<span>2020-08-08 09:15:30Z</span>"
      ]
     },
     "metadata": {},
     "output_type": "display_data"
    },
    {
     "data": {
      "text/html": [
       "<span>03:00:00</span>"
      ]
     },
     "metadata": {},
     "output_type": "display_data"
    },
    {
     "data": {
      "text/html": [
       "<span>2020-08-01 12:15:30Z</span>"
      ]
     },
     "metadata": {},
     "output_type": "display_data"
    }
   ],
   "metadata": {
    "dotnet_interactive": {
     "language": "csharp"
    }
   }
  },
  {
   "cell_type": "markdown",
   "source": [
    "### DateTimeKind\r\n",
    "\r\n",
    "A `DateTime` type carries a `Kind` property to indicate if it is a `Local` time or a reference to `Utc` time."
   ],
   "metadata": {}
  },
  {
   "cell_type": "code",
   "execution_count": null,
   "source": [
    "var thisDate = new DateTime(2021, 8, 10, 10, 0, 0);\r\n",
    "display(thisDate.Kind);"
   ],
   "outputs": [
    {
     "data": {
      "text/html": [
       "<span>Unspecified</span>"
      ]
     },
     "metadata": {},
     "output_type": "display_data"
    }
   ],
   "metadata": {
    "dotnet_interactive": {
     "language": "csharp"
    }
   }
  },
  {
   "cell_type": "code",
   "execution_count": null,
   "source": [
    "var utcNow = DateTime.UtcNow;\r\n",
    "display(thisDate.Kind);"
   ],
   "outputs": [
    {
     "data": {
      "text/html": [
       "<span>Unspecified</span>"
      ]
     },
     "metadata": {},
     "output_type": "display_data"
    }
   ],
   "metadata": {
    "dotnet_interactive": {
     "language": "csharp"
    }
   }
  },
  {
   "cell_type": "code",
   "execution_count": null,
   "source": [
    "var utcKindDate = new DateTime(2021, 8, 10, 10, 30, 0, DateTimeKind.Utc);\r\n",
    "display(utcKindDate.Kind);\r\n",
    "\r\n",
    "display(utcKindDate.ToLocalTime());\r\n",
    "display(utcKindDate.ToUniversalTime());"
   ],
   "outputs": [
    {
     "data": {
      "text/html": [
       "<span>Utc</span>"
      ]
     },
     "metadata": {},
     "output_type": "display_data"
    },
    {
     "data": {
      "text/html": [
       "<span>2021-08-10 06:30:00Z</span>"
      ]
     },
     "metadata": {},
     "output_type": "display_data"
    },
    {
     "data": {
      "text/html": [
       "<span>2021-08-10 10:30:00Z</span>"
      ]
     },
     "metadata": {},
     "output_type": "display_data"
    }
   ],
   "metadata": {
    "dotnet_interactive": {
     "language": "csharp"
    }
   }
  },
  {
   "cell_type": "markdown",
   "source": [
    "## Tuples\r\n",
    "\r\n",
    "A [Tuple](https://docs.microsoft.com/dotnet/csharp/language-reference/builtin-types/value-tuples?WT.mc_id=visualstudio-twitch-jefritz) can be used to group together related data elements in a lightweight structure.\r\n",
    "\r\n",
    "Use parenthesis with the value-types to combine:"
   ],
   "metadata": {}
  },
  {
   "cell_type": "code",
   "execution_count": null,
   "source": [
    "(int, int) point = (2, 3);\r\n",
    "display(point);"
   ],
   "outputs": [
    {
     "data": {
      "text/html": [
       "<table><thead><tr><th>Item1</th><th>Item2</th></tr></thead><tbody><tr><td><div class=\"dni-plaintext\">2</div></td><td><div class=\"dni-plaintext\">3</div></td></tr></tbody></table>"
      ]
     },
     "metadata": {},
     "output_type": "display_data"
    }
   ],
   "metadata": {
    "dotnet_interactive": {
     "language": "csharp"
    }
   }
  },
  {
   "cell_type": "markdown",
   "source": [
    "You can access the items in the Tuple with the Item# properties of the Tuple instance:"
   ],
   "metadata": {
    "dotnet_interactive": {
     "language": "csharp"
    }
   }
  },
  {
   "cell_type": "code",
   "execution_count": null,
   "source": [
    "display(point.Item1);\r\n",
    "display(point.Item2);"
   ],
   "outputs": [
    {
     "data": {
      "text/html": [
       "<div class=\"dni-plaintext\">2</div>"
      ]
     },
     "metadata": {},
     "output_type": "display_data"
    },
    {
     "data": {
      "text/html": [
       "<div class=\"dni-plaintext\">3</div>"
      ]
     },
     "metadata": {},
     "output_type": "display_data"
    }
   ],
   "metadata": {
    "dotnet_interactive": {
     "language": "csharp"
    }
   }
  },
  {
   "cell_type": "markdown",
   "source": [
    "Tuples can have names assigned to the properties as well:"
   ],
   "metadata": {
    "dotnet_interactive": {
     "language": "csharp"
    }
   }
  },
  {
   "cell_type": "code",
   "execution_count": null,
   "source": [
    "(decimal Latitude, decimal Longitude) Philadelphia = (39.95233m, -75.16379m);\r\n",
    "display(Philadelphia);\r\n",
    "\r\n",
    "display(Philadelphia.Latitude);\r\n",
    "display(Philadelphia.Longitude);"
   ],
   "outputs": [
    {
     "data": {
      "text/html": [
       "<table><thead><tr><th>Item1</th><th>Item2</th></tr></thead><tbody><tr><td><div class=\"dni-plaintext\">39.95233</div></td><td><div class=\"dni-plaintext\">-75.16379</div></td></tr></tbody></table>"
      ]
     },
     "metadata": {},
     "output_type": "display_data"
    },
    {
     "data": {
      "text/html": [
       "<div class=\"dni-plaintext\">39.95233</div>"
      ]
     },
     "metadata": {},
     "output_type": "display_data"
    },
    {
     "data": {
      "text/html": [
       "<div class=\"dni-plaintext\">-75.16379</div>"
      ]
     },
     "metadata": {},
     "output_type": "display_data"
    }
   ],
   "metadata": {
    "dotnet_interactive": {
     "language": "csharp"
    }
   }
  }
 ],
 "metadata": {
  "kernelspec": {
   "display_name": ".NET (C#)",
   "language": "C#",
   "name": ".net-csharp"
  },
  "language_info": {
   "file_extension": ".cs",
   "mimetype": "text/x-csharp",
   "name": "C#",
   "pygments_lexer": "csharp",
   "version": "8.0"
  }
 },
 "nbformat": 4,
 "nbformat_minor": 4
}