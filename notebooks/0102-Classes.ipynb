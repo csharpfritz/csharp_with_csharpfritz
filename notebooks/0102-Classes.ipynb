{
 "cells": [
  {
   "cell_type": "markdown",
   "metadata": {},
   "source": [
    "# Session 2: Making our own Types with Classes, and Scope\n",
    "\n",
    "C# is an object-oriented language in which everything is an object, with the type `object` as the most basic types that all other types inherit from. In this session, we will learn to create our own types and how they can relate to other types using Interfaces and various scopes.\n",
    "\n",
    "<div class=\"alert alert-block alert-info\">\n",
    "    Refer back to Session 1 for more details about built-in and primitive Types\n",
    "</div>\n",
    "\n",
    "## First, a word on memory utilization and garbage collection\n",
    "\n",
    "Memory with C# and .NET is dynamically allocated and reclaimed by the .NET runtime as you no longer reference variables.  The .NET **Garbage Collector** runs occasionally, freeing memory that was previously used by variables.  There are ways to tune the garbage collector and in-depth studies of how it manages memory that are much more advanced than this part of the series.  If you'd like to read more, check the [official .NET garbage collector documentation](https://docs.microsoft.com/dotnet/standard/garbage-collection/fundamentals?WT.mc_id=visualstudio-twitch-jefritz)\n",
    "\n",
    "## The Class keyword and defining reference types\n",
    "\n",
    "The `class` keyword is used to create the most common type, a reference type, that you can create and interact with using C#.  As a reference type, every instance of your classes will be stored on the memory heap.\n",
    "\n",
    "Classes are declared with a name, a block of content, and with one or more access modifiers.  That syntax is followed by curly-braces `{ }` that enclose the contents of the class definition.  Let's declare our first class for use in this notebook:"
   ]
  },
  {
   "cell_type": "code",
   "execution_count": 1,
   "metadata": {},
   "outputs": [
    {
     "data": {
      "text/html": [
       "\r\n",
       "<div>\r\n",
       "    <div id='dotnet-interactive-this-cell-16201.0161ff5504434e90884916e4307b5e85' style='display: none'>\r\n",
       "        The below script needs to be able to find the current output cell; this is an easy method to get it.\r\n",
       "    </div>\r\n",
       "    <script type='text/javascript'>\r\n",
       "// ensure `require` is available globally\r\n",
       "if (typeof require !== typeof Function || typeof require.config !== typeof Function) {\r\n",
       "    let require_script = document.createElement('script');\r\n",
       "    require_script.setAttribute('src', 'https://cdnjs.cloudflare.com/ajax/libs/require.js/2.3.6/require.min.js');\r\n",
       "    require_script.setAttribute('type', 'text/javascript');\r\n",
       "    require_script.onload = function () {\r\n",
       "        loadDotnetInteractiveApi();\r\n",
       "    };\r\n",
       "\r\n",
       "    document.getElementsByTagName('head')[0].appendChild(require_script);\r\n",
       "}\r\n",
       "else {\r\n",
       "    loadDotnetInteractiveApi();\r\n",
       "}\r\n",
       "\r\n",
       "async function probeAddresses(probingAddresses) {\r\n",
       "    function timeout(ms, promise) {\r\n",
       "        return new Promise(function (resolve, reject) {\r\n",
       "            setTimeout(function () {\r\n",
       "                reject(new Error('timeout'))\r\n",
       "            }, ms)\r\n",
       "            promise.then(resolve, reject)\r\n",
       "        })\r\n",
       "    }\r\n",
       "\r\n",
       "    if (Array.isArray(probingAddresses)) {\r\n",
       "        for (let i = 0; i < probingAddresses.length; i++) {\r\n",
       "\r\n",
       "            let rootUrl = probingAddresses[i];\r\n",
       "\r\n",
       "            if (!rootUrl.endsWith('/')) {\r\n",
       "                rootUrl = `${rootUrl}/`;\r\n",
       "            }\r\n",
       "\r\n",
       "            try {\r\n",
       "                let response = await timeout(1000, fetch(`${rootUrl}discovery`, {\r\n",
       "                    method: 'POST',\r\n",
       "                    cache: 'no-cache',\r\n",
       "                    mode: 'cors',\r\n",
       "                    timeout: 1000,\r\n",
       "                    headers: {\r\n",
       "                        'Content-Type': 'text/plain'\r\n",
       "                    },\r\n",
       "                    body: probingAddresses[i]\r\n",
       "                }));\r\n",
       "\r\n",
       "                if (response.status == 200) {\r\n",
       "                    return rootUrl;\r\n",
       "                }\r\n",
       "            }\r\n",
       "            catch (e) { }\r\n",
       "        }\r\n",
       "    }\r\n",
       "}\r\n",
       "\r\n",
       "function loadDotnetInteractiveApi() {\r\n",
       "    probeAddresses([\"http://192.168.1.151:1024/\", \"http://127.0.0.1:1024/\"])\r\n",
       "        .then((root) => {\r\n",
       "            // use probing to find host url and api resources\r\n",
       "            // load interactive helpers and language services\r\n",
       "            let dotnetInteractiveRequire = require.config({\r\n",
       "                context: '16201.0161ff5504434e90884916e4307b5e85',\r\n",
       "                paths: {\r\n",
       "                    'dotnet-interactive': `${root}resources`\r\n",
       "                }\r\n",
       "            }) || require;\r\n",
       "\r\n",
       "            let dotnetInteractiveExtensionsRequire = require.config({\r\n",
       "                context: '16201.0161ff5504434e90884916e4307b5e85',\r\n",
       "                paths: {\r\n",
       "                    'dotnet-interactive-extensions': `${root}extensions`\r\n",
       "                }\r\n",
       "            }) || require;\r\n",
       "            if (!window.dotnetInteractiveRequire) {\r\n",
       "                window.dotnetInteractiveRequire = dotnetInteractiveRequire;\r\n",
       "            }\r\n",
       "\r\n",
       "            if (!window.dotnetInteractiveExtensionsRequire) {\r\n",
       "                window.dotnetInteractiveExtensionsRequire = dotnetInteractiveExtensionsRequire;\r\n",
       "            }\r\n",
       "\r\n",
       "            window.getExtensionRequire = function(extensionName, extensionCacheBuster) {\r\n",
       "                let paths = {};\r\n",
       "                paths[extensionName] = `${root}extensions/${extensionName}/resources/`;\r\n",
       "                \r\n",
       "                let internalRequire = require.config({\r\n",
       "                    context: extensionCacheBuster,\r\n",
       "                    paths: paths,\r\n",
       "                    urlArgs: `cacheBuster=${extensionCacheBuster}`\r\n",
       "                    }) || require;\r\n",
       "\r\n",
       "                return internalRequire\r\n",
       "            };\r\n",
       "        \r\n",
       "            dotnetInteractiveRequire([\r\n",
       "                    'dotnet-interactive/dotnet-interactive'\r\n",
       "                ],\r\n",
       "                function (dotnet) {\r\n",
       "                    dotnet.init(window);\r\n",
       "                },\r\n",
       "                function (error) {\r\n",
       "                    console.log(error);\r\n",
       "                }\r\n",
       "            );\r\n",
       "        })\r\n",
       "        .catch(error => {console.log(error);});\r\n",
       "    }\r\n",
       "    </script>\r\n",
       "</div>"
      ]
     },
     "metadata": {},
     "output_type": "display_data"
    }
   ],
   "source": [
    "class Student \n",
    "{\n",
    "    \n",
    "}"
   ]
  },
  {
   "cell_type": "markdown",
   "metadata": {},
   "source": [
    "This class, named `Student` has no modifiers and no content.  By default, classes are `internal` in scope - meaning that they can only be interacted with by other classes in the same library or program.  You can explicitly use the `internal` keyword before the `class` keyword to ensure that your class declaration is internal in scope.\n",
    "\n",
    "Classes are typically written into their own files, one class per file, with the filename matching the name of the class inside.  In this case, we would create `Student.cs`\n",
    "\n",
    "Classes can also be made `public`, allowing access from outside the library or program that they are compiled with.  Inside the class, you can declare and add features like:\n",
    "\n",
    "- **Constructors:** A method that is used to create an instance of the class\n",
    "- **Finalizers:** A method that is called when the class is cleaned up by the garbage collector\n",
    "- **Fields:** A variable owned by the class and typically used in `private` or `protected` scope, `private` by default when no access modeifier is used\n",
    "- **Constants:** Values defined at compile time that never change for the life of the program\n",
    "- **Properties:** A flexible mechanism that allows interaction with values stored in a class\n",
    "- **Methods:** An action-taking code block that contains multiple statements, can accept parameters, and can return values\n",
    "- **Events:** An interaction point that allows for notification of other classes when something of interest occurs\n",
    "- **Delegates:** A type that can reference a method based on matching parameters and return types \n",
    "- **Operators:** Defines how the class interacts with the various built-in .NET/C# operators \n",
    "\n",
    "Let's add some properties and a constructor to our `Student` class:"
   ]
  },
  {
   "cell_type": "code",
   "execution_count": 10,
   "metadata": {},
   "outputs": [
    {
     "data": {
      "text/html": [
       "<table><thead><tr><th>FirstName</th><th>LastName</th><th>Age</th><th>IsEnrolled</th></tr></thead><tbody><tr><td>Mary</td><td>Contrary</td><td>25</td><td>True</td></tr></tbody></table>"
      ]
     },
     "metadata": {},
     "output_type": "display_data"
    },
    {
     "data": {
      "text/html": [
       "<table><thead><tr><th>FirstName</th><th>LastName</th><th>Age</th><th>IsEnrolled</th></tr></thead><tbody><tr><td>nfg</td><td>Codex</td><td>20</td><td>False</td></tr></tbody></table>"
      ]
     },
     "metadata": {},
     "output_type": "display_data"
    }
   ],
   "source": [
    "internal class Student \n",
    "{\n",
    "\n",
    "    /* A publicly accessible constructor that doesn't do anything.  \n",
    "    \n",
    "    This public constructor is created by default by the compiler, and does not need to\n",
    "    explicitly be added if no action methods take place during construction\n",
    "    */\n",
    "    public Student() \n",
    "    { \n",
    "    }\n",
    "\n",
    "    // Simple publicly accessible properties that define the FirstName, LastName, and Age\n",
    "    // of our Student\n",
    "    public string FirstName { get; set; }\n",
    "    public string LastName { get; set; }\n",
    "    public int Age { get; set; }\n",
    "    public bool IsEnrolled { get; set; }\n",
    "    \n",
    "}\n",
    "\n",
    "// Create a new Student object and assign it to the variable name `s`\n",
    "var s = new Student();\n",
    "s.FirstName = \"Mary\";\n",
    "s.LastName = \"Contrary\";\n",
    "s.Age = 25;\n",
    "s.IsEnrolled = true;\n",
    "\n",
    "display(s);   // This is NOT a C# or .NET function, but rather a Jupyter notebook feature to display \n",
    "              //the content inside parenthesis ( )\n",
    "    \n",
    "var codex = new Student() {\n",
    "    FirstName = \"nfg\",\n",
    "    LastName = \"Codex\",\n",
    "    Age = 20,\n",
    "    IsEnrolled = false\n",
    "};\n",
    "display(codex);\n",
    "    "
   ]
  },
  {
   "cell_type": "markdown",
   "metadata": {},
   "source": [
    "There's more intformation in the [class keyword reference in the official documentation](https://docs.microsoft.com/dotnet/csharp/language-reference/keywords/class?WT.mc_id=visualstudio-twitch-jefritz)\n",
    "\n",
    "## Constructors\n",
    "\n",
    "Constructors are an active block of code that is defined with an access modifier and optionally some parameters to help with the initialization of the object.  In the above class, our constructor does not take any arguments and it publicly accessible - any code can use that constructor to create an instance of this class.\n",
    "\n",
    "The `var s = new Student();` statement creates a new Student object and calls the constructor method.  We can have our `Student` class do some initialization there if it makes sense in configuring the object."
   ]
  },
  {
   "cell_type": "code",
   "execution_count": 3,
   "metadata": {},
   "outputs": [
    {
     "data": {
      "text/html": [
       "<table><thead><tr><th>FirstName</th><th>LastName</th><th>Age</th><th>IsEnrolled</th></tr></thead><tbody><tr><td><div class=\"dni-plaintext\">Joe</div></td><td><div class=\"dni-plaintext\">Bag O&#39;Donuts</div></td><td><div class=\"dni-plaintext\">30</div></td><td><div class=\"dni-plaintext\">True</div></td></tr></tbody></table>"
      ]
     },
     "metadata": {},
     "output_type": "display_data"
    }
   ],
   "source": [
    "public class Student {\n",
    "    \n",
    "    public Student() \n",
    "    {\n",
    " \n",
    "        // A student is enrolled by default\n",
    "        IsEnrolled = true;\n",
    "        \n",
    "    }\n",
    "    \n",
    "    public string FirstName { get; set; }\n",
    "    public string LastName { get; set; }\n",
    "    public int Age { get; set; }\n",
    "    public bool IsEnrolled { get; set; }\n",
    "    \n",
    "}\n",
    "    \n",
    "// Create a new Student object and assign it to the variable name `s`\n",
    "var s = new Student();\n",
    "s.FirstName = \"Joe\";\n",
    "s.LastName = \"Bag O'Donuts\";\n",
    "s.Age = 30;\n",
    "\n",
    "display(s)"
   ]
  },
  {
   "cell_type": "markdown",
   "metadata": {},
   "source": [
    "Try adding other initialization values in the constructor method and tinkering with the output.\n",
    "\n",
    "Constructors can also be **overloaded**, that is, you can create multiple constructors that accept various input parameters to allow your class to be created different ways.  Let's revisit our student and add a constructor with input variables for age, since every student has an age."
   ]
  },
  {
   "cell_type": "code",
   "execution_count": 14,
   "metadata": {},
   "outputs": [
    {
     "data": {
      "text/html": [
       "<table><thead><tr><th>FirstName</th><th>LastName</th><th>Age</th><th>IsEnrolled</th></tr></thead><tbody><tr><td>Jeff</td><td>Fritz</td><td>30</td><td>True</td></tr></tbody></table>"
      ]
     },
     "metadata": {},
     "output_type": "display_data"
    }
   ],
   "source": [
    "public class Student {\n",
    "    \n",
    "\n",
    "    public Student(string firstName, string lastName, int age) \n",
    "    {\n",
    "        \n",
    "        this.FirstName = firstName;\n",
    "        this.LastName = lastName;\n",
    "        this.Age = age;\n",
    "        \n",
    "         // A student is enrolled by default\n",
    "        IsEnrolled = true;\n",
    "        \n",
    "    }\n",
    "    \n",
    "    public string FirstName { get; set; }\n",
    "    public string LastName { get; set; }\n",
    "    public int Age { get; set; }\n",
    "    public bool IsEnrolled { get; set; }\n",
    "    \n",
    "}\n",
    "    \n",
    "// Create a new Student object and assign it to the variable name `s`\n",
    "var s = new Student(\"Jeff\", \"Fritz\", 30);\n",
    "\n",
    "display(s)"
   ]
  },
  {
   "cell_type": "markdown",
   "metadata": {},
   "source": [
    "Improve the above code to ensure that EVERY student created has a name and an age. \n",
    "\n",
    "### Chaining Constructors\n",
    "\n",
    "Constructors can call other constructors.  That sounds strange, but makes sense if you have constructor methods that each provide a part of the definition of the class.  You can call the other constructors by use the `: this()` method suffix.  Let's improve our `Student` class from above to call the parameterless constructor from the constructor that takes an age parameter.   "
   ]
  },
  {
   "cell_type": "code",
   "execution_count": 17,
   "metadata": {},
   "outputs": [
    {
     "data": {
      "text/plain": [
       "Running the parameterless constructor"
      ]
     },
     "metadata": {},
     "output_type": "display_data"
    },
    {
     "data": {
      "text/plain": [
       "Running the Age constructor"
      ]
     },
     "metadata": {},
     "output_type": "display_data"
    },
    {
     "data": {
      "text/html": [
       "<table><thead><tr><th>FirstName</th><th>LastName</th><th>Age</th><th>IsEnrolled</th></tr></thead><tbody><tr><td>&lt;null&gt;</td><td>&lt;null&gt;</td><td>30</td><td>True</td></tr></tbody></table>"
      ]
     },
     "metadata": {},
     "output_type": "display_data"
    }
   ],
   "source": [
    "public class Student {\n",
    "    \n",
    "    public Student() \n",
    "    {\n",
    " \n",
    "        // A student is enrolled by default\n",
    "        display(\"Running the parameterless constructor\");\n",
    "        IsEnrolled = true;\n",
    "        \n",
    "    }\n",
    "    \n",
    "    public Student(int age) : this()\n",
    "    {\n",
    "        \n",
    "        this.Age = age;\n",
    "        display(\"Running the Age constructor\");\n",
    "        \n",
    "    }\n",
    "    \n",
    "    public string FirstName { get; set; }\n",
    "    public string LastName { get; set; }\n",
    "    public int Age { get; set; }\n",
    "    public bool IsEnrolled { get; set; }\n",
    "    \n",
    "}\n",
    "    \n",
    "// Create a new Student object and assign it to the variable name `s`\n",
    "var s = new Student(30);\n",
    "\n",
    "display(s)"
   ]
  },
  {
   "cell_type": "markdown",
   "metadata": {},
   "source": [
    "Now we can see that our properties are being initialized properly and the second constructor is called even though we are only triggered the constructor with the age.\n",
    "\n",
    "Try setting the parameterless constructor to call the age-parameter constructor.  What happens?\n",
    "\n",
    "## Properties\n",
    "\n",
    "We've already seen some properties, [_auto-implemented_ properties](https://docs.microsoft.com/dotnet/csharp/programming-guide/classes-and-structs/auto-implemented-properties?WT.mc_id=visualstudio-twitch-jefritz) in our `Student` class.  These declarations of a type with an access modifier and `{ get; set; }` means that these are properties that can be read and written to in our class.  Besides `public`, properties can be declared with `private`, `internal`, `protected`, and `protected internal` scope.  We already know what `private` and `internal` are, but `protected` and `protected internal` grant access to the property to classes that **inherit** from this class.  We'll learn more about inheritance in a future lesson.\n",
    "\n",
    "The Properties are able to be assigned to _INSIDE_ our class by using `this.PROPERTYNAME = value` notation.  We're able to read and write the property value with similar notation as noted in the previous samples.\n",
    "\n",
    "What if we wanted to do **MORE** with our properties when we set and retrieve their values?  Let's take a look at making the `Age` property only capable of being set internally to our Student class.  We can do this by adding an access modifier to the `set` statement."
   ]
  },
  {
   "cell_type": "code",
   "execution_count": 29,
   "metadata": {},
   "outputs": [
    {
     "data": {
      "text/html": [
       "<table><thead><tr><th>FirstName</th><th>LastName</th><th>Age</th><th>IsEnrolled</th></tr></thead><tbody><tr><td>&lt;null&gt;</td><td>&lt;null&gt;</td><td>30</td><td>True</td></tr></tbody></table>"
      ]
     },
     "metadata": {},
     "output_type": "display_data"
    }
   ],
   "source": [
    "public class Student {\n",
    "    \n",
    "    private Student() { IsEnrolled = true; }\n",
    "    \n",
    "    public Student(int age) : this()\n",
    "    {\n",
    "        \n",
    "        this.Age = age;\n",
    "        \n",
    "    }\n",
    "    \n",
    "    public string FirstName { get; set; }\n",
    "    public string LastName { get; set; }\n",
    "    internal int Age { get; private set; }\n",
    "    public bool IsEnrolled { get; set; }\n",
    "    \n",
    "}\n",
    "    \n",
    "// Create a new Student object and assign it to the variable name `s`\n",
    "var s = new Student(30);\n",
    "display(s);\n",
    "\n",
    "//s.Age = 25;\n",
    "//display(s);\n"
   ]
  },
  {
   "cell_type": "markdown",
   "metadata": {},
   "source": [
    "Perhaps we know the birthdate of all students is June 1, 2000.  We could update our `Age` property to remove the `SET` operation and make it only a `GET` with a calculation against the known birthdate. "
   ]
  },
  {
   "cell_type": "code",
   "execution_count": 41,
   "metadata": {},
   "outputs": [
    {
     "data": {
      "text/html": [
       "<table><thead><tr><th>FirstName</th><th>LastName</th><th>Age</th><th>IsEnrolled</th></tr></thead><tbody><tr><td>&lt;null&gt;</td><td>&lt;null&gt;</td><td>19</td><td>True</td></tr></tbody></table>"
      ]
     },
     "metadata": {},
     "output_type": "display_data"
    }
   ],
   "source": [
    "public class Student {\n",
    "    \n",
    "    public Student() { IsEnrolled = true; }\n",
    "    \n",
    "    public string FirstName { get; set; }\n",
    "    public string LastName { get; set; } \n",
    "    \n",
    "    public int Age { \n",
    "        get \n",
    "        {\n",
    "            // Total days / 365 to convert to years... not 100% accurate, but close enough for a demo\n",
    "            return (int)Math.Floor(DateTime.Now.Subtract(new DateTime(2000, 6, 1)).TotalDays / 365d);\n",
    "        } \n",
    "    }\n",
    "    public bool IsEnrolled { get; set; }\n",
    "    \n",
    "}\n",
    "    \n",
    "// Create a new Student object and assign it to the variable name `s`\n",
    "var s = new Student();\n",
    "//s.Age = 30;\n",
    "\n",
    "display(s)"
   ]
  },
  {
   "cell_type": "markdown",
   "metadata": {},
   "source": [
    "### Default Values or Initializing Auto-Implemented Properties\n",
    "\n",
    "There are a few techniques that you can use to set default or initial values for properties when a class is created.  This initial or default value can be overwritten with a different value once the class has been created.\n",
    "\n",
    "We've seen an approach previously in the samples here where the `IsEnrolled` property is set to `true` in the constructor.  Additionally, you can add the `=` equals operator with an initial value after a property definition to set the initial or default value."
   ]
  },
  {
   "cell_type": "code",
   "execution_count": 53,
   "metadata": {},
   "outputs": [
    {
     "data": {
      "text/html": [
       "<table><thead><tr><th>FirstName</th><th>LastName</th><th>Age</th><th>IsEnrolled</th></tr></thead><tbody><tr><td>&lt;null&gt;</td><td>&lt;null&gt;</td><td>0</td><td>True</td></tr></tbody></table>"
      ]
     },
     "metadata": {},
     "output_type": "display_data"
    }
   ],
   "source": [
    "public class Student {\n",
    "    \n",
    "    public string FirstName { get; set; }\n",
    "    public string LastName { get; set; } \n",
    "    public int Age { get; set; }\n",
    "    \n",
    "    // Define the IsEnrolled property with a default value of True\n",
    "    public bool IsEnrolled { get; set; } = true;\n",
    "    \n",
    "}\n",
    "    \n",
    "// Create a new Student object and inspect the value of the Student to see if IsEnrolled is set to true\n",
    "var s = new Student();\n",
    "\n",
    "display(s)"
   ]
  },
  {
   "cell_type": "markdown",
   "metadata": {},
   "source": [
    "### Expression Body Definitions for Properties\n",
    "\n",
    "You will see folks refer to the `=>` operator as the **fat-arrow** operator and C# folks will read this operator as \"such that\" with an expression on the right side with some code to be executed when interacting with the property.  This [expression body definition](https://docs.microsoft.com/dotnet/csharp/programming-guide/classes-and-structs/properties?WT.mc_id=visualstudio-twitch-jefritz#expression-body-definitions) allows for a very terse expression of what to do when interacting with the property.\n",
    "\n",
    "We can use these expression body definitions for `get`, `set` and the property itself.  Take a look at the following sample code:"
   ]
  },
  {
   "cell_type": "code",
   "execution_count": 56,
   "metadata": {},
   "outputs": [
    {
     "data": {
      "text/html": [
       "<table><thead><tr><th>FirstName</th><th>LastName</th><th>Name</th><th>Age</th><th>IsEnrolled</th></tr></thead><tbody><tr><td>Sally</td><td>Smith</td><td>Sally Smith</td><td>20</td><td>True</td></tr></tbody></table>"
      ]
     },
     "metadata": {},
     "output_type": "display_data"
    }
   ],
   "source": [
    "public class Student {\n",
    "    \n",
    "    public string FirstName { get; set; }\n",
    "    public string LastName { get; set; } \n",
    "    \n",
    "    // Let's create a simple GET that puts together the full-name of our student\n",
    "    public string Name {\n",
    "        get => FirstName + \" \" + LastName;\n",
    "    }\n",
    "    \n",
    "    // Total days / 365 to convert to years... not 100% accurate, but close enough for a demo\n",
    "    // Read-only and property that is calculated each time it is accessed\n",
    "    public int Age => (int)Math.Floor(DateTime.Now.Subtract(new DateTime(2000, 6, 1)).TotalDays / 365d);\n",
    "\n",
    "    // Default value set to True\n",
    "    public bool IsEnrolled { get; set; } = true;\n",
    "    \n",
    "}\n",
    "    \n",
    "// Create a new Student object and assign it to the variable name `s`\n",
    "var s = new Student();\n",
    "s.FirstName = \"Sally\";\n",
    "s.LastName = \"Smith\";\n",
    "\n",
    "display(s)"
   ]
  },
  {
   "cell_type": "markdown",
   "metadata": {},
   "source": [
    "## Fields\n",
    "\n",
    "Working with the fixed birthdate in the previous example is a bit clumsy.  We would REALLY like to have a `BirthDate` value stored with our class and the `Age` calculated off of that.  **Fields** are variables that belong to the class and can be accessed depending on their access modifier.  Some of the supported access modifiers include\n",
    "\n",
    "- **private** fields can be accessed anywhere _inside_ the class\n",
    "- **public** fields can be accessed by any code that can interact with the class\n",
    "- **internal** fields can be accessed by any code inside the current library or program\n",
    "\n",
    "Let's update that last sample with a `BirthDate` field and a constructor that accepts a `birthDate` parameter."
   ]
  },
  {
   "cell_type": "code",
   "execution_count": 8,
   "metadata": {},
   "outputs": [
    {
     "data": {
      "text/html": [
       "<div class=\"dni-plaintext\">16</div>"
      ]
     },
     "metadata": {},
     "output_type": "display_data"
    }
   ],
   "source": [
    "public class Student {\n",
    "    \n",
    "    // The new BirthDate field is declared with its Type and Access Modifier explicitly\n",
    "    private DateTime BirthDate;\n",
    "    \n",
    "    public Student(DateTime birthDate) \n",
    "    {\n",
    "        this.BirthDate = birthDate;\n",
    "    }\n",
    "    \n",
    "    public string FirstName { get; set; }\n",
    "    public string LastName { get; set; }\n",
    "    \n",
    "    // Total days / 365 to convert to years... not 100% accurate, but close enough for a demo\n",
    "    public int Age => (int)Math.Floor(DateTime.Now.Subtract(BirthDate).TotalDays / 365d);\n",
    "    public bool IsEnrolled { get; set; } = true;\n",
    "    \n",
    "}\n",
    "    \n",
    "// Create a new Student object and assign it to the variable name `s`\n",
    "var s = new Student(new DateTime(2003, 10, 1));\n",
    "\n",
    "display(s.Age)"
   ]
  },
  {
   "cell_type": "markdown",
   "metadata": {},
   "source": [
    "### Encapsulation\n",
    "\n",
    "A technique that you may want to use to interact with your properties and their persisted values with backing fields.  This technique is called **encapsulation** and was originally the only way to create properties.  Consider the `FirstName` property in the below sample.  The value is stored and fetched from the `_FirstName` field.\n",
    "\n",
    "The `LastName` property also encapsulates the `_LastName` field, but we have added a notification message (this `display` command is specific to Jupyter notebooks) to report when the `LastName` property is modified.\n"
   ]
  },
  {
   "cell_type": "code",
   "execution_count": 58,
   "metadata": {},
   "outputs": [
    {
     "data": {
      "text/plain": [
       "Name change notification!"
      ]
     },
     "metadata": {},
     "output_type": "display_data"
    },
    {
     "data": {
      "text/html": [
       "<table><thead><tr><th>FirstName</th><th>LastName</th><th>Age</th><th>IsEnrolled</th></tr></thead><tbody><tr><td>&lt;null&gt;</td><td>Fritz</td><td>16</td><td>True</td></tr></tbody></table>"
      ]
     },
     "metadata": {},
     "output_type": "display_data"
    }
   ],
   "source": [
    "public class Student {\n",
    "    \n",
    "    // The new BirthDate field is declared with its Type and Access Modifier explicitly\n",
    "    private DateTime BirthDate;\n",
    "    private string _FirstName;\n",
    "    private string _LastName;\n",
    "    \n",
    "    public Student(string firstName, string lastName, DateTime birthDate) \n",
    "    {\n",
    "        this.BirthDate = birthDate;\n",
    "    }\n",
    "    \n",
    "    // The FirstName property is ENCAPSULATED in the _FirstName field\n",
    "    public string FirstName { \n",
    "        get { return _FirstName; }\n",
    "        set { _FirstName = value; }\n",
    "    }\n",
    "    \n",
    "    // Using encapsulation techniques like this allows us to add code to take actions when the property is interacted with\n",
    "    // ... In this case, we're notifying when the LastName is changed.\n",
    "    public string LastName { \n",
    "        get { return _LastName; }\n",
    "        set { \n",
    "            // Notify the teachers about the name change\n",
    "            display(\"Name change notification!\");\n",
    "            _LastName = value; \n",
    "        }\n",
    "    }\n",
    "    \n",
    "    // Total days / 365 to convert to years... not 100% accurate, but close enough for a demo\n",
    "    public int Age => (int)Math.Floor(DateTime.Now.Subtract(BirthDate).TotalDays / 365d);\n",
    "    public bool IsEnrolled { get; set; } = true;\n",
    "    \n",
    "}\n",
    "    \n",
    "// Create a new Student object and assign it to the variable name `s`\n",
    "var s = new Student(\"Jeff\", \"Stevens\", new DateTime(2003, 10, 1));\n",
    "s.LastName = \"Fritz\";\n",
    "\n",
    "display(s)"
   ]
  },
  {
   "cell_type": "markdown",
   "metadata": {},
   "source": [
    "## Constants\n",
    "\n",
    "Constants are values that are defined at compile time and do not change for the life of the application.  The `const` keyword declares the constant with access modifiers and variable type.  From outside the class, you can then access the constant value using the name of the class and only the constant name from inside the class.  \n",
    "\n",
    "More details about [constants](https://docs.microsoft.com/dotnet/csharp/programming-guide/classes-and-structs/constants?WT.mc_id=visualstudio-twitch-jefritz) are available in the official documentation."
   ]
  },
  {
   "cell_type": "code",
   "execution_count": 62,
   "metadata": {},
   "outputs": [
    {
     "data": {
      "text/plain": [
       "From the constructor, the maximum years enrolled: 5"
      ]
     },
     "metadata": {},
     "output_type": "display_data"
    },
    {
     "data": {
      "text/html": [
       "5"
      ]
     },
     "metadata": {},
     "output_type": "display_data"
    }
   ],
   "source": [
    "public class Student {\n",
    "    \n",
    "    // The new BirthDate field is declared with its Type and Access Modifier explicitly\n",
    "    private DateTime BirthDate;\n",
    "    private string _FirstName;\n",
    "    private string _LastName;\n",
    "    \n",
    "    // Here is a publicly accessible constant\n",
    "    public const int MaximumYearsEnrolled = 5;\n",
    "    \n",
    "    public Student() { IsEnrolled = true; }\n",
    "    public Student(string firstName, string lastName, DateTime birthDate) : this() \n",
    "    {\n",
    "        this.BirthDate = birthDate;\n",
    "        \n",
    "        // We access the constant here by using its name\n",
    "        display(\"From the constructor, the maximum years enrolled: \" + MaximumYearsEnrolled);\n",
    "    }\n",
    "    \n",
    "    public string FirstName {  get; set; }\n",
    "    public string LastName { get; set; }\n",
    "    public int Age { get; set; }\n",
    "    public bool IsEnrolled { get; set; }\n",
    "    \n",
    "}\n",
    "    \n",
    "// Create a new Student object and assign it to the variable name `s`\n",
    "var s = new Student(\"Jeff\", \"Stevens\", new DateTime(2003, 10, 1));\n",
    "\n",
    "// We can display the constant here \n",
    "display(Student.MaximumYearsEnrolled);\n",
    "    \n",
    "// This does not work, as the constant is only accessible through the use of the Student typename\n",
    "// display(s.MaximumYearsEnrolled);\n",
    "\n",
    "// This also does not work, as constants cannot be modified.  Try un-commenting and running.\n",
    "// Student.MaximumYearsEnrolled = 7;\n",
    "    "
   ]
  }
 ],
 "metadata": {
  "kernelspec": {
   "display_name": ".NET (C#)",
   "language": "C#",
   "name": ".net-csharp"
  },
  "language_info": {
   "file_extension": ".cs",
   "mimetype": "text/x-csharp",
   "name": "C#",
   "pygments_lexer": "csharp",
   "version": "8.0"
  }
 },
 "nbformat": 4,
 "nbformat_minor": 4
}
