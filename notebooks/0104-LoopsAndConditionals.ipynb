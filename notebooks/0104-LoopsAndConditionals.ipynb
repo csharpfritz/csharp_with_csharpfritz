{
 "cells": [
  {
   "cell_type": "markdown",
   "metadata": {},
   "source": [
    "# Session 4: Loops and Conditionals\n",
    "\n",
    "Common to every programming language are the concepts of loops or repeated execution of the same block of code and conditional execution of code.  These features are typically manifest as the following statements:\n",
    "\n",
    "- `for` \n",
    "- `while`\n",
    "- `do`\n",
    "- `if`\n",
    "- `switch` or `case`\n",
    "\n",
    "## Conditionals\n",
    "\n",
    "There are two statement-level conditional interactions in C#:  `if` and `switch...case` statements.  `If` statements can be combined with any number of `else if` statements and a single `else` statement to route code flow and interactions across branches of code.  ([Link to official docs](https://docs.microsoft.com/dotnet/csharp/language-reference/keywords/if-else?WT.mc_id=visualstudio-twitch-jefritz))\n",
    "\n",
    "Let's take a look at a simple `if` statement.  You can re-run this code by clicking on the code and clicking the 'Play' button above or using the `Ctrl+Enter` hotkey"
   ]
  },
  {
   "cell_type": "code",
   "execution_count": null,
   "metadata": {
    "dotnet_interactive": {
     "language": "csharp"
    }
   },
   "outputs": [
    {
     "data": {
      "text/plain": [
       "Current seconds: 47"
      ]
     },
     "metadata": {},
     "output_type": "display_data"
    }
   ],
   "source": [
    "var seconds = DateTime.Now.Second;\n",
    "display(\"Current seconds: \" + seconds);\n",
    "\n",
    "// A simple test, are the number of seconds a multiple of 2?\n",
    "if ( seconds % 2 == 0 ) {\n",
    "    \n",
    "    // Do this thing when seconds are even\n",
    "    display(\"seconds are even\");\n",
    "    \n",
    "}"
   ]
  },
  {
   "cell_type": "markdown",
   "metadata": {},
   "source": [
    "The `if` statement starts with the if keyword and continues with a test in parenthesis.  Next, the code to be executed if the test evaluates to true is contained within curly braces `{ }`.  The use of braces is optional, as long as the code to be executed is a single line."
   ]
  },
  {
   "cell_type": "code",
   "execution_count": null,
   "metadata": {
    "dotnet_interactive": {
     "language": "csharp"
    }
   },
   "outputs": [
    {
     "data": {
      "text/plain": [
       "Current seconds: 58"
      ]
     },
     "metadata": {},
     "output_type": "display_data"
    },
    {
     "data": {
      "text/plain": [
       "Seconds are even"
      ]
     },
     "metadata": {},
     "output_type": "display_data"
    },
    {
     "data": {
      "text/plain": [
       "This will always execute, even though it LOOKS LIKE its in the if statement"
      ]
     },
     "metadata": {},
     "output_type": "display_data"
    }
   ],
   "source": [
    "var seconds = DateTime.Now.Second;\n",
    "display(\"Current seconds: \" + seconds);\n",
    "\n",
    "// One line if statement\n",
    "if (seconds % 2 == 0) display(\"Seconds are even\");\n",
    "\n",
    "if (seconds % 2 == 1)\n",
    "    display(\"Seconds are odd\");\n",
    "\n",
    "\n",
    "    display(\"This will always execute, even though it LOOKS LIKE its in the if statement\");"
   ]
  },
  {
   "cell_type": "markdown",
   "metadata": {},
   "source": [
    "Great, if the condition is met we can execute some code.  What if we need some more complex branching and potentially apply secondary tests and code if those tests return false?  We can start using the `else` and `else if` syntax to add these additional branches of code to be executed. \n",
    "\n",
    "Let's look a more complex branching scenario:"
   ]
  },
  {
   "cell_type": "code",
   "execution_count": null,
   "metadata": {
    "dotnet_interactive": {
     "language": "csharp"
    }
   },
   "outputs": [
    {
     "data": {
      "text/plain": [
       "Current seconds: 45"
      ]
     },
     "metadata": {},
     "output_type": "display_data"
    },
    {
     "data": {
      "text/plain": [
       "Seconds are a multiple of 3"
      ]
     },
     "metadata": {},
     "output_type": "display_data"
    },
    {
     "data": {
      "text/plain": [
       "Seconds are a multiple of 3"
      ]
     },
     "metadata": {},
     "output_type": "display_data"
    }
   ],
   "source": [
    "var seconds = DateTime.Now.Second;\n",
    "display(\"Current seconds: \" + seconds);\n",
    "\n",
    "if (seconds % 2 == 0) {\n",
    "    display(\"Seconds are even\");\n",
    "} else if (seconds % 3 == 0) {\n",
    "    display(\"Seconds are a multiple of 3\");\n",
    "} else if (seconds % 5 == 0) {\n",
    "    display(\"Seconds are a multiple of 5\");\n",
    "} else {\n",
    "    display(\"Seconds are neither even nor a multiple of 3\");\n",
    "}\n",
    "\n",
    "if (seconds % 2 == 0)          display(\"Seconds are even\");\n",
    "else if (seconds % 3 == 0)     display(\"Seconds are a multiple of 3\");\n",
    "else if (seconds % 5 == 0)     display(\"Seconds are a multiple of 5\");\n",
    "else                           display(\"Seconds are neither even nor a multiple of 3\");\n"
   ]
  },
  {
   "cell_type": "code",
   "execution_count": null,
   "metadata": {
    "dotnet_interactive": {
     "language": "csharp"
    }
   },
   "outputs": [
    {
     "data": {
      "text/plain": [
       "Current seconds: 40"
      ]
     },
     "metadata": {},
     "output_type": "display_data"
    },
    {
     "data": {
      "text/plain": [
       "Seconds are even"
      ]
     },
     "metadata": {},
     "output_type": "display_data"
    }
   ],
   "source": [
    "public class MyTimeDisplay {\n",
    "    \n",
    "    public string CalculateMessage() {\n",
    "\n",
    "        var outValue = \"\";\n",
    "        \n",
    "        var seconds = DateTime.Now.Second;\n",
    "        display(\"Current seconds: \" + seconds);\n",
    "\n",
    "        if (seconds % 2 == 0) {\n",
    "            return \"Seconds are even\";\n",
    "        } else if (seconds % 3 == 0) {\n",
    "            return \"Seconds are a multiple of 3\";\n",
    "        } else if (seconds % 5 == 0) {\n",
    "            return \"Seconds are a multiple of 5\";\n",
    "        }\n",
    "        \n",
    "        return \"Seconds are neither even nor a multiple of 3\";\n",
    "\n",
    "    }\n",
    "        \n",
    "}\n",
    "\n",
    "var display = new MyTimeDisplay();\n",
    "display(display.CalculateMessage());"
   ]
  },
  {
   "cell_type": "markdown",
   "metadata": {},
   "source": [
    "Testing for one condition is fine...  but what if we have a compound scenario where we need to test for multiple factors before we determine which branch to take?\n",
    "\n",
    "You can chain together conditional tests using the logical OR `|` and the logical AND `&` operators. "
   ]
  },
  {
   "cell_type": "code",
   "execution_count": null,
   "metadata": {
    "dotnet_interactive": {
     "language": "csharp"
    }
   },
   "outputs": [
    {
     "data": {
      "text/plain": [
       "Current seconds: 48"
      ]
     },
     "metadata": {},
     "output_type": "display_data"
    },
    {
     "data": {
      "text/plain": [
       "Seconds are even AND a multiple of 3"
      ]
     },
     "metadata": {},
     "output_type": "display_data"
    }
   ],
   "source": [
    "var seconds = DateTime.Now.Second;\n",
    "// seconds = 7;\n",
    "display(\"Current seconds: \" + seconds);\n",
    "\n",
    "// Test for BOTH multiple of 2 AND a multiple of 3\n",
    "if (seconds % 2 == 0 & seconds % 3 == 0) {\n",
    "    display(\"Seconds are even AND a multiple of 3\");\n",
    "} else if (seconds % 2 == 0) {\n",
    "    display(\"Seconds are even\");\n",
    "} else if (seconds % 3 == 0) {\n",
    "    display(\"Seconds are a multiple of 3\");\n",
    "\n",
    "// Test for seconds to be a multiple of 5 OR a multiple of 7\n",
    "} else if (seconds % 5 == 0 | seconds % 7 == 0) {\n",
    "    display(\"Seconds are a multiple of 5 OR 7\");\n",
    "} else {\n",
    "    display(\"Seconds are neither even nor a multiple of 3\");\n",
    "}"
   ]
  },
  {
   "cell_type": "markdown",
   "metadata": {},
   "source": [
    "There is another scenario that you will see many developers use to prioritize the compound boolean test inside an if statement, and that is using the 'short circuit' operators `&&` and `||`.  They're referred to as a 'short circuit' operators because they evaluate the first condition on the left and if necessary evaluate the condition on the right side of the operator.\n",
    "\n",
    "The `&&` operator is called the **Conditional Logical AND** operator or referred to as **AndAlso** in Visual Basic.  This operator behaves as follows: \n",
    "\n",
    "1. Evaluate the left-side of the operator\n",
    "1. IF the left-side evaluates to false, return false and stop processing\n",
    "1. ELSE return the result of evaluating the right-side of the operator\n",
    "\n",
    "Here's an example:"
   ]
  },
  {
   "cell_type": "code",
   "execution_count": null,
   "metadata": {
    "dotnet_interactive": {
     "language": "csharp"
    }
   },
   "outputs": [
    {
     "data": {
      "text/plain": [
       "Current seconds: 43"
      ]
     },
     "metadata": {},
     "output_type": "display_data"
    },
    {
     "data": {
      "text/plain": [
       "Seconds are odd"
      ]
     },
     "metadata": {},
     "output_type": "display_data"
    }
   ],
   "source": [
    "var seconds = DateTime.Now.Second;\n",
    "display(\"Current seconds: \" + seconds);\n",
    "\n",
    "bool MultipleOfThree() {\n",
    "    display(\"MultipleOfThree was called\");\n",
    "    return seconds % 3 == 0;\n",
    "}\n",
    "\n",
    "if (seconds % 2 == 0 && MultipleOfThree()) {\n",
    "    display(\"Seconds are even and a multiple of three\");\n",
    "}\n",
    "\n",
    "if (seconds != null && seconds % 2 == 1) {\n",
    "    display(\"Seconds are odd\");\n",
    "}\n"
   ]
  },
  {
   "cell_type": "markdown",
   "metadata": {},
   "source": [
    "In this scenario, if the number of seconds are even then the `MultipleOfThree` method is executed.  If the number of seconds is even and a multiple of three, then it is reported as such.  We can also observe that when the number of seconds is even, the `MultipleOfThree` method is executed because it is reported in the output.\n",
    "\n",
    "The `||` operator is called the **Conditional Logical OR** operator or referred to as the **OrElse** operator by the Visual Basic language.  This operator behaves like the following:\n",
    "\n",
    "1. Evaluate the left-side of the operator\n",
    "1. IF the left-side evaluates to true, return true and stop processing\n",
    "1. ELSE return the result of evaluating the right-side of the operator\n",
    "\n",
    "Here's an example:"
   ]
  },
  {
   "cell_type": "code",
   "execution_count": null,
   "metadata": {
    "dotnet_interactive": {
     "language": "csharp"
    }
   },
   "outputs": [
    {
     "data": {
      "text/plain": [
       "Current seconds: 34"
      ]
     },
     "metadata": {},
     "output_type": "display_data"
    },
    {
     "data": {
      "text/plain": [
       "Seconds are even or a multiple of three"
      ]
     },
     "metadata": {},
     "output_type": "display_data"
    }
   ],
   "source": [
    "var seconds = DateTime.Now.Second;\n",
    "// seconds = 6;\n",
    "display(\"Current seconds: \" + seconds);\n",
    "\n",
    "bool MultipleOfThree() {\n",
    "    display(\"MultipleOfThree was called\");\n",
    "    return seconds % 3 == 0;\n",
    "}\n",
    "\n",
    "if (seconds % 2 == 0 || MultipleOfThree()) {\n",
    "    display(\"Seconds are even or a multiple of three\");\n",
    "}"
   ]
  },
  {
   "cell_type": "markdown",
   "metadata": {},
   "source": [
    "### Pattern Matching\n",
    "\n",
    "A recent addition to the C# specification is [**Pattern Matching**](https://docs.microsoft.com/dotnet/csharp/pattern-matching?WT.mc_id=visualstudio-twitch-jefritz).  Pattern Matching is the ability to test and match on whether a condition being tested is of a certain shape and optionally assign that value to a variable during the conditional evaluation.\n",
    "\n",
    "The `is` operator is used in the conditional testing process:"
   ]
  },
  {
   "cell_type": "code",
   "execution_count": null,
   "metadata": {
    "dotnet_interactive": {
     "language": "csharp"
    }
   },
   "outputs": [
    {
     "data": {
      "text/plain": [
       "Making orange juice"
      ]
     },
     "metadata": {},
     "output_type": "display_data"
    }
   ],
   "source": [
    "public class Orange {\n",
    "    public void MakeJuice() { display(\"Making orange juice\"); }\n",
    "}\n",
    "public class Apple {\n",
    "    public void MakePie() { display(\"Making apple pie\"); }\n",
    "}\n",
    "\n",
    "object fruit = new Orange();\n",
    "\n",
    "// Is this object an Apple?\n",
    "if (fruit is Apple a) {\n",
    "    a.MakePie();\n",
    "    \n",
    "// Is it an Orange?\n",
    "} else if (fruit is Orange o) {\n",
    "    o.MakeJuice();\n",
    "    \n",
    "} else {\n",
    "    display(\"I don't know what to do with this fruit\");\n",
    "}"
   ]
  },
  {
   "cell_type": "markdown",
   "metadata": {},
   "source": [
    "### Conditional Operators\n",
    "\n",
    "There are a number of operators that you can use to perform one-line interactions to conditionally assign values to variables or for using in other expressions.  While these operators make your code shorter and sometimes easier to read, other times it can make for confusing statements when you chain together a number of these operators.  As with any language feature or tool, a little bit goes a long way.\n",
    "\n",
    "####  The Ternary Conditional Operator   ? :\n",
    "\n",
    "The [**Conditional Operator**](https://docs.microsoft.com/dotnet/csharp/language-reference/operators/conditional-operator?WT.mc_id=visualstudio-twitch-jefritz) evaluates the term to the left of the `?` and returns the value between the `?` and `:` if the condition returns true.  It returns the value to the right of the `:` if false.  The following format makes this a little clearer:\n",
    "\n",
    "```\n",
    "is this true ? yes : no\n",
    "```\n",
    "\n",
    "Let's take a look at a sample:"
   ]
  },
  {
   "cell_type": "code",
   "execution_count": null,
   "metadata": {
    "dotnet_interactive": {
     "language": "csharp"
    }
   },
   "outputs": [
    {
     "data": {
      "text/plain": [
       "The current seconds are: 10"
      ]
     },
     "metadata": {},
     "output_type": "display_data"
    },
    {
     "data": {
      "text/plain": [
       "Even"
      ]
     },
     "metadata": {},
     "output_type": "display_data"
    }
   ],
   "source": [
    "var seconds = DateTime.Now.Second;\n",
    "\n",
    "display(\"The current seconds are: \" + seconds);\n",
    "// test if the seconds are a multiple of two\n",
    "\n",
    "//                              if true\n",
    "//                                           if false\n",
    "var result = seconds % 2 == 0 ?   \"Even\"    : \"Odd\";\n",
    "display(result);"
   ]
  },
  {
   "cell_type": "code",
   "execution_count": null,
   "metadata": {
    "dotnet_interactive": {
     "language": "csharp"
    }
   },
   "outputs": [
    {
     "data": {
      "text/plain": [
       "The current seconds are: 54"
      ]
     },
     "metadata": {},
     "output_type": "display_data"
    },
    {
     "data": {
      "text/plain": [
       "Even and Multiple of 3"
      ]
     },
     "metadata": {},
     "output_type": "display_data"
    },
    {
     "data": {
      "text/plain": [
       "Even and Multiple of 3"
      ]
     },
     "metadata": {},
     "output_type": "display_data"
    }
   ],
   "source": [
    "// You can chain conditional operators too\n",
    "var seconds = DateTime.Now.Second;\n",
    "display(\"The current seconds are: \" + seconds);\n",
    "\n",
    "string CheckMultipleOfThree(int seconds) {\n",
    "    return seconds % 3 == 0 ? \"Even and Multiple of 3\" : \"Even\";\n",
    "}\n",
    "\n",
    "// be careful as this starts to become unreadable\n",
    "var result = seconds % 2 == 0 ? \n",
    "    (seconds % 3 == 0 ? \"Even and Multiple of 3\" : \"Even\") \n",
    "    : \"Odd\";\n",
    "//var result = seconds % 2 == 0 ? CheckMultipleOfThree(seconds) : \"Odd\";\n",
    "\n",
    "display(result);\n",
    "\n",
    "var multipleOfThree = (seconds % 3 == 0 ? \"Even and Multiple of 3\" : \"Even\" );\n",
    "display(seconds % 2 == 0 ? multipleOfThree : \"Odd\");"
   ]
  },
  {
   "cell_type": "markdown",
   "metadata": {},
   "source": [
    "#### The Null-Coalescing Operator ??\n",
    "\n",
    "The [**Null-coalescing operator**](https://docs.microsoft.com/dotnet/csharp/language-reference/operators/null-coalescing-operator?WT.mc_id=visualstudio-twitch-jefritz) allows us to inspect the value to the left of the `??` and if that value is null, return the value to the right of the `??`.  You can even combine this with an equals sign `=` to assign a value of the left side is null.\n",
    "\n",
    "This is MUCH simpler than the syntax you would have to use if the operator was not available:\n",
    "\n",
    "```\n",
    "var output = (myValue != null) ? myValue : some_other_value;\n",
    "```\n",
    "\n",
    "Let's try it:"
   ]
  },
  {
   "cell_type": "code",
   "execution_count": null,
   "metadata": {
    "dotnet_interactive": {
     "language": "csharp"
    }
   },
   "outputs": [
    {
     "data": {
      "text/plain": [
       "test"
      ]
     },
     "metadata": {},
     "output_type": "display_data"
    }
   ],
   "source": [
    "string myValue = \"test\";\n",
    "\n",
    "display(myValue ?? \"It's null\");"
   ]
  },
  {
   "cell_type": "markdown",
   "metadata": {},
   "source": [
    "#### The Null-Conditional Operator ?.\n",
    "\n",
    "What happens if you want to work with an object, but you're not sure if it is null.  The [**Null-Conditional Operator**](https://docs.microsoft.com/dotnet/csharp/language-reference/operators/member-access-operators#null-conditional-operators--and-?WT.mc_id=visualstudio-twitch-jefritz) allows you to test if the object is null and conditionally continue execution.\n",
    "\n",
    "<div class=\"alert alert-block alert-info\">Early in development of this operator, it was sometimes referred to as the 'Elvis Operator' for the appearance of a curly hair above two eyes.</div>\n",
    "\n",
    "If the object is null, the expression evaluates to null.  This may be inconvenient in our processing, but we can use some of our other operators to help structure our code:"
   ]
  },
  {
   "cell_type": "code",
   "execution_count": null,
   "metadata": {
    "dotnet_interactive": {
     "language": "csharp"
    }
   },
   "outputs": [
    {
     "data": {
      "text/plain": [
       "Our student's name is: Fritz"
      ]
     },
     "metadata": {},
     "output_type": "display_data"
    },
    {
     "data": {
      "text/plain": [
       "World!"
      ]
     },
     "metadata": {},
     "output_type": "display_data"
    },
    {
     "data": {
      "text/plain": [
       "Our student's name is: Fritz"
      ]
     },
     "metadata": {},
     "output_type": "display_data"
    }
   ],
   "source": [
    "public class Student {\n",
    "    public string Name { get; set; }\n",
    "    public string Hello() { return \"World!\"; }\n",
    "}\n",
    "\n",
    "//Student s = null;\n",
    "Student s = new Student { Name=\"Fritz\"};\n",
    "\n",
    "//                          if s is null, return null\n",
    "//                          else evaluate the Name property\n",
    "display(\"Our student's name is: \" + s?.Name);\n",
    "\n",
    "display(s?.Hello());\n",
    "\n",
    "//                          if s is not null, evaluate the Name property\n",
    "//                          else return the string 'Student is not assigned yet'\n",
    "display(\"Our student's name is: \" + (s?.Name ?? \"Student is not assigned yet\"));"
   ]
  },
  {
   "cell_type": "markdown",
   "metadata": {},
   "source": [
    "## Switch Statements \n",
    "\n",
    "Sometimes we have a LOT of conditions and branches that we want to evaluate and potentially traverse in our code.  The [**switch statement**](https://docs.microsoft.com/dotnet/csharp/language-reference/keywords/switch?WT.mc_id=visualstudio-twitch-jefritz) allows you to configure using the `switch`, `case`, `break`, and `default` statements the various branches you could potentially step down.\n",
    "\n",
    "Use `switch (test expression)` to perform your test.  Then use a series of `case (result):` statements to provide the various branching code paths to potentially execute.  You can allow processing to 'fall out' of one statement into the next, and even provide a `default` branch at the end to ensure a branch is executed if none of the cases are matched. \n",
    "\n",
    "Let's look at a real example:   "
   ]
  },
  {
   "cell_type": "code",
   "execution_count": null,
   "metadata": {
    "dotnet_interactive": {
     "language": "csharp"
    }
   },
   "outputs": [
    {
     "data": {
      "text/plain": [
       "The weekend starts.... NOW!"
      ]
     },
     "metadata": {},
     "output_type": "display_data"
    }
   ],
   "source": [
    "var dayOfTheWeek = DateTime.Now.DayOfWeek;\n",
    "dayOfTheWeek = DayOfWeek.Friday;\n",
    "\n",
    "switch (dayOfTheWeek) {\n",
    "    case DayOfWeek.Monday:\n",
    "        display(\"Does somebody have a case of the Mondays?\");\n",
    "        break;\n",
    "    case DayOfWeek.Tuesday:\n",
    "        display(\"It's TACO TUESDAY at the cafe!\");\n",
    "        break;\n",
    "    case DayOfWeek.Wednesday:\n",
    "        display(\"Middle of the work-week... almost done!\");\n",
    "        break;\n",
    "    case DayOfWeek.Thursday:\n",
    "        display(\"Friday is ALMOST HERE!!\");\n",
    "        break;\n",
    "    case DayOfWeek.Friday:\n",
    "        display(\"The weekend starts.... NOW!\");\n",
    "        break;\n",
    "    case DayOfWeek.Saturday:\n",
    "        display(\"Relaxing... no school, no work...\");\n",
    "        break;\n",
    "    case DayOfWeek.Sunday:\n",
    "        display(\"School and work tomorrow?  Better have some fun NOW!\");\n",
    "        break;\n",
    "    default:\n",
    "        display(\"I don't care what day of the week it is... we're on HOLIDAY!\");\n",
    "        break;\n",
    "}\n"
   ]
  },
  {
   "cell_type": "markdown",
   "metadata": {},
   "source": [
    "We can add additional tests for `case` statements using a `when` clause as well:"
   ]
  },
  {
   "cell_type": "code",
   "execution_count": null,
   "metadata": {
    "dotnet_interactive": {
     "language": "csharp"
    }
   },
   "outputs": [
    {
     "data": {
      "text/plain": [
       "Work work work..."
      ]
     },
     "metadata": {},
     "output_type": "display_data"
    }
   ],
   "source": [
    "var dayOfTheWeek = DateTime.Now.DayOfWeek;\n",
    "var hourOfDay = DateTime.Now.Hour;\n",
    "    \n",
    "/*  Extra conditions to test with */\n",
    "//dayOfTheWeek = DayOfWeek.Friday;\n",
    "hourOfDay = 7;\n",
    "/* */\n",
    "\n",
    "switch (dayOfTheWeek) {\n",
    "    case DayOfWeek.Monday:\n",
    "    case DayOfWeek.Tuesday:\n",
    "    case DayOfWeek.Wednesday:\n",
    "    case DayOfWeek.Thursday:\n",
    "    case DayOfWeek.Friday when hourOfDay < 16:\n",
    "        display(\"Work work work...\");\n",
    "        break;\n",
    "    case DayOfWeek.Friday when (hourOfDay >= 16 && false):\n",
    "        display(\"The weekend starts.... NOW!\");\n",
    "        break;\n",
    "    case DayOfWeek.Saturday:\n",
    "    case DayOfWeek.Sunday:\n",
    "        display(\"Relaxing... no school, no work...\");\n",
    "        break;\n",
    "}\n"
   ]
  },
  {
   "cell_type": "markdown",
   "metadata": {},
   "source": [
    "Switch statements can also be used with Pattern Matching to provide a similar test and optional conversion to a type. "
   ]
  },
  {
   "cell_type": "markdown",
   "metadata": {},
   "source": [
    "### Switch Expressions\n",
    "\n",
    "What is we want a similar conditional expression, but with the power of `switch` as a simple express to interact with our variable types?  [**Switch Expressions**](https://docs.microsoft.com/dotnet/csharp/language-reference/operators/switch-expression?WT.mc_id=visualstudio-twitch-jefritz) allow us to interact with those types.  Starting with C# 8, [available only with .NET Core 3+ and .NET Standard 2.1+](https://docs.microsoft.com/dotnet/csharp/whats-new/csharp-8?WT.mc_id=visualstudio-twitch-jefritz), you can interact with these expressions. \n",
    "\n",
    "Use the same `switch` keyword, with the value that you are evaluating and list each potential branch separated by commas `,`"
   ]
  },
  {
   "cell_type": "code",
   "execution_count": null,
   "metadata": {
    "dotnet_interactive": {
     "language": "csharp"
    }
   },
   "outputs": [
    {
     "data": {
      "text/html": [
       "<span>Monday</span>"
      ]
     },
     "metadata": {},
     "output_type": "display_data"
    }
   ],
   "source": [
    "var dayOfWeek = DateTime.Now.DayOfWeek;\n",
    "display(dayOfWeek);\n",
    "\n",
    "/* \n",
    "\n",
    "QUESTION:  How to format multi-line expression bodied members?\n",
    "\n",
    "var message = dayOfWeek switch {\n",
    "    DayOfWeek.Monday     => \"I've got a case of the Mondays\",\n",
    "    DayOfWeek.Friday     => \"It's FRI-YAY!!!\",\n",
    "    _                    => \"Default statement\"\n",
    "};\n",
    "\n",
    "display(message);\n",
    "*/"
   ]
  },
  {
   "cell_type": "markdown",
   "metadata": {},
   "source": [
    "## For Loops\n",
    "\n",
    "[For loops](https://docs.microsoft.com/dotnet/csharp/language-reference/keywords/for?WT.mc_id=visualstudio-twitch-jefritz) are a looping statement that allow you to repeat a block of code depending on a counter expression.  The for statement takes the general form:\n",
    "\n",
    "`for (Initializer; Condition; Iterator) { CODE TO EXECUTE }`\n",
    "\n",
    "The `Initializer` typically initializes a counter variable to be worked with.  \n",
    "\n",
    "The `Condition` is a test to be executed at the beginning of each attempt to execute the code block.  If the `Condition` evaluates to `true` then the code block will be executed.\n",
    "\n",
    "The optional `Iterator` code executes after each loop and typically increments the initialized variable , stepping towards the end value.\n",
    "\n",
    "Typical use for the `for` statement looks similar to the following, where 5 is an arbitrary number to stop counting at.\n",
    "\n",
    "```\n",
    "for (var i=0; i<5; i++) {\n",
    "\n",
    "}\n",
    "```\n",
    "\n",
    "In practice it works like this:"
   ]
  },
  {
   "cell_type": "code",
   "execution_count": null,
   "metadata": {
    "dotnet_interactive": {
     "language": "csharp"
    }
   },
   "outputs": [
    {
     "data": {
      "text/plain": [
       "Counting 0"
      ]
     },
     "metadata": {},
     "output_type": "display_data"
    },
    {
     "data": {
      "text/plain": [
       "Counting 1"
      ]
     },
     "metadata": {},
     "output_type": "display_data"
    },
    {
     "data": {
      "text/plain": [
       "Counting 2"
      ]
     },
     "metadata": {},
     "output_type": "display_data"
    },
    {
     "data": {
      "text/plain": [
       "Counting 3"
      ]
     },
     "metadata": {},
     "output_type": "display_data"
    },
    {
     "data": {
      "text/plain": [
       "Counting 4"
      ]
     },
     "metadata": {},
     "output_type": "display_data"
    }
   ],
   "source": [
    "for (var counter=0; counter<5; counter++) {\n",
    "    display(\"Counting \" + counter);\n",
    "}"
   ]
  },
  {
   "cell_type": "markdown",
   "metadata": {},
   "source": [
    "Loops can even count backwards!  This is because the iterator expression at the end of the `for` statement can execute any code.  Let's try it with the `-=` operator:"
   ]
  },
  {
   "cell_type": "code",
   "execution_count": null,
   "metadata": {
    "dotnet_interactive": {
     "language": "csharp"
    }
   },
   "outputs": [
    {
     "data": {
      "text/plain": [
       "Counting 5"
      ]
     },
     "metadata": {},
     "output_type": "display_data"
    },
    {
     "data": {
      "text/plain": [
       "Counting 2"
      ]
     },
     "metadata": {},
     "output_type": "display_data"
    }
   ],
   "source": [
    "for (var counter=5; counter>0; counter-= 3) {\n",
    "    display(\"Counting \" + counter);\n",
    "}\n",
    "\n",
    "//display(counter)"
   ]
  },
  {
   "cell_type": "markdown",
   "metadata": {},
   "source": [
    "<div class=\"alert alert-block alert-danger\">\n",
    "<b>WARNING:</b> You can write infinite loops using the `for` statement.  The following block contains an infinite loop.  Be prepared to stop the Jupyter notebook and restart it after you remove the loop.\n",
    "</div>"
   ]
  },
  {
   "cell_type": "code",
   "execution_count": null,
   "metadata": {
    "dotnet_interactive": {
     "language": "csharp"
    }
   },
   "outputs": [],
   "source": [
    "display(\"this is an infinite loop... be ready to kill your notebook with the STOP button above\");\n",
    "/*\n",
    "for (var counter=1; counter>0; counter++) {\n",
    "    display(\"Counting \" + counter);\n",
    "}\n",
    "*/"
   ]
  },
  {
   "cell_type": "markdown",
   "metadata": {},
   "source": [
    "### Break Statement in For loops\n",
    "\n",
    "If you need to exit a loop and continue processing, you can execute the `break` statement.  \n",
    "\n",
    "In the following loop, it is configured to run forever with the `counter` value starting at `1` and continuing as long as the `counter > 0`.  The `break` statement will be triggered once the `counter` crosses `10`."
   ]
  },
  {
   "cell_type": "code",
   "execution_count": null,
   "metadata": {
    "dotnet_interactive": {
     "language": "csharp"
    }
   },
   "outputs": [
    {
     "data": {
      "text/plain": [
       "Counting 1"
      ]
     },
     "metadata": {},
     "output_type": "display_data"
    },
    {
     "data": {
      "text/plain": [
       "Counting 2"
      ]
     },
     "metadata": {},
     "output_type": "display_data"
    },
    {
     "data": {
      "text/plain": [
       "Counting 3"
      ]
     },
     "metadata": {},
     "output_type": "display_data"
    },
    {
     "data": {
      "text/plain": [
       "Counting 4"
      ]
     },
     "metadata": {},
     "output_type": "display_data"
    },
    {
     "data": {
      "text/plain": [
       "Counting 5"
      ]
     },
     "metadata": {},
     "output_type": "display_data"
    },
    {
     "data": {
      "text/plain": [
       "Counting 6"
      ]
     },
     "metadata": {},
     "output_type": "display_data"
    },
    {
     "data": {
      "text/plain": [
       "Counting 7"
      ]
     },
     "metadata": {},
     "output_type": "display_data"
    },
    {
     "data": {
      "text/plain": [
       "Counting 8"
      ]
     },
     "metadata": {},
     "output_type": "display_data"
    },
    {
     "data": {
      "text/plain": [
       "Counting 9"
      ]
     },
     "metadata": {},
     "output_type": "display_data"
    },
    {
     "data": {
      "text/plain": [
       "Counting 10"
      ]
     },
     "metadata": {},
     "output_type": "display_data"
    },
    {
     "data": {
      "text/plain": [
       "Counting 11"
      ]
     },
     "metadata": {},
     "output_type": "display_data"
    }
   ],
   "source": [
    "for (var counter=1; counter>0; counter++) {\n",
    "    display(\"Counting \" + counter);\n",
    "    \n",
    "    if (counter > 10) break;\n",
    "    \n",
    "}"
   ]
  },
  {
   "cell_type": "markdown",
   "metadata": {},
   "source": [
    "### For-Each Loops\n",
    "\n",
    "We haven't covered collections yet, but you can run a for loop across all of the items in the collection (like an array) and interact with each of those items directly.  The [`foreach` statement](https://docs.microsoft.com/dotnet/csharp/language-reference/keywords/foreach-in?WT.mc_id=visualstudio-twitch-jefritz) will run the contents of the loop and pass into your varaible each element in the collection, one at a time.\n",
    "\n",
    "Let's look at an example:"
   ]
  },
  {
   "cell_type": "code",
   "execution_count": null,
   "metadata": {
    "dotnet_interactive": {
     "language": "csharp"
    }
   },
   "outputs": [
    {
     "data": {
      "text/plain": [
       "Fritz"
      ]
     },
     "metadata": {},
     "output_type": "display_data"
    },
    {
     "data": {
      "text/plain": [
       "Scott"
      ]
     },
     "metadata": {},
     "output_type": "display_data"
    },
    {
     "data": {
      "text/plain": [
       "Maria"
      ]
     },
     "metadata": {},
     "output_type": "display_data"
    },
    {
     "data": {
      "text/plain": [
       "Jayme"
      ]
     },
     "metadata": {},
     "output_type": "display_data"
    },
    {
     "data": {
      "text/plain": [
       "Maira"
      ]
     },
     "metadata": {},
     "output_type": "display_data"
    },
    {
     "data": {
      "text/plain": [
       "James"
      ]
     },
     "metadata": {},
     "output_type": "display_data"
    }
   ],
   "source": [
    "string[] arrNames = new string[] { \"Fritz\", \"Scott\", \"Maria\", \n",
    "    \"Jayme\", \"Maira\", \"James\"};\n",
    "\n",
    "foreach (var name in arrNames) {\n",
    "    display(name);\n",
    "}\n"
   ]
  },
  {
   "cell_type": "markdown",
   "metadata": {},
   "source": [
    "The `foreach` statement is _functionally_ the same as the following `for` loop with an iterator:"
   ]
  },
  {
   "cell_type": "code",
   "execution_count": null,
   "metadata": {
    "dotnet_interactive": {
     "language": "csharp"
    }
   },
   "outputs": [],
   "source": [
    "for (var nameCounter = 0; nameCounter < arrNames.Length; nameCounter++) {\n",
    "    display(arrNames[nameCounter]);\n",
    "}"
   ]
  },
  {
   "cell_type": "markdown",
   "metadata": {},
   "source": [
    "These looping statements also work with reference types like our `Student` class that we created above:"
   ]
  },
  {
   "cell_type": "code",
   "execution_count": null,
   "metadata": {
    "dotnet_interactive": {
     "language": "csharp"
    }
   },
   "outputs": [
    {
     "data": {
      "text/plain": [
       "Fritz"
      ]
     },
     "metadata": {},
     "output_type": "display_data"
    },
    {
     "data": {
      "text/plain": [
       "Mr__Anderson"
      ]
     },
     "metadata": {},
     "output_type": "display_data"
    }
   ],
   "source": [
    "var students = new Student[] { \n",
    "    new Student { Name = \"Fritz\"}, \n",
    "    new Student {Name=\"Mr__Anderson\"}\n",
    "};\n",
    "\n",
    "foreach (var student in students) {\n",
    "    display(student.Name);\n",
    "}\n"
   ]
  },
  {
   "cell_type": "markdown",
   "metadata": {},
   "source": [
    "Also remember, strings are character arrays.  Consequently we can iterate over each character in the string as well:"
   ]
  },
  {
   "cell_type": "code",
   "execution_count": null,
   "metadata": {
    "dotnet_interactive": {
     "language": "csharp"
    }
   },
   "outputs": [
    {
     "data": {
      "text/html": [
       "<div class=\"dni-plaintext\">F</div>"
      ]
     },
     "metadata": {},
     "output_type": "display_data"
    },
    {
     "data": {
      "text/html": [
       "<div class=\"dni-plaintext\">r</div>"
      ]
     },
     "metadata": {},
     "output_type": "display_data"
    },
    {
     "data": {
      "text/html": [
       "<div class=\"dni-plaintext\">i</div>"
      ]
     },
     "metadata": {},
     "output_type": "display_data"
    },
    {
     "data": {
      "text/html": [
       "<div class=\"dni-plaintext\">t</div>"
      ]
     },
     "metadata": {},
     "output_type": "display_data"
    },
    {
     "data": {
      "text/html": [
       "<div class=\"dni-plaintext\">z</div>"
      ]
     },
     "metadata": {},
     "output_type": "display_data"
    }
   ],
   "source": [
    "var name = \"Fritz\";\n",
    "\n",
    "foreach (var letter in name) {\n",
    "    display(letter);\n",
    "}"
   ]
  },
  {
   "cell_type": "markdown",
   "metadata": {},
   "source": [
    "## While and Do Loops\n",
    "\n",
    "`while` and `do` loops have almost identical structure and perform the same task.  You provide a test condition over which the contents of the loop should continue to be executed.  The [`while` loop](https://docs.microsoft.com/en-us/dotnet/csharp/language-reference/keywords/while?WT.mc_id=visualstudio-twitch-jefritz) executes the test _FIRST_ before the loop statements, and the [`do` loop](https://docs.microsoft.com/en-us/dotnet/csharp/language-reference/keywords/do?WT.mc_id=visualstudio-twitch-jefritz) executes the test _AFTER_ the statements.\n",
    "\n",
    "Consider the examples of each statement below.  The each start with a `counter` value of `6`. Only the `do` loop executes and the `while` loop does not execute as the test fails immediately.\n"
   ]
  },
  {
   "cell_type": "code",
   "execution_count": null,
   "metadata": {
    "dotnet_interactive": {
     "language": "csharp"
    }
   },
   "outputs": [
    {
     "data": {
      "text/html": [
       "<div class=\"dni-plaintext\">5</div>"
      ]
     },
     "metadata": {},
     "output_type": "display_data"
    }
   ],
   "source": [
    "var counter = 4;\n",
    "\n",
    "while (counter < 5) {\n",
    "    counter++;\n",
    "    display(counter);\n",
    "}"
   ]
  },
  {
   "cell_type": "code",
   "execution_count": null,
   "metadata": {
    "dotnet_interactive": {
     "language": "csharp"
    }
   },
   "outputs": [
    {
     "data": {
      "text/html": [
       "<div class=\"dni-plaintext\">5</div>"
      ]
     },
     "metadata": {},
     "output_type": "display_data"
    }
   ],
   "source": [
    "var counter = 4;\n",
    "\n",
    "do {\n",
    "    counter++;\n",
    "    display(counter);\n",
    "} while (counter < 5);"
   ]
  }
 ],
 "metadata": {
  "kernelspec": {
   "display_name": ".NET (C#)",
   "language": "C#",
   "name": ".net-csharp"
  },
  "language_info": {
   "file_extension": ".cs",
   "mimetype": "text/x-csharp",
   "name": "C#",
   "pygments_lexer": "csharp",
   "version": "8.0"
  }
 },
 "nbformat": 4,
 "nbformat_minor": 4
}
