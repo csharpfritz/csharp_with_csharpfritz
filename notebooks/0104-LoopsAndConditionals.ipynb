{
 "cells": [
  {
   "cell_type": "markdown",
   "metadata": {},
   "source": [
    "# Session 4: Loops and Conditionals\n",
    "\n",
    "Common to every programming language are the concepts of loops or repeated execution of the same block of code and conditional execution of code.  These features are typically manifest as the following statements:\n",
    "\n",
    "- `for` \n",
    "- `while`\n",
    "- `do`\n",
    "- `if`\n",
    "- `switch` or `case`\n",
    "\n",
    "## Conditionals\n",
    "\n",
    "There are two statement-level conditional interactions in C#:  `if` and `switch...case` statements.  `If` statements can be combined with any number of `else if` statements and a single `else` statement to route code flow and interactions across branches of code.\n",
    "\n",
    "Let's take a look at a simple `if` statement"
   ]
  },
  {
   "cell_type": "code",
   "execution_count": 3,
   "metadata": {},
   "outputs": [
    {
     "data": {
      "text/plain": [
       "Current seconds: 34"
      ]
     },
     "metadata": {},
     "output_type": "display_data"
    },
    {
     "data": {
      "text/plain": [
       "seconds are even"
      ]
     },
     "metadata": {},
     "output_type": "display_data"
    }
   ],
   "source": [
    "var seconds = DateTime.Now.Second;\n",
    "display(\"Current seconds: \" + seconds);\n",
    "\n",
    "// A simple test, are the number of seconds a multiple of 2?\n",
    "if (seconds % 2 == 0) {\n",
    "    display(\"seconds are even\");\n",
    "}"
   ]
  },
  {
   "cell_type": "markdown",
   "metadata": {},
   "source": [
    "The `if` statement starts with the if keyword and continues with a test in parenthesis.  Next, the code to be executed if the test evaluates to true is contained within curly braces `{ }`.  The use of braces is optional, as long as the code to be executed is a single line."
   ]
  },
  {
   "cell_type": "code",
   "execution_count": 13,
   "metadata": {},
   "outputs": [
    {
     "data": {
      "text/plain": [
       "Current seconds: 53"
      ]
     },
     "metadata": {},
     "output_type": "display_data"
    },
    {
     "data": {
      "text/plain": [
       "Seconds are odd"
      ]
     },
     "metadata": {},
     "output_type": "display_data"
    },
    {
     "data": {
      "text/plain": [
       "This will always execute, even though it LOOKS LIKE its in the if statement"
      ]
     },
     "metadata": {},
     "output_type": "display_data"
    }
   ],
   "source": [
    "var seconds = DateTime.Now.Second;\n",
    "display(\"Current seconds: \" + seconds);\n",
    "\n",
    "// One line if statement\n",
    "if (seconds % 2 == 0) display(\"Seconds are even\");\n",
    "\n",
    "if (seconds % 2 == 1)\n",
    "    display(\"Seconds are odd\");\n",
    "    display(\"This will always execute, even though it LOOKS LIKE its in the if statement\");"
   ]
  }
 ],
 "metadata": {
  "kernelspec": {
   "display_name": ".NET (C#)",
   "language": "C#",
   "name": ".net-csharp"
  },
  "language_info": {
   "file_extension": ".cs",
   "mimetype": "text/x-csharp",
   "name": "C#",
   "pygments_lexer": "csharp",
   "version": "8.0"
  }
 },
 "nbformat": 4,
 "nbformat_minor": 4
}
