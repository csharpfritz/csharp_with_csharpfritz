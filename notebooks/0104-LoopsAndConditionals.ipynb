{
 "cells": [
  {
   "cell_type": "markdown",
   "metadata": {},
   "source": [
    "# Session 4: Loops and Conditionals\n",
    "\n",
    "Common to every programming language are the concepts of loops or repeated execution of the same block of code and conditional execution of code.  These features are typically manifest as the following statements:\n",
    "\n",
    "- `for` \n",
    "- `while`\n",
    "- `do`\n",
    "- `if`\n",
    "- `switch` or `case`\n",
    "\n",
    "## Conditionals\n",
    "\n",
    "There are two statement-level conditional interactions in C#:  `if` and `switch...case` statements.  `If` statements can be combined with any number of `else if` statements and a single `else` statement to route code flow and interactions across branches of code.\n",
    "\n",
    "Let's take a look at a simple `if` statement.  You can re-run this code by clicking on the code and clicking the 'Play' button above or using the `Ctrl+Enter` hotkey"
   ]
  },
  {
   "cell_type": "code",
   "execution_count": 1,
   "metadata": {},
   "outputs": [
    {
     "data": {
      "text/html": [
       "\r\n",
       "<div>\r\n",
       "    <div id='dotnet-interactive-this-cell-33668.f56f570f6d784f73ae852fa302f543c2' style='display: none'>\r\n",
       "        The below script needs to be able to find the current output cell; this is an easy method to get it.\r\n",
       "    </div>\r\n",
       "    <script type='text/javascript'>\r\n",
       "// ensure `require` is available globally\r\n",
       "if (typeof require !== typeof Function || typeof require.config !== typeof Function) {\r\n",
       "    let require_script = document.createElement('script');\r\n",
       "    require_script.setAttribute('src', 'https://cdnjs.cloudflare.com/ajax/libs/require.js/2.3.6/require.min.js');\r\n",
       "    require_script.setAttribute('type', 'text/javascript');\r\n",
       "    require_script.onload = function () {\r\n",
       "        loadDotnetInteractiveApi();\r\n",
       "    };\r\n",
       "\r\n",
       "    document.getElementsByTagName('head')[0].appendChild(require_script);\r\n",
       "}\r\n",
       "else {\r\n",
       "    loadDotnetInteractiveApi();\r\n",
       "}\r\n",
       "\r\n",
       "async function probeAddresses(probingAddresses) {\r\n",
       "    function timeout(ms, promise) {\r\n",
       "        return new Promise(function (resolve, reject) {\r\n",
       "            setTimeout(function () {\r\n",
       "                reject(new Error('timeout'))\r\n",
       "            }, ms)\r\n",
       "            promise.then(resolve, reject)\r\n",
       "        })\r\n",
       "    }\r\n",
       "\r\n",
       "    if (Array.isArray(probingAddresses)) {\r\n",
       "        for (let i = 0; i < probingAddresses.length; i++) {\r\n",
       "\r\n",
       "            let rootUrl = probingAddresses[i];\r\n",
       "\r\n",
       "            if (!rootUrl.endsWith('/')) {\r\n",
       "                rootUrl = `${rootUrl}/`;\r\n",
       "            }\r\n",
       "\r\n",
       "            try {\r\n",
       "                let response = await timeout(1000, fetch(`${rootUrl}discovery`, {\r\n",
       "                    method: 'POST',\r\n",
       "                    cache: 'no-cache',\r\n",
       "                    mode: 'cors',\r\n",
       "                    timeout: 1000,\r\n",
       "                    headers: {\r\n",
       "                        'Content-Type': 'text/plain'\r\n",
       "                    },\r\n",
       "                    body: probingAddresses[i]\r\n",
       "                }));\r\n",
       "\r\n",
       "                if (response.status == 200) {\r\n",
       "                    return rootUrl;\r\n",
       "                }\r\n",
       "            }\r\n",
       "            catch (e) { }\r\n",
       "        }\r\n",
       "    }\r\n",
       "}\r\n",
       "\r\n",
       "function loadDotnetInteractiveApi() {\r\n",
       "    probeAddresses([\"http://192.168.1.151:1024/\", \"http://127.0.0.1:1024/\"])\r\n",
       "        .then((root) => {\r\n",
       "            // use probing to find host url and api resources\r\n",
       "            // load interactive helpers and language services\r\n",
       "            let dotnetInteractiveRequire = require.config({\r\n",
       "                context: '33668.f56f570f6d784f73ae852fa302f543c2',\r\n",
       "                paths: {\r\n",
       "                    'dotnet-interactive': `${root}resources`\r\n",
       "                }\r\n",
       "            }) || require;\r\n",
       "\r\n",
       "            let dotnetInteractiveExtensionsRequire = require.config({\r\n",
       "                context: '33668.f56f570f6d784f73ae852fa302f543c2',\r\n",
       "                paths: {\r\n",
       "                    'dotnet-interactive-extensions': `${root}extensions`\r\n",
       "                }\r\n",
       "            }) || require;\r\n",
       "            if (!window.dotnetInteractiveRequire) {\r\n",
       "                window.dotnetInteractiveRequire = dotnetInteractiveRequire;\r\n",
       "            }\r\n",
       "\r\n",
       "            if (!window.dotnetInteractiveExtensionsRequire) {\r\n",
       "                window.dotnetInteractiveExtensionsRequire = dotnetInteractiveExtensionsRequire;\r\n",
       "            }\r\n",
       "\r\n",
       "            window.getExtensionRequire = function(extensionName, extensionCacheBuster) {\r\n",
       "                let paths = {};\r\n",
       "                paths[extensionName] = `${root}extensions/${extensionName}/resources/`;\r\n",
       "                \r\n",
       "                let internalRequire = require.config({\r\n",
       "                    context: extensionCacheBuster,\r\n",
       "                    paths: paths,\r\n",
       "                    urlArgs: `cacheBuster=${extensionCacheBuster}`\r\n",
       "                    }) || require;\r\n",
       "\r\n",
       "                return internalRequire\r\n",
       "            };\r\n",
       "        \r\n",
       "            dotnetInteractiveRequire([\r\n",
       "                    'dotnet-interactive/dotnet-interactive'\r\n",
       "                ],\r\n",
       "                function (dotnet) {\r\n",
       "                    dotnet.init(window);\r\n",
       "                },\r\n",
       "                function (error) {\r\n",
       "                    console.log(error);\r\n",
       "                }\r\n",
       "            );\r\n",
       "        })\r\n",
       "        .catch(error => {console.log(error);});\r\n",
       "    }\r\n",
       "    </script>\r\n",
       "</div>"
      ]
     },
     "metadata": {},
     "output_type": "display_data"
    },
    {
     "data": {
      "text/plain": [
       "Current seconds: 33"
      ]
     },
     "metadata": {},
     "output_type": "display_data"
    }
   ],
   "source": [
    "var seconds = DateTime.Now.Second;\n",
    "display(\"Current seconds: \" + seconds);\n",
    "\n",
    "// A simple test, are the number of seconds a multiple of 2?\n",
    "if (seconds % 2 == 0) {\n",
    "    display(\"seconds are even\");\n",
    "}"
   ]
  },
  {
   "cell_type": "markdown",
   "metadata": {},
   "source": [
    "The `if` statement starts with the if keyword and continues with a test in parenthesis.  Next, the code to be executed if the test evaluates to true is contained within curly braces `{ }`.  The use of braces is optional, as long as the code to be executed is a single line."
   ]
  },
  {
   "cell_type": "code",
   "execution_count": 2,
   "metadata": {},
   "outputs": [
    {
     "data": {
      "text/plain": [
       "Current seconds: 34"
      ]
     },
     "metadata": {},
     "output_type": "display_data"
    },
    {
     "data": {
      "text/plain": [
       "Seconds are even"
      ]
     },
     "metadata": {},
     "output_type": "display_data"
    },
    {
     "data": {
      "text/plain": [
       "This will always execute, even though it LOOKS LIKE its in the if statement"
      ]
     },
     "metadata": {},
     "output_type": "display_data"
    }
   ],
   "source": [
    "var seconds = DateTime.Now.Second;\n",
    "display(\"Current seconds: \" + seconds);\n",
    "\n",
    "// One line if statement\n",
    "if (seconds % 2 == 0) display(\"Seconds are even\");\n",
    "\n",
    "if (seconds % 2 == 1)\n",
    "    display(\"Seconds are odd\");\n",
    "    display(\"This will always execute, even though it LOOKS LIKE its in the if statement\");"
   ]
  },
  {
   "cell_type": "markdown",
   "metadata": {},
   "source": [
    "Great, if the condition is met we can execute some code.  What if we need some more complex branching and potentially apply secondary tests and code if those tests return false?  We can start using the `else` and `else if` syntax to add these additional branches of code to be executed. \n",
    "\n",
    "Let's look a more complex branching scenario:"
   ]
  },
  {
   "cell_type": "code",
   "execution_count": 3,
   "metadata": {},
   "outputs": [
    {
     "data": {
      "text/plain": [
       "Current seconds: 34"
      ]
     },
     "metadata": {},
     "output_type": "display_data"
    },
    {
     "data": {
      "text/plain": [
       "Seconds are even"
      ]
     },
     "metadata": {},
     "output_type": "display_data"
    }
   ],
   "source": [
    "var seconds = DateTime.Now.Second;\n",
    "display(\"Current seconds: \" + seconds);\n",
    "\n",
    "if (seconds % 2 == 0) {\n",
    "    display(\"Seconds are even\");\n",
    "} else if (seconds % 3 == 0) {\n",
    "    display(\"Seconds are a multiple of 3\");\n",
    "} else {\n",
    "    display(\"Seconds are neither even nor a multiple of 3\");\n",
    "}\n"
   ]
  },
  {
   "cell_type": "markdown",
   "metadata": {},
   "source": [
    "Testing for one condition is fine...  but what if we have a compound scenario where we need to test for multiple factors before we determine which branch to take?\n",
    "\n",
    "You can chain together conditional tests using the logical OR `|` and the logical AND `&` operators. "
   ]
  },
  {
   "cell_type": "code",
   "execution_count": 4,
   "metadata": {},
   "outputs": [
    {
     "data": {
      "text/plain": [
       "Current seconds: 34"
      ]
     },
     "metadata": {},
     "output_type": "display_data"
    },
    {
     "data": {
      "text/plain": [
       "Seconds are even"
      ]
     },
     "metadata": {},
     "output_type": "display_data"
    }
   ],
   "source": [
    "var seconds = DateTime.Now.Second;\n",
    "display(\"Current seconds: \" + seconds);\n",
    "\n",
    "// Test for BOTH multiple of 2 AND a multiple of 3\n",
    "if (seconds % 2 == 0 & seconds % 3 == 0) {\n",
    "    display(\"Seconds are even AND a multiple of 3\");\n",
    "} else if (seconds % 2 == 0) {\n",
    "    display(\"Seconds are even\");\n",
    "} else if (seconds % 3 == 0) {\n",
    "    display(\"Seconds are a multiple of 3\");\n",
    "\n",
    "// Test for seconds to be a multiple of 5 OR a multiple of 7\n",
    "} else if (seconds % 5 == 0 | seconds % 7 == 0) {\n",
    "    display(\"Seconds are a multiple of 5 OR 7\");\n",
    "} else {\n",
    "    display(\"Seconds are neither even nor a multiple of 3\");\n",
    "}"
   ]
  },
  {
   "cell_type": "markdown",
   "metadata": {},
   "source": [
    "There is another scenario that you will see many developers use to prioritize the compound boolean test inside an if statement, and that is using the 'short circuit' operators `&&` and `||`.  They're referred to as a 'short circuit' operators because they evaluate the first condition on the left and if necessary evaluate the condition on the right side of the operator.\n",
    "\n",
    "The `&&` operator is called the **Conditional Logical AND** operator or referred to as **AndAlso** in Visual Basic.  This operator behaves as follows: \n",
    "\n",
    "1. Evaluate the left-side of the operator\n",
    "1. IF the left-side evaluates to false, return false and stop processing\n",
    "1. ELSE return the result of evaluating the right-side of the operator\n",
    "\n",
    "Here's an example:"
   ]
  },
  {
   "cell_type": "code",
   "execution_count": 5,
   "metadata": {},
   "outputs": [
    {
     "data": {
      "text/plain": [
       "Current seconds: 34"
      ]
     },
     "metadata": {},
     "output_type": "display_data"
    },
    {
     "data": {
      "text/plain": [
       "MultipleOfThree was called"
      ]
     },
     "metadata": {},
     "output_type": "display_data"
    }
   ],
   "source": [
    "var seconds = DateTime.Now.Second;\n",
    "display(\"Current seconds: \" + seconds);\n",
    "\n",
    "bool MultipleOfThree() {\n",
    "    display(\"MultipleOfThree was called\");\n",
    "    return seconds % 3 == 0;\n",
    "}\n",
    "\n",
    "if (seconds % 2 == 0 && MultipleOfThree()) {\n",
    "    display(\"Seconds are even and a multiple of three\");\n",
    "}"
   ]
  },
  {
   "cell_type": "markdown",
   "metadata": {},
   "source": [
    "In this scenario, if the number of seconds are even then the `MultipleOfThree` method is executed.  If the number of seconds is even and a multiple of three, then it is reported as such.  We can also observe that when the number of seconds is even, the `MultipleOfThree` method is executed because it is reported in the output.\n",
    "\n",
    "The `||` operator is called the **Conditional Logical OR** operator or referred to as the **OrElse** operator by the Visual Basic language.  This operator behaves like the following:\n",
    "\n",
    "1. Evaluate the left-side of the operator\n",
    "1. IF the left-side evaluates to true, return true and stop processing\n",
    "1. ELSE return the result of evaluating the right-side of the operator\n",
    "\n",
    "Here's an example:"
   ]
  },
  {
   "cell_type": "code",
   "execution_count": 15,
   "metadata": {},
   "outputs": [
    {
     "data": {
      "text/plain": [
       "Current seconds: 24"
      ]
     },
     "metadata": {},
     "output_type": "display_data"
    },
    {
     "data": {
      "text/plain": [
       "Seconds are even or a multiple of three"
      ]
     },
     "metadata": {},
     "output_type": "display_data"
    }
   ],
   "source": [
    "var seconds = DateTime.Now.Second;\n",
    "display(\"Current seconds: \" + seconds);\n",
    "\n",
    "bool MultipleOfThree() {\n",
    "    display(\"MultipleOfThree was called\");\n",
    "    return seconds % 3 == 0;\n",
    "}\n",
    "\n",
    "if (seconds % 2 == 0 || MultipleOfThree()) {\n",
    "    display(\"Seconds are even or a multiple of three\");\n",
    "}"
   ]
  },
  {
   "cell_type": "markdown",
   "metadata": {},
   "source": [
    "### Ternary Operators\n",
    "\n"
   ]
  }
 ],
 "metadata": {
  "kernelspec": {
   "display_name": ".NET (C#)",
   "language": "C#",
   "name": ".net-csharp"
  },
  "language_info": {
   "file_extension": ".cs",
   "mimetype": "text/x-csharp",
   "name": "C#",
   "pygments_lexer": "csharp",
   "version": "8.0"
  }
 },
 "nbformat": 4,
 "nbformat_minor": 4
}
