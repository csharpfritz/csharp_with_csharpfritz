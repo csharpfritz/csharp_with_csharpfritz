{
 "cells": [
  {
   "cell_type": "markdown",
   "metadata": {},
   "source": [
    "# Session 4: Loops and Conditionals\n",
    "\n",
    "Common to every programming language are the concepts of loops or repeated execution of the same block of code and conditional execution of code.  These features are typically manifest as the following statements:\n",
    "\n",
    "- `for` \n",
    "- `while`\n",
    "- `do`\n",
    "- `if`\n",
    "- `switch` or `case`\n",
    "\n",
    "## Conditionals\n",
    "\n",
    "There are two statement-level conditional interactions in C#:  `if` and `switch...case` statements.  `If` statements can be combined with any number of `else if` statements and a single `else` statement to route code flow and interactions across branches of code.  ([Link to official docs](https://docs.microsoft.com/dotnet/csharp/language-reference/keywords/if-else))\n",
    "\n",
    "Let's take a look at a simple `if` statement.  You can re-run this code by clicking on the code and clicking the 'Play' button above or using the `Ctrl+Enter` hotkey"
   ]
  },
  {
   "cell_type": "code",
   "execution_count": 1,
   "metadata": {},
   "outputs": [
    {
     "data": {
      "text/html": [
       "\r\n",
       "<div>\r\n",
       "    <div id='dotnet-interactive-this-cell-33668.f56f570f6d784f73ae852fa302f543c2' style='display: none'>\r\n",
       "        The below script needs to be able to find the current output cell; this is an easy method to get it.\r\n",
       "    </div>\r\n",
       "    <script type='text/javascript'>\r\n",
       "// ensure `require` is available globally\r\n",
       "if (typeof require !== typeof Function || typeof require.config !== typeof Function) {\r\n",
       "    let require_script = document.createElement('script');\r\n",
       "    require_script.setAttribute('src', 'https://cdnjs.cloudflare.com/ajax/libs/require.js/2.3.6/require.min.js');\r\n",
       "    require_script.setAttribute('type', 'text/javascript');\r\n",
       "    require_script.onload = function () {\r\n",
       "        loadDotnetInteractiveApi();\r\n",
       "    };\r\n",
       "\r\n",
       "    document.getElementsByTagName('head')[0].appendChild(require_script);\r\n",
       "}\r\n",
       "else {\r\n",
       "    loadDotnetInteractiveApi();\r\n",
       "}\r\n",
       "\r\n",
       "async function probeAddresses(probingAddresses) {\r\n",
       "    function timeout(ms, promise) {\r\n",
       "        return new Promise(function (resolve, reject) {\r\n",
       "            setTimeout(function () {\r\n",
       "                reject(new Error('timeout'))\r\n",
       "            }, ms)\r\n",
       "            promise.then(resolve, reject)\r\n",
       "        })\r\n",
       "    }\r\n",
       "\r\n",
       "    if (Array.isArray(probingAddresses)) {\r\n",
       "        for (let i = 0; i < probingAddresses.length; i++) {\r\n",
       "\r\n",
       "            let rootUrl = probingAddresses[i];\r\n",
       "\r\n",
       "            if (!rootUrl.endsWith('/')) {\r\n",
       "                rootUrl = `${rootUrl}/`;\r\n",
       "            }\r\n",
       "\r\n",
       "            try {\r\n",
       "                let response = await timeout(1000, fetch(`${rootUrl}discovery`, {\r\n",
       "                    method: 'POST',\r\n",
       "                    cache: 'no-cache',\r\n",
       "                    mode: 'cors',\r\n",
       "                    timeout: 1000,\r\n",
       "                    headers: {\r\n",
       "                        'Content-Type': 'text/plain'\r\n",
       "                    },\r\n",
       "                    body: probingAddresses[i]\r\n",
       "                }));\r\n",
       "\r\n",
       "                if (response.status == 200) {\r\n",
       "                    return rootUrl;\r\n",
       "                }\r\n",
       "            }\r\n",
       "            catch (e) { }\r\n",
       "        }\r\n",
       "    }\r\n",
       "}\r\n",
       "\r\n",
       "function loadDotnetInteractiveApi() {\r\n",
       "    probeAddresses([\"http://192.168.1.151:1024/\", \"http://127.0.0.1:1024/\"])\r\n",
       "        .then((root) => {\r\n",
       "            // use probing to find host url and api resources\r\n",
       "            // load interactive helpers and language services\r\n",
       "            let dotnetInteractiveRequire = require.config({\r\n",
       "                context: '33668.f56f570f6d784f73ae852fa302f543c2',\r\n",
       "                paths: {\r\n",
       "                    'dotnet-interactive': `${root}resources`\r\n",
       "                }\r\n",
       "            }) || require;\r\n",
       "\r\n",
       "            let dotnetInteractiveExtensionsRequire = require.config({\r\n",
       "                context: '33668.f56f570f6d784f73ae852fa302f543c2',\r\n",
       "                paths: {\r\n",
       "                    'dotnet-interactive-extensions': `${root}extensions`\r\n",
       "                }\r\n",
       "            }) || require;\r\n",
       "            if (!window.dotnetInteractiveRequire) {\r\n",
       "                window.dotnetInteractiveRequire = dotnetInteractiveRequire;\r\n",
       "            }\r\n",
       "\r\n",
       "            if (!window.dotnetInteractiveExtensionsRequire) {\r\n",
       "                window.dotnetInteractiveExtensionsRequire = dotnetInteractiveExtensionsRequire;\r\n",
       "            }\r\n",
       "\r\n",
       "            window.getExtensionRequire = function(extensionName, extensionCacheBuster) {\r\n",
       "                let paths = {};\r\n",
       "                paths[extensionName] = `${root}extensions/${extensionName}/resources/`;\r\n",
       "                \r\n",
       "                let internalRequire = require.config({\r\n",
       "                    context: extensionCacheBuster,\r\n",
       "                    paths: paths,\r\n",
       "                    urlArgs: `cacheBuster=${extensionCacheBuster}`\r\n",
       "                    }) || require;\r\n",
       "\r\n",
       "                return internalRequire\r\n",
       "            };\r\n",
       "        \r\n",
       "            dotnetInteractiveRequire([\r\n",
       "                    'dotnet-interactive/dotnet-interactive'\r\n",
       "                ],\r\n",
       "                function (dotnet) {\r\n",
       "                    dotnet.init(window);\r\n",
       "                },\r\n",
       "                function (error) {\r\n",
       "                    console.log(error);\r\n",
       "                }\r\n",
       "            );\r\n",
       "        })\r\n",
       "        .catch(error => {console.log(error);});\r\n",
       "    }\r\n",
       "    </script>\r\n",
       "</div>"
      ]
     },
     "metadata": {},
     "output_type": "display_data"
    },
    {
     "data": {
      "text/plain": [
       "Current seconds: 33"
      ]
     },
     "metadata": {},
     "output_type": "display_data"
    }
   ],
   "source": [
    "var seconds = DateTime.Now.Second;\n",
    "display(\"Current seconds: \" + seconds);\n",
    "\n",
    "// A simple test, are the number of seconds a multiple of 2?\n",
    "if (seconds % 2 == 0) {\n",
    "    display(\"seconds are even\");\n",
    "}"
   ]
  },
  {
   "cell_type": "markdown",
   "metadata": {},
   "source": [
    "The `if` statement starts with the if keyword and continues with a test in parenthesis.  Next, the code to be executed if the test evaluates to true is contained within curly braces `{ }`.  The use of braces is optional, as long as the code to be executed is a single line."
   ]
  },
  {
   "cell_type": "code",
   "execution_count": 2,
   "metadata": {},
   "outputs": [
    {
     "data": {
      "text/plain": [
       "Current seconds: 34"
      ]
     },
     "metadata": {},
     "output_type": "display_data"
    },
    {
     "data": {
      "text/plain": [
       "Seconds are even"
      ]
     },
     "metadata": {},
     "output_type": "display_data"
    },
    {
     "data": {
      "text/plain": [
       "This will always execute, even though it LOOKS LIKE its in the if statement"
      ]
     },
     "metadata": {},
     "output_type": "display_data"
    }
   ],
   "source": [
    "var seconds = DateTime.Now.Second;\n",
    "display(\"Current seconds: \" + seconds);\n",
    "\n",
    "// One line if statement\n",
    "if (seconds % 2 == 0) display(\"Seconds are even\");\n",
    "\n",
    "if (seconds % 2 == 1)\n",
    "    display(\"Seconds are odd\");\n",
    "    display(\"This will always execute, even though it LOOKS LIKE its in the if statement\");"
   ]
  },
  {
   "cell_type": "markdown",
   "metadata": {},
   "source": [
    "Great, if the condition is met we can execute some code.  What if we need some more complex branching and potentially apply secondary tests and code if those tests return false?  We can start using the `else` and `else if` syntax to add these additional branches of code to be executed. \n",
    "\n",
    "Let's look a more complex branching scenario:"
   ]
  },
  {
   "cell_type": "code",
   "execution_count": 3,
   "metadata": {},
   "outputs": [
    {
     "data": {
      "text/plain": [
       "Current seconds: 34"
      ]
     },
     "metadata": {},
     "output_type": "display_data"
    },
    {
     "data": {
      "text/plain": [
       "Seconds are even"
      ]
     },
     "metadata": {},
     "output_type": "display_data"
    }
   ],
   "source": [
    "var seconds = DateTime.Now.Second;\n",
    "display(\"Current seconds: \" + seconds);\n",
    "\n",
    "if (seconds % 2 == 0) {\n",
    "    display(\"Seconds are even\");\n",
    "} else if (seconds % 3 == 0) {\n",
    "    display(\"Seconds are a multiple of 3\");\n",
    "} else {\n",
    "    display(\"Seconds are neither even nor a multiple of 3\");\n",
    "}\n"
   ]
  },
  {
   "cell_type": "markdown",
   "metadata": {},
   "source": [
    "Testing for one condition is fine...  but what if we have a compound scenario where we need to test for multiple factors before we determine which branch to take?\n",
    "\n",
    "You can chain together conditional tests using the logical OR `|` and the logical AND `&` operators. "
   ]
  },
  {
   "cell_type": "code",
   "execution_count": 4,
   "metadata": {},
   "outputs": [
    {
     "data": {
      "text/plain": [
       "Current seconds: 34"
      ]
     },
     "metadata": {},
     "output_type": "display_data"
    },
    {
     "data": {
      "text/plain": [
       "Seconds are even"
      ]
     },
     "metadata": {},
     "output_type": "display_data"
    }
   ],
   "source": [
    "var seconds = DateTime.Now.Second;\n",
    "display(\"Current seconds: \" + seconds);\n",
    "\n",
    "// Test for BOTH multiple of 2 AND a multiple of 3\n",
    "if (seconds % 2 == 0 & seconds % 3 == 0) {\n",
    "    display(\"Seconds are even AND a multiple of 3\");\n",
    "} else if (seconds % 2 == 0) {\n",
    "    display(\"Seconds are even\");\n",
    "} else if (seconds % 3 == 0) {\n",
    "    display(\"Seconds are a multiple of 3\");\n",
    "\n",
    "// Test for seconds to be a multiple of 5 OR a multiple of 7\n",
    "} else if (seconds % 5 == 0 | seconds % 7 == 0) {\n",
    "    display(\"Seconds are a multiple of 5 OR 7\");\n",
    "} else {\n",
    "    display(\"Seconds are neither even nor a multiple of 3\");\n",
    "}"
   ]
  },
  {
   "cell_type": "markdown",
   "metadata": {},
   "source": [
    "There is another scenario that you will see many developers use to prioritize the compound boolean test inside an if statement, and that is using the 'short circuit' operators `&&` and `||`.  They're referred to as a 'short circuit' operators because they evaluate the first condition on the left and if necessary evaluate the condition on the right side of the operator.\n",
    "\n",
    "The `&&` operator is called the **Conditional Logical AND** operator or referred to as **AndAlso** in Visual Basic.  This operator behaves as follows: \n",
    "\n",
    "1. Evaluate the left-side of the operator\n",
    "1. IF the left-side evaluates to false, return false and stop processing\n",
    "1. ELSE return the result of evaluating the right-side of the operator\n",
    "\n",
    "Here's an example:"
   ]
  },
  {
   "cell_type": "code",
   "execution_count": 5,
   "metadata": {},
   "outputs": [
    {
     "data": {
      "text/plain": [
       "Current seconds: 34"
      ]
     },
     "metadata": {},
     "output_type": "display_data"
    },
    {
     "data": {
      "text/plain": [
       "MultipleOfThree was called"
      ]
     },
     "metadata": {},
     "output_type": "display_data"
    }
   ],
   "source": [
    "var seconds = DateTime.Now.Second;\n",
    "display(\"Current seconds: \" + seconds);\n",
    "\n",
    "bool MultipleOfThree() {\n",
    "    display(\"MultipleOfThree was called\");\n",
    "    return seconds % 3 == 0;\n",
    "}\n",
    "\n",
    "if (seconds % 2 == 0 && MultipleOfThree()) {\n",
    "    display(\"Seconds are even and a multiple of three\");\n",
    "}"
   ]
  },
  {
   "cell_type": "markdown",
   "metadata": {},
   "source": [
    "In this scenario, if the number of seconds are even then the `MultipleOfThree` method is executed.  If the number of seconds is even and a multiple of three, then it is reported as such.  We can also observe that when the number of seconds is even, the `MultipleOfThree` method is executed because it is reported in the output.\n",
    "\n",
    "The `||` operator is called the **Conditional Logical OR** operator or referred to as the **OrElse** operator by the Visual Basic language.  This operator behaves like the following:\n",
    "\n",
    "1. Evaluate the left-side of the operator\n",
    "1. IF the left-side evaluates to true, return true and stop processing\n",
    "1. ELSE return the result of evaluating the right-side of the operator\n",
    "\n",
    "Here's an example:"
   ]
  },
  {
   "cell_type": "code",
   "execution_count": 15,
   "metadata": {},
   "outputs": [
    {
     "data": {
      "text/plain": [
       "Current seconds: 24"
      ]
     },
     "metadata": {},
     "output_type": "display_data"
    },
    {
     "data": {
      "text/plain": [
       "Seconds are even or a multiple of three"
      ]
     },
     "metadata": {},
     "output_type": "display_data"
    }
   ],
   "source": [
    "var seconds = DateTime.Now.Second;\n",
    "display(\"Current seconds: \" + seconds);\n",
    "\n",
    "bool MultipleOfThree() {\n",
    "    display(\"MultipleOfThree was called\");\n",
    "    return seconds % 3 == 0;\n",
    "}\n",
    "\n",
    "if (seconds % 2 == 0 || MultipleOfThree()) {\n",
    "    display(\"Seconds are even or a multiple of three\");\n",
    "}"
   ]
  },
  {
   "cell_type": "markdown",
   "metadata": {},
   "source": [
    "### Pattern Matching\n",
    "\n",
    "A recent addition to the C# specification is [**Pattern Matching**](https://docs.microsoft.com/dotnet/csharp/pattern-matching).  Pattern Matching is the ability to test and match on whether a condition being tested is of a certain shape and optionally assign that value to a variable during the conditional evaluation.\n",
    "\n",
    "The `is` operator is used in the conditional testing process:"
   ]
  },
  {
   "cell_type": "code",
   "execution_count": 45,
   "metadata": {},
   "outputs": [
    {
     "data": {
      "text/plain": [
       "Making apple pie"
      ]
     },
     "metadata": {},
     "output_type": "display_data"
    }
   ],
   "source": [
    "public class Orange {\n",
    "    public void MakeJuice() { display(\"Making orange juice\"); }\n",
    "}\n",
    "public class Apple {\n",
    "    public void MakePie() { display(\"Making apple pie\"); }\n",
    "}\n",
    "\n",
    "object fruit = new Apple();\n",
    "\n",
    "// Is this object an Apple?\n",
    "if (fruit is Apple a) {\n",
    "    a.MakePie();\n",
    "    \n",
    "// Is it an Orange?\n",
    "} else if (fruit is Orange o) {\n",
    "    o.MakeJuice();\n",
    "    \n",
    "} else {\n",
    "    display(\"I don't know what to do with this fruit\");\n",
    "}"
   ]
  },
  {
   "cell_type": "markdown",
   "metadata": {},
   "source": [
    "### Conditional Operators\n",
    "\n",
    "There are a number of operators that you can use to perform one-line interactions to conditionally assign values to variables or for using in other expressions.  While these operators make your code shorter and sometimes easier to read, other times it can make for confusing statements when you chain together a number of these operators.  As with any language feature or tool, a little bit goes a long way.\n",
    "\n",
    "####  The Ternary Conditional Operator   ? :\n",
    "\n",
    "The [**Conditional Operator**](https://docs.microsoft.com/dotnet/csharp/language-reference/operators/conditional-operator) evaluates the term to the left of the `?` and returns the value between the `?` and `:` if the condition returns true.  It returns the value to the right of the `:` if false.  The following format makes this a little clearer:\n",
    "\n",
    "```\n",
    "is this true ? yes : no\n",
    "```\n",
    "\n",
    "Let's take a look at a sample:"
   ]
  },
  {
   "cell_type": "code",
   "execution_count": 6,
   "metadata": {},
   "outputs": [
    {
     "data": {
      "text/plain": [
       "Even"
      ]
     },
     "metadata": {},
     "output_type": "display_data"
    }
   ],
   "source": [
    "var seconds = DateTime.Now.Second;\n",
    "\n",
    "// test if the seconds are a multiple of two\n",
    "//                              if true\n",
    "//                                           if false\n",
    "var result = seconds % 2 == 0 ?   \"Even\"    : \"Odd\";\n",
    "display(result);"
   ]
  },
  {
   "cell_type": "code",
   "execution_count": 22,
   "metadata": {},
   "outputs": [
    {
     "data": {
      "text/plain": [
       "Even and Multiple of 3"
      ]
     },
     "metadata": {},
     "output_type": "display_data"
    }
   ],
   "source": [
    "// You can chain conditional operators too\n",
    "var seconds = DateTime.Now.Second;\n",
    "\n",
    "// be careful as this starts to become unreadable\n",
    "var result = seconds % 2 == 0 ? seconds % 3 == 0 ? \"Even and Multiple of 3\" : \"Even\" : \"Odd\";\n",
    "display(result);"
   ]
  },
  {
   "cell_type": "markdown",
   "metadata": {},
   "source": [
    "#### The Null-Coalescing Operator ??\n",
    "\n",
    "The [**Null-coalescing operator**](https://docs.microsoft.com/dotnet/csharp/language-reference/operators/null-coalescing-operator) allows us to inspect the value to the left of the `??` and if that value is null, return the value to the right of the `??`.  You can even combine this with an equals sign `=` to assign a value of the left side is null.\n",
    "\n",
    "This is MUCH simpler than the syntax you would have to use if the operator was not available:\n",
    "\n",
    "```\n",
    "var myValue = (test != null) ? test : something;\n",
    "```\n",
    "\n",
    "Let's try it:"
   ]
  },
  {
   "cell_type": "code",
   "execution_count": 25,
   "metadata": {},
   "outputs": [
    {
     "data": {
      "text/plain": [
       "test"
      ]
     },
     "metadata": {},
     "output_type": "display_data"
    }
   ],
   "source": [
    "string myValue = \"test\";\n",
    "\n",
    "display(myValue ?? \"It's null\");"
   ]
  },
  {
   "cell_type": "markdown",
   "metadata": {},
   "source": [
    "#### The Null-Conditional Operator ?.\n",
    "\n",
    "What happens if you want to work with an object, but you're not sure if it is null.  The [**Null-Conditional Operator**](https://docs.microsoft.com/dotnet/csharp/language-reference/operators/member-access-operators#null-conditional-operators--and-) allows you to test if the object is null and conditionally continue execution.\n",
    "\n",
    "<div class=\"alert alert-block alert-info\">Early in development of this operator, it was sometimes referred to as the 'Elvis Operator' for the appearance of a curly hair above two eyes.</div>\n",
    "\n",
    "If the object is null, the expression evaluates to null.  This may be inconvenient in our processing, but we can use some of our other operators to help structure our code:"
   ]
  },
  {
   "cell_type": "code",
   "execution_count": 41,
   "metadata": {},
   "outputs": [
    {
     "data": {
      "text/plain": [
       "Our student's name is: Fritz"
      ]
     },
     "metadata": {},
     "output_type": "display_data"
    }
   ],
   "source": [
    "public class Student {\n",
    "    public string Name { get; set; }\n",
    "}\n",
    "\n",
    "Student s = new Student { Name=\"Fritz\"};\n",
    "display(\"Our student's name is: \" + s?.Name);"
   ]
  },
  {
   "cell_type": "markdown",
   "metadata": {},
   "source": [
    "## Switch Statements \n",
    "\n",
    "Sometimes we have a LOT of conditions and branches that we want to evaluate and potentially traverse in our code.  The [**switch statement**](https://docs.microsoft.com/dotnet/csharp/language-reference/keywords/switch) allows you to configure using the `switch`, `case`, `break`, and `default` statements the various branches you could potentially step down.\n",
    "\n",
    "Use `switch (test expression)` to perform your test.  Then use a series of `case (result):` statements to provide the various branching code paths to potentially execute.  You can allow processing to 'fall out' of one statement into the next, and even provide a `default` branch at the end to ensure a branch is executed if none of the cases are matched. \n",
    "\n",
    "Let's look at a real example:   "
   ]
  },
  {
   "cell_type": "code",
   "execution_count": 55,
   "metadata": {},
   "outputs": [
    {
     "data": {
      "text/plain": [
       "The weekend starts.... NOW!"
      ]
     },
     "metadata": {},
     "output_type": "display_data"
    }
   ],
   "source": [
    "var dayOfTheWeek = DateTime.Now.DayOfWeek;\n",
    "dayOfTheWeek = DayOfWeek.Friday;\n",
    "\n",
    "switch (dayOfTheWeek) {\n",
    "    case DayOfWeek.Monday:\n",
    "        display(\"Does somebody have a case of the Mondays?\");\n",
    "        break;\n",
    "    case DayOfWeek.Tuesday:\n",
    "        display(\"It's TACO TUESDAY at the cafe!\");\n",
    "        break;\n",
    "    case DayOfWeek.Wednesday:\n",
    "        display(\"Middle of the work-week... almost done!\");\n",
    "        break;\n",
    "    case DayOfWeek.Thursday:\n",
    "        display(\"Friday is ALMOST HERE!!\");\n",
    "        break;\n",
    "    case DayOfWeek.Friday:\n",
    "        display(\"The weekend starts.... NOW!\");\n",
    "        break;\n",
    "    case DayOfWeek.Saturday:\n",
    "        display(\"Relaxing... no school, no work...\");\n",
    "        break;\n",
    "    case DayOfWeek.Sunday:\n",
    "        display(\"School and work tomorrow?  Better have some fun NOW!\");\n",
    "        break;\n",
    "    default:\n",
    "        display(\"I don't care what day of the week it is... we're on HOLIDAY!\");\n",
    "        break;\n",
    "}\n"
   ]
  },
  {
   "cell_type": "markdown",
   "metadata": {},
   "source": [
    "We can add additional tests for `case` statements using a `when` clause as well:"
   ]
  },
  {
   "cell_type": "code",
   "execution_count": 6,
   "metadata": {},
   "outputs": [
    {
     "data": {
      "text/plain": [
       "Work work work..."
      ]
     },
     "metadata": {},
     "output_type": "display_data"
    }
   ],
   "source": [
    "var dayOfTheWeek = DateTime.Now.DayOfWeek;\n",
    "var hourOfDay = DateTime.Now.Hour;\n",
    "    \n",
    "/*  Extra conditions to test with\n",
    "dayOfTheWeek = DayOfWeek.Friday;\n",
    "hourOfDay = 17;\n",
    "*/\n",
    "\n",
    "switch (dayOfTheWeek) {\n",
    "    case DayOfWeek.Monday:\n",
    "    case DayOfWeek.Tuesday:\n",
    "    case DayOfWeek.Wednesday:\n",
    "    case DayOfWeek.Thursday:\n",
    "    case DayOfWeek.Friday when hourOfDay < 16:\n",
    "        display(\"Work work work...\");\n",
    "        break;\n",
    "    case DayOfWeek.Friday when hourOfDay >= 16:\n",
    "        display(\"The weekend starts.... NOW!\");\n",
    "        break;\n",
    "    case DayOfWeek.Saturday:\n",
    "    case DayOfWeek.Sunday:\n",
    "        display(\"Relaxing... no school, no work...\");\n",
    "        break;\n",
    "}\n"
   ]
  },
  {
   "cell_type": "markdown",
   "metadata": {},
   "source": [
    "Switch statements can also be used with Pattern Matching to provide a similar test and optional conversion to a type. "
   ]
  },
  {
   "cell_type": "markdown",
   "metadata": {},
   "source": [
    "### Switch Expressions\n",
    "\n",
    "What is we want a similar conditional expression, but with the power of `switch` as a simple express to interact with our variable types?  [**Switch Expressions**](https://docs.microsoft.com/dotnet/csharp/language-reference/operators/switch-expression) allow us to interact with those types.  Starting with C# 8, available only with .NET Core 3.x+ and .NET Standard 2.x+, you can interact with these expressions. \n",
    "\n",
    "Use the same `switch` keyword, with the value that you are evaluating and list each potential branch separated by commas `,`"
   ]
  },
  {
   "cell_type": "code",
   "execution_count": 15,
   "metadata": {},
   "outputs": [
    {
     "data": {
      "text/html": [
       "Monday"
      ]
     },
     "metadata": {},
     "output_type": "display_data"
    }
   ],
   "source": [
    "var dayOfWeek = DateTime.Now.DayOfWeek;\n",
    "display(dayOfWeek);\n",
    "\n",
    "/* \n",
    "var message = dayOfWeek switch {\n",
    "    DayOfWeek.Monday     => \"I've got a case of the Mondays\",\n",
    "    DayOfWeek.Friday     => \"It's FRI-YAY!!!\"\n",
    "};\n",
    "\n",
    "display(message);\n",
    "*/"
   ]
  },
  {
   "cell_type": "markdown",
   "metadata": {},
   "source": [
    "## For Loops"
   ]
  },
  {
   "cell_type": "markdown",
   "metadata": {},
   "source": [
    "### For-Each Loops\n"
   ]
  },
  {
   "cell_type": "markdown",
   "metadata": {},
   "source": [
    "## While and Do Loops"
   ]
  }
 ],
 "metadata": {
  "kernelspec": {
   "display_name": ".NET (C#)",
   "language": "C#",
   "name": ".net-csharp"
  },
  "language_info": {
   "file_extension": ".cs",
   "mimetype": "text/x-csharp",
   "name": "C#",
   "pygments_lexer": "csharp",
   "version": "8.0"
  }
 },
 "nbformat": 4,
 "nbformat_minor": 4
}
