{
 "cells": [
  {
   "cell_type": "markdown",
   "metadata": {},
   "source": [
    "# Session 9 - SOLID Design Principles and Dependency Injection\n",
    "\n",
    "We've covered many different features of C# as a language, gotten into a bit of the .NET Core and .NET Framework features, but we have not yet talked about practical class design practices.  In this session, we'll learn about SOLID principles of class design and how to take advantage of dependency injection for loose coupling between objects.\n",
    "\n",
    "The goals of introducing these design patterns and practices are to improve maintainability of our code, minimumze unintended performance issues, and create a design system that is easy for other developers to learn.\n",
    "\n",
    "## SOLID - An introduction\n",
    "\n",
    "SOLID is an acronym for 5 design principles introduced by [Robert C. Martin in his 2000 paper 'Design Principles and Design Patterns'](https://web.archive.org/web/20150906155800/http://www.objectmentor.com/resources/articles/Principles_and_Patterns.pdf) and the term [SOLID was coined by Michael Feathers later](https://en.wikipedia.org/wiki/SOLID).\n",
    "\n",
    "There are some developers who are quite dogmatic in their approach to building systems and require strict adherence to these principles. They sometimes go as far as to utilize static analysis tools to verify that the rules are not broken.  For many, these are a series of recommendations that are chosen to be used and sometimes chosen to be violated in order to produce good software.\n",
    "\n",
    "As always, I recommend that you adhere to the number one feature requirement of software development:  Ship usable software.\n",
    "\n",
    "## S: Single Responsibility Principle (SRP)\n",
    "\n",
    "    A class should only have a single responsibility, that is, only changes to one part of the software's specification should be able to affect the specification of the class.\n",
    "    \n",
    "Let's simplify:  a class should only have one reason to be changed or rewritten.  Conceptually, this means that you should have many smaller class objects that you can use to reference each other to perform a task.\n",
    "\n",
    "Consider a `Logger` object that will be used to track the running state of an application as well as to report errors for later analysis.  What tasks should it perform?\n",
    "\n",
    "- Create a log file\n",
    "- Name and rotate the log files\n",
    "- Write log messages to a log file\n",
    "- Format the log messages\n",
    "- Close the log file"
   ]
  },
  {
   "cell_type": "code",
   "execution_count": 7,
   "metadata": {},
   "outputs": [
    {
     "data": {
      "text/plain": [
       "20201026_100329 - Error detected!"
      ]
     },
     "metadata": {},
     "output_type": "display_data"
    }
   ],
   "source": [
    "class TheLogger : IDisposable {\n",
    "    \n",
    "    public void CreateNewFile(string filename) {\n",
    "        // actions to create log files\n",
    "    }\n",
    "    \n",
    "    public string NameNewLogFile() {\n",
    "        return DateTime.UtcNow.ToString(\"yyyyMMdd_HH\") + \".log\";\n",
    "    }\n",
    "    \n",
    "    public void LogMessage(string message) {\n",
    "        // Add message to current log file\n",
    "        var formattedMessage = Format(message);\n",
    "    }\n",
    "    \n",
    "    public string Format(string rawMessage) {\n",
    "        return $\"{DateTime.UtcNow.ToString(\"yyyyMMdd_HHmmss\")} - {rawMessage}\";\n",
    "    }\n",
    "    \n",
    "    public void CloseLogFile() {\n",
    "        // close the log file\n",
    "    }\n",
    "    \n",
    "    public void Dispose() {\n",
    "        CloseLogFile();\n",
    "    }\n",
    "    \n",
    "}\n",
    "\n",
    "var logger = new TheLogger();\n",
    "display(logger.Format(\"Error detected!\"));\n",
    "logger.Dispose();"
   ]
  },
  {
   "cell_type": "markdown",
   "metadata": {},
   "source": [
    "That's a lot of responsibilities of a logger.  What happens when we want to change the format of our messages?  A new requirement has been received that indicates we should centralize our logging on a web server using REST, how do we update our logger?\n",
    "\n",
    "Let's simplify our `Logger` operations by breaking it out into several classes that each own a part of the message logging operation:"
   ]
  },
  {
   "cell_type": "code",
   "execution_count": 9,
   "metadata": {},
   "outputs": [
    {
     "data": {
      "text/plain": [
       "20201026_10.log"
      ]
     },
     "metadata": {},
     "output_type": "display_data"
    },
    {
     "data": {
      "text/plain": [
       "Created log file 20201026_10.log"
      ]
     },
     "metadata": {},
     "output_type": "display_data"
    },
    {
     "data": {
      "text/plain": [
       "20201026_101346 - Error detected"
      ]
     },
     "metadata": {},
     "output_type": "display_data"
    },
    {
     "data": {
      "text/plain": [
       "Wrote message to disk"
      ]
     },
     "metadata": {},
     "output_type": "display_data"
    },
    {
     "data": {
      "text/plain": [
       "Cleaned up and closed log file 20201026_10.log"
      ]
     },
     "metadata": {},
     "output_type": "display_data"
    }
   ],
   "source": [
    "class FileLogger : IDisposable {\n",
    "    \n",
    "    string _Filename;\n",
    "    \n",
    "    public void CreateNewFile(string filename) {\n",
    "        // Create the log file\n",
    "        _Filename = filename;\n",
    "        display($\"Created log file {filename}\");\n",
    "    }\n",
    "    \n",
    "    public void WriteMessage(string message) {\n",
    "        // write message to log file\n",
    "        display(\"Wrote message to disk\");\n",
    "    }\n",
    "    \n",
    "    public void Dispose() {\n",
    "        // clean up and close the log file\n",
    "        display($\"Cleaned up and closed log file {_Filename}\");\n",
    "    }\n",
    "    \n",
    "}\n",
    "\n",
    "class LoggerFilenameManager {\n",
    "    \n",
    "    public string NameNewLogFile() {\n",
    "        var filename = DateTime.UtcNow.ToString(\"yyyyMMdd_HH\") + \".log\";\n",
    "        display(filename);\n",
    "        return filename;\n",
    "    }\n",
    "    \n",
    "}\n",
    "\n",
    "class LoggerFormatter {\n",
    "    \n",
    "    public string FormatLogMessage(string rawMessage) {\n",
    "        var msg = $\"{DateTime.UtcNow.ToString(\"yyyyMMdd_HHmmss\")} - {rawMessage}\";\n",
    "        display(msg);\n",
    "        return msg;\n",
    "    }\n",
    "    \n",
    "}\n",
    "\n",
    "// Compose these objects into a single LoggerManager object that handles the operations for ther rest of our application\n",
    "class LoggerManager : IDisposable {\n",
    "    \n",
    "    FileLogger _Logger = new FileLogger();\n",
    "    LoggerFilenameManager _FilenameManager = new LoggerFilenameManager();\n",
    "    LoggerFormatter _Formatter = new LoggerFormatter();\n",
    "    \n",
    "    public LoggerManager() {\n",
    "        var filename = _FilenameManager.NameNewLogFile();\n",
    "        _Logger.CreateNewFile(filename);\n",
    "    }\n",
    "    \n",
    "    public void LogMessage(string message) {\n",
    "        var newMessage = _Formatter.FormatLogMessage(message);\n",
    "        _Logger.WriteMessage(newMessage);\n",
    "    }\n",
    "    \n",
    "    public void Dispose() {\n",
    "        _Logger.Dispose();\n",
    "    }\n",
    "    \n",
    "}\n",
    "\n",
    "var logger = new LoggerManager();\n",
    "logger.LogMessage(\"Error detected\");\n",
    "logger.Dispose();"
   ]
  },
  {
   "cell_type": "markdown",
   "metadata": {},
   "source": [
    "That's MUCH better.  Consider the various modification points for our logger and how we can now maintain this system of objects:\n",
    "\n",
    "- Log record format changes can be made inside the `LoggerFormatter` class\n",
    "- Log filename changes can be made in the `LoggerFilenameManager` class\n",
    "- Log destination changes can be made by replacing the `Filelogger` in our `LoggerManager` class"
   ]
  },
  {
   "cell_type": "markdown",
   "metadata": {},
   "source": [
    "## O: The Open / Closed Principle (OCP)\n",
    "\n",
    "    Software entities (classes, modules, functions, etc.) should be open for extension, but closed for modification\n",
    "    \n",
    "Implementing this principle will begin to dramatically change the way that you think and interact with your systems by encouraging new features to be created **ONLY** by creating new code.  \n",
    "\n",
    "Revisiting our Logger example, let's consider what happens if we want to introduce a feature that formats messages differently based on their severity.  Clearly, we need to change the LoggerFormatter.  Let's take a look:"
   ]
  },
  {
   "cell_type": "code",
   "execution_count": 10,
   "metadata": {},
   "outputs": [
    {
     "data": {
      "text/plain": [
       "20201026_10.log"
      ]
     },
     "metadata": {},
     "output_type": "display_data"
    },
    {
     "data": {
      "text/plain": [
       "Created log file 20201026_10.log"
      ]
     },
     "metadata": {},
     "output_type": "display_data"
    },
    {
     "data": {
      "text/plain": [
       "20201026_102627 - Error detected"
      ]
     },
     "metadata": {},
     "output_type": "display_data"
    },
    {
     "data": {
      "text/plain": [
       "Wrote message to disk"
      ]
     },
     "metadata": {},
     "output_type": "display_data"
    },
    {
     "data": {
      "text/plain": [
       "Cleaned up and closed log file 20201026_10.log"
      ]
     },
     "metadata": {},
     "output_type": "display_data"
    }
   ],
   "source": [
    "class FileLogger : IDisposable {\n",
    "    \n",
    "    string _Filename;\n",
    "    \n",
    "    public void CreateNewFile(string filename) {\n",
    "        // Create the log file\n",
    "        _Filename = filename;\n",
    "        display($\"Created log file {filename}\");\n",
    "    }\n",
    "    \n",
    "    public void WriteMessage(string message) {\n",
    "        // write message to log file\n",
    "        display(\"Wrote message to disk\");\n",
    "    }\n",
    "    \n",
    "    public void Dispose() {\n",
    "        // clean up and close the log file\n",
    "        display($\"Cleaned up and closed log file {_Filename}\");\n",
    "    }\n",
    "    \n",
    "}\n",
    "\n",
    "class LoggerFilenameManager {\n",
    "    \n",
    "    public string NameNewLogFile() {\n",
    "        var filename = DateTime.UtcNow.ToString(\"yyyyMMdd_HH\") + \".log\";\n",
    "        display(filename);\n",
    "        return filename;\n",
    "    }\n",
    "    \n",
    "}\n",
    "\n",
    "interface ILoggerFormatter {\n",
    "    string FormatLogMessage(string rawMessage);\n",
    "}\n",
    "\n",
    "class NormalLoggerFormatter : ILoggerFormatter {\n",
    "    \n",
    "    public string FormatLogMessage(string rawMessage) {\n",
    "        var msg = $\"{DateTime.UtcNow.ToString(\"yyyyMMdd_HHmmss\")} - {rawMessage}\";\n",
    "        display(msg);\n",
    "        return msg;\n",
    "    }\n",
    "    \n",
    "}\n",
    "\n",
    "// Compose these objects into a single LoggerManager object that handles the operations for ther rest of our application\n",
    "class LoggerManager : IDisposable {\n",
    "    \n",
    "    FileLogger _Logger = new FileLogger();\n",
    "    LoggerFilenameManager _FilenameManager = new LoggerFilenameManager();\n",
    "    \n",
    "    public LoggerManager() {\n",
    "        var filename = _FilenameManager.NameNewLogFile();\n",
    "        _Logger.CreateNewFile(filename);\n",
    "    }\n",
    "    \n",
    "    public void LogMessage(string message) {\n",
    "        LogMessage(message, new NormalLoggerFormatter());\n",
    "    }\n",
    "    \n",
    "    public void LogMessage(string message, ILoggerFormatter formatter) {\n",
    "        var newMessage = formatter.FormatLogMessage(message);\n",
    "        _Logger.WriteMessage(newMessage);\n",
    "    }\n",
    "    \n",
    "    public void Dispose() {\n",
    "        _Logger.Dispose();\n",
    "    }\n",
    "    \n",
    "}\n",
    "\n",
    "var logger = new LoggerManager();\n",
    "logger.LogMessage(\"Error detected\");\n",
    "logger.Dispose();"
   ]
  },
  {
   "cell_type": "markdown",
   "metadata": {},
   "source": [
    "With the introduction of the `ILoggerFormatter` interface and acceptance through the LogMessage method, we can add new formats when exceptions occur or other scenarios that we want to be able to log differently in our code:"
   ]
  },
  {
   "cell_type": "code",
   "execution_count": 14,
   "metadata": {},
   "outputs": [
    {
     "data": {
      "text/plain": [
       "20201026_10.log"
      ]
     },
     "metadata": {},
     "output_type": "display_data"
    },
    {
     "data": {
      "text/plain": [
       "Created log file 20201026_10.log"
      ]
     },
     "metadata": {},
     "output_type": "display_data"
    },
    {
     "data": {
      "text/plain": [
       "20201026_103044 - Exception of type Exception with message 'Everything is on fire!' logged: Error detected"
      ]
     },
     "metadata": {},
     "output_type": "display_data"
    },
    {
     "data": {
      "text/plain": [
       "Wrote message to disk"
      ]
     },
     "metadata": {},
     "output_type": "display_data"
    },
    {
     "data": {
      "text/plain": [
       "Cleaned up and closed log file 20201026_10.log"
      ]
     },
     "metadata": {},
     "output_type": "display_data"
    }
   ],
   "source": [
    "class ExceptionLogFormatter : ILoggerFormatter {\n",
    "\n",
    "    Exception _Exception;\n",
    "    \n",
    "    public ExceptionLogFormatter(Exception ex) {\n",
    "        _Exception = ex;\n",
    "    }\n",
    "    \n",
    "    public string FormatLogMessage(string rawMessage) {\n",
    "        var msg = $\"{DateTime.UtcNow.ToString(\"yyyyMMdd_HHmmss\")} - Exception of type {_Exception.GetType().Name} with message '{_Exception.Message}' logged: {rawMessage}\";\n",
    "        display(msg);\n",
    "        return msg;\n",
    "    }\n",
    "}\n",
    "\n",
    "var logger = new LoggerManager();\n",
    "logger.LogMessage(\"Error detected\", new ExceptionLogFormatter(new Exception(\"Everything is on fire!\")));\n",
    "logger.Dispose();"
   ]
  },
  {
   "cell_type": "markdown",
   "metadata": {},
   "source": [
    "We can now **inject** the new features into our `LoggerManager` to enhance the formatting of our messages by simply creating new classes that implement the `ILoggerFormatter`.  This technique allows for the writing of log messages and the maintenance of our LoggerManager to remain closed to modification, but open for injecting new capabilities. "
   ]
  },
  {
   "cell_type": "markdown",
   "metadata": {},
   "source": [
    "## L: Liskov Substituion Principle (LSP)\n",
    "\n",
    "    \"Objects in a program should be replaceable with instances of their subtypes without altering the correctness of that program.\" \n",
    "    \n",
    "This can be simplified to mean that classes that reference base classes can use derived classes without needing to be aware that it is a subclass.  Let's work on that `FileLogger` implementation and how we can swap that out for a potential remote logging solution using REST."
   ]
  },
  {
   "cell_type": "code",
   "execution_count": 17,
   "metadata": {},
   "outputs": [
    {
     "ename": "Unhandled exception",
     "evalue": "(61,17): error CS1061: 'LogSink' does not contain a definition for 'CreateNewFile' and no accessible extension method 'CreateNewFile' accepting a first argument of type 'LogSink' could be found (are you missing a using directive or an assembly reference?)\r\n(74,17): error CS1061: 'LogSink' does not contain a definition for 'Dispose' and no accessible extension method 'Dispose' accepting a first argument of type 'LogSink' could be found (are you missing a using directive or an assembly reference?)",
     "output_type": "error",
     "traceback": [
      "(61,17): error CS1061: 'LogSink' does not contain a definition for 'CreateNewFile' and no accessible extension method 'CreateNewFile' accepting a first argument of type 'LogSink' could be found (are you missing a using directive or an assembly reference?)\r\n(74,17): error CS1061: 'LogSink' does not contain a definition for 'Dispose' and no accessible extension method 'Dispose' accepting a first argument of type 'LogSink' could be found (are you missing a using directive or an assembly reference?)"
     ]
    }
   ],
   "source": [
    "abstract class LogSink {\n",
    "    \n",
    "    public abstract void WriteMessage(string message);\n",
    "    \n",
    "}\n",
    "\n",
    "class FileLogger : LogSink, IDisposable {\n",
    "    \n",
    "    string _Filename;\n",
    "    \n",
    "    public void CreateNewFile(string filename) {\n",
    "        // Create the log file\n",
    "        _Filename = filename;\n",
    "        display($\"Created log file {filename}\");\n",
    "    }\n",
    "    \n",
    "    public override void WriteMessage(string message) {\n",
    "        // write message to log file\n",
    "        display(\"Wrote message to disk\");\n",
    "    }\n",
    "    \n",
    "    public void Dispose() {\n",
    "        // clean up and close the log file\n",
    "        display($\"Cleaned up and closed log file {_Filename}\");\n",
    "    }\n",
    "    \n",
    "}\n",
    "\n",
    "class LoggerFilenameManager {\n",
    "    \n",
    "    public string NameNewLogFile() {\n",
    "        var filename = DateTime.UtcNow.ToString(\"yyyyMMdd_HH\") + \".log\";\n",
    "        display(filename);\n",
    "        return filename;\n",
    "    }\n",
    "    \n",
    "}\n",
    "\n",
    "interface ILoggerFormatter {\n",
    "    string FormatLogMessage(string rawMessage);\n",
    "}\n",
    "\n",
    "class NormalLoggerFormatter : ILoggerFormatter {\n",
    "    \n",
    "    public string FormatLogMessage(string rawMessage) {\n",
    "        var msg = $\"{DateTime.UtcNow.ToString(\"yyyyMMdd_HHmmss\")} - {rawMessage}\";\n",
    "        display(msg);\n",
    "        return msg;\n",
    "    }\n",
    "    \n",
    "}\n",
    "\n",
    "// Compose these objects into a single LoggerManager object that handles the operations for ther rest of our application\n",
    "class LoggerManager : IDisposable {\n",
    "    \n",
    "    LogSink _Logger = new FileLogger();\n",
    "    LoggerFilenameManager _FilenameManager = new LoggerFilenameManager();\n",
    "    \n",
    "    public LoggerManager() {\n",
    "        var filename = _FilenameManager.NameNewLogFile();\n",
    "        _Logger.CreateNewFile(filename);\n",
    "    }\n",
    "    \n",
    "    public void LogMessage(string message) {\n",
    "        LogMessage(message, new NormalLoggerFormatter());\n",
    "    }\n",
    "    \n",
    "    public void LogMessage(string message, ILoggerFormatter formatter) {\n",
    "        var newMessage = formatter.FormatLogMessage(message);\n",
    "        _Logger.WriteMessage(newMessage);\n",
    "    }\n",
    "    \n",
    "    public void Dispose() {\n",
    "        _Logger.Dispose();\n",
    "    }\n",
    "    \n",
    "}\n",
    "\n",
    "var logger = new LoggerManager();\n",
    "logger.LogMessage(\"Error detected\");\n",
    "logger.Dispose();"
   ]
  },
  {
   "cell_type": "markdown",
   "metadata": {},
   "source": [
    "## I: Interface Segregation Principle (ISP)\n",
    "\n",
    "    Many client-specific interfaces are better than one general-purpose interface.\n",
    "    \n",
    "This principle encourages you to create systems that allow classes to only depend on those objects that deliver _JUST_ the functionality that it needs.\n",
    "    \n",
    "This principle is responsible for the proliferation of many little interfaces in much of the .NET ecosystem.  Smaller, focused interfaces allow for more flexibility in delivering code.  However, it is possible to get carried away and create TOO many interfaces.\n",
    "\n",
    "For this system, we could define a small collection of interfaces that comprise the various components of the `LoggerManager`:"
   ]
  },
  {
   "cell_type": "code",
   "execution_count": 18,
   "metadata": {},
   "outputs": [],
   "source": [
    "interface ILoggerFormatter {\n",
    "    string FormatLogMessage(string rawMessage);\n",
    "}\n",
    "\n",
    "interface IFilenameManager {\n",
    "    string NameNewLogFile();\n",
    "}\n",
    "\n",
    "// We could now create a single object that implements these two methods for our system:\n",
    "\n",
    "public class DefaultFileFormatter : ILoggerFormatter, IFilenameManager {\n",
    "    \n",
    "    public string FormatLogMessage(string rawMessage) {\n",
    "        var msg = $\"{DateTime.UtcNow.ToString(\"yyyyMMdd_HHmmss\")} - {rawMessage}\";\n",
    "        display(msg);\n",
    "        return msg;\n",
    "    }\n",
    "\n",
    "    public string NameNewLogFile() {\n",
    "        var filename = DateTime.UtcNow.ToString(\"yyyyMMdd_HH\") + \".log\";\n",
    "        display(filename);\n",
    "        return filename;\n",
    "    }\n",
    "    \n",
    "}"
   ]
  },
  {
   "cell_type": "markdown",
   "metadata": {},
   "source": [
    "## D: Dependency Inversion Principle (DIP)\n",
    "\n",
    "    One should \"depend upon abstractions, [not] concretions.\n",
    "    \n",
    "Quitre simply:  don't depend directly on another class.  When you depend on the implementation, name, and shape of another class you are **tightly coupled** to that class and changes to it will have an effect on your classes.\n",
    "\n",
    "You can achieve more **loose coupling** by referring only to the abstraction and interfaces that your other classes adhere to in order to make your applications more maintainable without changing significant blocks of code.\n",
    "\n",
    "How can we re-implement our logger system so that it only depends on the interfaces and abstract classes that we defined previously? "
   ]
  },
  {
   "cell_type": "code",
   "execution_count": 7,
   "metadata": {},
   "outputs": [
    {
     "data": {
      "text/plain": [
       "20201026_100329 - Error detected!"
      ]
     },
     "metadata": {},
     "output_type": "display_data"
    }
   ],
   "source": [
    "// The original Logger\n",
    "\n",
    "class TheLogger : IDisposable {\n",
    "    \n",
    "    public void CreateNewFile(string filename) {\n",
    "        // actions to create log files\n",
    "    }\n",
    "    \n",
    "    public string NameNewLogFile() {\n",
    "        return DateTime.UtcNow.ToString(\"yyyyMMdd_HH\") + \".log\";\n",
    "    }\n",
    "    \n",
    "    public void LogMessage(string message) {\n",
    "        // Add message to current log file\n",
    "        var formattedMessage = Format(message);\n",
    "    }\n",
    "    \n",
    "    public string Format(string rawMessage) {\n",
    "        return $\"{DateTime.UtcNow.ToString(\"yyyyMMdd_HHmmss\")} - {rawMessage}\";\n",
    "    }\n",
    "    \n",
    "    public void CloseLogFile() {\n",
    "        // close the log file\n",
    "    }\n",
    "    \n",
    "    public void Dispose() {\n",
    "        CloseLogFile();\n",
    "    }\n",
    "    \n",
    "}\n",
    "\n",
    "// Re-implemented with abstractions and interfaces for maintenance\n",
    "var logger = new TheLogger();\n",
    "display(logger.Format(\"Error detected!\"));\n",
    "logger.Dispose();"
   ]
  },
  {
   "cell_type": "markdown",
   "metadata": {},
   "source": [
    "## Dependency Injection\n",
    "\n",
    "Now that we understand the SOLID principles, let's take the dependency inversion principle and use that throughout our system using the **Dependency Injection** architecture pattern.  This pattern enforces a simple statement:  \n",
    "\n",
    "    'New is glue'\n",
    "    \n",
    "Don't create your dependencies inside of your objects, and instead prefer them to be **injected** by an outside manager.  This outside manager is typically another class that is referred to as a **Service Locator** or a **Container**.  You'll see this technique referred to as **Inversion of Control** as you are giving control of the creation of the dependencies to another object that will be maintaining them for you.\n",
    "\n",
    "Dependency Injection comes in several forms:\n",
    "\n",
    "- Constructor Injection - the most common and requires that dependencies be provided in the constructor of a class\n",
    "- Property Injection - allows dependencies to be optionally set through properties on a class\n",
    "- Method Injection - dependencies are provided only on the methods where they are interacted with at the time they are executed\n",
    "\n",
    "Let's refactor our `LoggerManager` further using the Dependency Injection pattern:"
   ]
  },
  {
   "cell_type": "code",
   "execution_count": 7,
   "metadata": {},
   "outputs": [
    {
     "data": {
      "text/plain": [
       "20201026_100329 - Error detected!"
      ]
     },
     "metadata": {},
     "output_type": "display_data"
    }
   ],
   "source": [
    "// The original Logger\n",
    "\n",
    "class TheLogger : IDisposable {\n",
    "    \n",
    "    public void CreateNewFile(string filename) {\n",
    "        // actions to create log files\n",
    "    }\n",
    "    \n",
    "    public string NameNewLogFile() {\n",
    "        return DateTime.UtcNow.ToString(\"yyyyMMdd_HH\") + \".log\";\n",
    "    }\n",
    "    \n",
    "    public void LogMessage(string message) {\n",
    "        // Add message to current log file\n",
    "        var formattedMessage = Format(message);\n",
    "    }\n",
    "    \n",
    "    public string Format(string rawMessage) {\n",
    "        return $\"{DateTime.UtcNow.ToString(\"yyyyMMdd_HHmmss\")} - {rawMessage}\";\n",
    "    }\n",
    "    \n",
    "    public void CloseLogFile() {\n",
    "        // close the log file\n",
    "    }\n",
    "    \n",
    "    public void Dispose() {\n",
    "        CloseLogFile();\n",
    "    }\n",
    "    \n",
    "}\n",
    "\n",
    "// Re-implemented with abstractions and interfaces for maintenance\n",
    "var logger = new TheLogger();\n",
    "display(logger.Format(\"Error detected!\"));\n",
    "logger.Dispose();"
   ]
  }
 ],
 "metadata": {
  "kernelspec": {
   "display_name": ".NET (C#)",
   "language": "C#",
   "name": ".net-csharp"
  },
  "language_info": {
   "file_extension": ".cs",
   "mimetype": "text/x-csharp",
   "name": "C#",
   "pygments_lexer": "csharp",
   "version": "8.0"
  }
 },
 "nbformat": 4,
 "nbformat_minor": 4
}
