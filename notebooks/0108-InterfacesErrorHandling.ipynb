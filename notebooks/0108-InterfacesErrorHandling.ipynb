{
 "cells": [
  {
   "cell_type": "markdown",
   "metadata": {},
   "source": [
    "# Session 8: Abstract Classes, Interfaces, and Error Handling\n",
    "\n",
    "We've talked about the `protected` keyword and seen some interfaces in previous sessions when dealing with `IEnumerable` but haven't gotten into the science of Object Oriented Programming (OOP) and how we can create a hierarchy of objects that we can work with in our applications.  In some of the .NET frameworks like ASP.NET Core, interfaces and abstract classes are used in many places and are key to your successful use of the framework.\n",
    "\n",
    "## Abstract Classes\n",
    "\n",
    "Everything in C# is an object.  A class in C# can derive from another class in a **is a** relationship.  Let's look at the common Shape sample:"
   ]
  },
  {
   "cell_type": "code",
   "execution_count": 2,
   "metadata": {},
   "outputs": [],
   "source": [
    "abstract class Shape {\n",
    "    \n",
    "}\n",
    "\n",
    "class Triangle : Shape { }\n",
    "class Rectangle : Shape { }\n",
    "class Square : Rectangle { }"
   ]
  },
  {
   "cell_type": "markdown",
   "metadata": {},
   "source": [
    "In C#, we declare a class is abstract with the `abstract` keyword.  This prevents anyone from being able to create this type of class directly and they can only `inherit` from it using the `: ClassName` notation you see in `Triangle`, `Rectangle`, and `Square`.  `Square` inherits from Rectangle so a `Square` **is a** `Rectangle` and also a `Shape`\n",
    "\n",
    "We can add methods to the `Shape` and they will be available in all of the other classes: "
   ]
  },
  {
   "cell_type": "code",
   "execution_count": 9,
   "metadata": {},
   "outputs": [
    {
     "data": {
      "text/html": [
       "<div class=\"dni-plaintext\">15</div>"
      ]
     },
     "metadata": {},
     "output_type": "display_data"
    }
   ],
   "source": [
    "abstract class Shape {\n",
    "    public int Perimeter() { return 10; }\n",
    "    public decimal Area() { return 15; }\n",
    "}\n",
    "\n",
    "class Triangle : Shape { }\n",
    "class Rectangle : Shape { }\n",
    "class Square : Rectangle { }\n",
    "\n",
    "// consequently, we can execute the perimeter and area methods on Triangle, Rectangle, and Square\n",
    "var t = new Triangle();\n",
    "display(t.Area());"
   ]
  },
  {
   "cell_type": "markdown",
   "metadata": {},
   "source": [
    "However, we know that `Perimeter` and `Area` are calculated differently for each shape.  We can add properties specific to each class, declare the `Perimiter` and `Area` methods as `abstract` and `override` them in each of the derived shape classes.  An `abstract method` or `abstract property`:\n",
    "- **Only appears** in an abstract class\n",
    "- **MUST** be implemented in a class that inherits from it. \n",
    "- Provides no body definition in the abstract class"
   ]
  },
  {
   "cell_type": "code",
   "execution_count": 16,
   "metadata": {},
   "outputs": [
    {
     "data": {
      "text/html": [
       "<div class=\"dni-plaintext\">6</div>"
      ]
     },
     "metadata": {},
     "output_type": "display_data"
    },
    {
     "data": {
      "text/html": [
       "<div class=\"dni-plaintext\">12</div>"
      ]
     },
     "metadata": {},
     "output_type": "display_data"
    },
    {
     "name": "stderr",
     "output_type": "stream",
     "text": [
      "\n",
      "(25,16): warning CS0649: Field 'Rectangle.Length' is never assigned to, and will always have its default value 0\n",
      "\n",
      "(26,16): warning CS0649: Field 'Rectangle.Width' is never assigned to, and will always have its default value 0\n",
      "\n"
     ]
    }
   ],
   "source": [
    "abstract class Shape {\n",
    "    public abstract int Perimeter();\n",
    "    public abstract decimal Area();\n",
    "}\n",
    "\n",
    "class Triangle : Shape { \n",
    "    public int Side1Length;\n",
    "    public int Side2Length;\n",
    "    public int Side3Length;\n",
    "    \n",
    "    public override int Perimeter() {\n",
    "        return Side1Length + Side2Length + Side3Length;\n",
    "    }\n",
    "    \n",
    "    public override decimal Area() {\n",
    "        var semiPerimeter = 0.5 * Perimeter();\n",
    "        \n",
    "        // Use Heron's Formula\n",
    "        return (decimal)Math.Sqrt(semiPerimeter * (semiPerimeter - Side1Length) * (semiPerimeter - Side2Length) * (semiPerimeter - Side3Length));\n",
    "    }\n",
    "    \n",
    "}\n",
    "class Rectangle : Shape {\n",
    "\n",
    "    public int Length;\n",
    "    public int Width;\n",
    "    \n",
    "    public override int Perimeter() {\n",
    "        return Length*2 + Width*2;\n",
    "    }\n",
    "    \n",
    "    public override decimal Area() {\n",
    "        return Length * Width;\n",
    "    }\n",
    "    \n",
    "\n",
    "}\n",
    "class Square : Rectangle { }\n",
    "\n",
    "// consequently, we can execute the perimeter and area methods on Triangle, Rectangle, and Square\n",
    "var t = new Triangle() { Side1Length=3, Side2Length=4, Side3Length=5};\n",
    "display(t.Area());\n",
    "display(t.Perimeter());"
   ]
  },
  {
   "cell_type": "markdown",
   "metadata": {},
   "source": [
    "### Virtual Methods\n",
    "\n",
    "## Interfaces\n",
    "\n",
    "### Implicit Implementation\n",
    "\n",
    "### Explicit Implementation\n",
    "\n",
    "### Default Implementations\n",
    "\n",
    "## Error Handling + Exceptions\n",
    "\n",
    "### try...catch\n",
    "\n",
    "### Create our own Exception"
   ]
  }
 ],
 "metadata": {
  "kernelspec": {
   "display_name": ".NET (C#)",
   "language": "C#",
   "name": ".net-csharp"
  },
  "language_info": {
   "file_extension": ".cs",
   "mimetype": "text/x-csharp",
   "name": "C#",
   "pygments_lexer": "csharp",
   "version": "8.0"
  }
 },
 "nbformat": 4,
 "nbformat_minor": 4
}
