{
 "cells": [
  {
   "cell_type": "markdown",
   "metadata": {},
   "source": [
    "# Session 5: Collections and Generics\n",
    "\n",
    "We've worked with loops, conditions, methods, and our own types in C# but what about collections of objects?  A group of Person objects or Products that are added to a shopping cart, how do we handle those?  \n",
    "\n",
    "## Collections\n",
    "\n",
    "There are a number of different collection objects that you can use that implement the same basic interactions.\n",
    "\n",
    "### Array\n",
    "\n",
    "[Arrays](https://docs.microsoft.com/dotnet/csharp/programming-guide/arrays/) are reference types and the simplest of the collection types, and can be declared with one to many dimensions and can also be declared jagged.  Simplify declared with a type and square brackets `[ ]` defining the size of the array, initialized with a `new` statement and curly braces `{ }` optionally containing the initial values of the array."
   ]
  },
  {
   "cell_type": "code",
   "execution_count": 1,
   "metadata": {},
   "outputs": [
    {
     "data": {
      "text/html": [
       "\r\n",
       "<div>\r\n",
       "    <div id='dotnet-interactive-this-cell-119837.bf3f37aeccd94b39a9b6f5edeeebd159' style='display: none'>\r\n",
       "        The below script needs to be able to find the current output cell; this is an easy method to get it.\r\n",
       "    </div>\r\n",
       "    <script type='text/javascript'>\r\n",
       "// ensure `require` is available globally\r\n",
       "if (typeof require !== typeof Function || typeof require.config !== typeof Function) {\r\n",
       "    let require_script = document.createElement('script');\r\n",
       "    require_script.setAttribute('src', 'https://cdnjs.cloudflare.com/ajax/libs/require.js/2.3.6/require.min.js');\r\n",
       "    require_script.setAttribute('type', 'text/javascript');\r\n",
       "    require_script.onload = function () {\r\n",
       "        loadDotnetInteractiveApi();\r\n",
       "    };\r\n",
       "\r\n",
       "    document.getElementsByTagName('head')[0].appendChild(require_script);\r\n",
       "}\r\n",
       "else {\r\n",
       "    loadDotnetInteractiveApi();\r\n",
       "}\r\n",
       "\r\n",
       "async function probeAddresses(probingAddresses) {\r\n",
       "    function timeout(ms, promise) {\r\n",
       "        return new Promise(function (resolve, reject) {\r\n",
       "            setTimeout(function () {\r\n",
       "                reject(new Error('timeout'))\r\n",
       "            }, ms)\r\n",
       "            promise.then(resolve, reject)\r\n",
       "        })\r\n",
       "    }\r\n",
       "\r\n",
       "    if (Array.isArray(probingAddresses)) {\r\n",
       "        for (let i = 0; i < probingAddresses.length; i++) {\r\n",
       "\r\n",
       "            let rootUrl = probingAddresses[i];\r\n",
       "\r\n",
       "            if (!rootUrl.endsWith('/')) {\r\n",
       "                rootUrl = `${rootUrl}/`;\r\n",
       "            }\r\n",
       "\r\n",
       "            try {\r\n",
       "                let response = await timeout(1000, fetch(`${rootUrl}discovery`, {\r\n",
       "                    method: 'POST',\r\n",
       "                    cache: 'no-cache',\r\n",
       "                    mode: 'cors',\r\n",
       "                    timeout: 1000,\r\n",
       "                    headers: {\r\n",
       "                        'Content-Type': 'text/plain'\r\n",
       "                    },\r\n",
       "                    body: probingAddresses[i]\r\n",
       "                }));\r\n",
       "\r\n",
       "                if (response.status == 200) {\r\n",
       "                    return rootUrl;\r\n",
       "                }\r\n",
       "            }\r\n",
       "            catch (e) { }\r\n",
       "        }\r\n",
       "    }\r\n",
       "}\r\n",
       "\r\n",
       "function loadDotnetInteractiveApi() {\r\n",
       "    probeAddresses([\"http://192.168.1.151:1024/\", \"http://127.0.0.1:1024/\"])\r\n",
       "        .then((root) => {\r\n",
       "            // use probing to find host url and api resources\r\n",
       "            // load interactive helpers and language services\r\n",
       "            let dotnetInteractiveRequire = require.config({\r\n",
       "                context: '119837.bf3f37aeccd94b39a9b6f5edeeebd159',\r\n",
       "                paths: {\r\n",
       "                    'dotnet-interactive': `${root}resources`\r\n",
       "                }\r\n",
       "            }) || require;\r\n",
       "\r\n",
       "            let dotnetInteractiveExtensionsRequire = require.config({\r\n",
       "                context: '119837.bf3f37aeccd94b39a9b6f5edeeebd159',\r\n",
       "                paths: {\r\n",
       "                    'dotnet-interactive-extensions': `${root}extensions`\r\n",
       "                }\r\n",
       "            }) || require;\r\n",
       "\r\n",
       "            if (!window.dotnetInteractiveRequire) {\r\n",
       "                window.dotnetInteractiveRequire = dotnetInteractiveRequire;\r\n",
       "            }\r\n",
       "\r\n",
       "            if (!window.dotnetInteractiveExtensionsRequire) {\r\n",
       "                window.dotnetInteractiveExtensionsRequire = dotnetInteractiveExtensionsRequire;\r\n",
       "            }\r\n",
       "\r\n",
       "            window.getExtensionRequire = function(extensionName, extensionCacheBuster) {\r\n",
       "                let paths = {};\r\n",
       "                paths[extensionName] = `${root}extensions/${extensionName}/resources/`;\r\n",
       "                \r\n",
       "                let internalRequire = require.config({\r\n",
       "                    context: extensionCacheBuster,\r\n",
       "                    paths: paths,\r\n",
       "                    urlArgs: `cacheBuster=${extensionCacheBuster}`\r\n",
       "                    }) || require;\r\n",
       "\r\n",
       "                return internalRequire\r\n",
       "            };\r\n",
       "        \r\n",
       "            dotnetInteractiveRequire([\r\n",
       "                    'dotnet-interactive/dotnet-interactive'\r\n",
       "                ],\r\n",
       "                function (dotnet) {\r\n",
       "                    dotnet.init(window);\r\n",
       "                },\r\n",
       "                function (error) {\r\n",
       "                    console.log(error);\r\n",
       "                }\r\n",
       "            );\r\n",
       "        })\r\n",
       "        .catch(error => {console.log(error);});\r\n",
       "    }\r\n",
       "    </script>\r\n",
       "</div>"
      ]
     },
     "metadata": {},
     "output_type": "display_data"
    },
    {
     "data": {
      "text/plain": [
       "Array is created: True"
      ]
     },
     "metadata": {},
     "output_type": "display_data"
    },
    {
     "data": {
      "text/plain": [
       "Array is created: False"
      ]
     },
     "metadata": {},
     "output_type": "display_data"
    },
    {
     "data": {
      "text/plain": [
       "Array Size: 3"
      ]
     },
     "metadata": {},
     "output_type": "display_data"
    },
    {
     "data": {
      "text/plain": [
       "Array Size: 3"
      ]
     },
     "metadata": {},
     "output_type": "display_data"
    }
   ],
   "source": [
    "int[] numbers;\n",
    "\n",
    "// Numbers doesn't contain anything, as it wasn't assigned yet\n",
    "display(\"Array is created: \" + (numbers == null).ToString());\n",
    "\n",
    "// Create an array by using square brackets containing a size \n",
    "numbers = new int[3];\n",
    "display(\"Array is created: \" + (numbers == null).ToString());\n",
    "\n",
    "// The read-only Length property shows the number of elements in the array  \n",
    "display(\"Array Size: \"  + numbers.Length);\n",
    "\n",
    "// Declare the array with initial values\n",
    "var fullArrayOfNumbers = new int[3] {1, 2, 3};\n",
    "display(\"Array Size: \" + fullArrayOfNumbers.Length);"
   ]
  },
  {
   "cell_type": "markdown",
   "metadata": {},
   "source": [
    "You can then interact with the values of the array using numeric a numeric indexer starting with a base value of 0"
   ]
  },
  {
   "cell_type": "code",
   "execution_count": 2,
   "metadata": {},
   "outputs": [
    {
     "data": {
      "text/plain": [
       "Item[0]: 1"
      ]
     },
     "metadata": {},
     "output_type": "display_data"
    },
    {
     "data": {
      "text/plain": [
       "Item[0]: 5"
      ]
     },
     "metadata": {},
     "output_type": "display_data"
    }
   ],
   "source": [
    "display(\"Item[0]: \" + fullArrayOfNumbers[0]);\n",
    "\n",
    "// You can set values on the array using the equals assignment operator\n",
    "fullArrayOfNumbers[0] = 5;\n",
    "display(\"Item[0]: \" + fullArrayOfNumbers[0]);"
   ]
  },
  {
   "cell_type": "code",
   "execution_count": 3,
   "metadata": {},
   "outputs": [],
   "source": [
    "// You cannot interact with array values outside the size of the array\n",
    "// display(fullArrayOfNumbers[5]);"
   ]
  },
  {
   "cell_type": "code",
   "execution_count": 4,
   "metadata": {},
   "outputs": [
    {
     "data": {
      "text/html": [
       "<div class=\"dni-plaintext\">6</div>"
      ]
     },
     "metadata": {},
     "output_type": "display_data"
    },
    {
     "data": {
      "text/html": [
       "<div class=\"dni-plaintext\">2</div>"
      ]
     },
     "execution_count": 4,
     "metadata": {},
     "output_type": "execute_result"
    }
   ],
   "source": [
    "// You can work with multi-dimensional arrays as well\n",
    "var matrix = new int[3,2] { {1,2}, {3,4}, {5,6} };\n",
    "display(matrix.Length);\n",
    "\n",
    "// Access elements of the multi-dimensional using a comma between index values\n",
    "matrix[0,1]"
   ]
  },
  {
   "cell_type": "markdown",
   "metadata": {},
   "source": [
    "The challenge with arrays is that you cannot easily add or remove objects from the array without going through a complex bit of resizing using the `Array.Resize` method."
   ]
  },
  {
   "cell_type": "code",
   "execution_count": 5,
   "metadata": {},
   "outputs": [
    {
     "data": {
      "text/html": [
       "<table><thead><tr><th><i>index</i></th><th>value</th></tr></thead><tbody><tr><td>0</td><td><div class=\"dni-plaintext\">1</div></td></tr><tr><td>1</td><td><div class=\"dni-plaintext\">2</div></td></tr><tr><td>2</td><td><div class=\"dni-plaintext\">3</div></td></tr></tbody></table>"
      ]
     },
     "metadata": {},
     "output_type": "display_data"
    }
   ],
   "source": [
    "var myNumbers = new int[] {1,2,3};\n",
    "display(myNumbers);\n",
    "\n",
    "// This doesn't work\n",
    "//myNumbers.Add(4);"
   ]
  },
  {
   "cell_type": "code",
   "execution_count": 6,
   "metadata": {},
   "outputs": [
    {
     "data": {
      "text/html": [
       "<table><thead><tr><th><i>index</i></th><th>value</th></tr></thead><tbody><tr><td>0</td><td><div class=\"dni-plaintext\">1</div></td></tr><tr><td>1</td><td><div class=\"dni-plaintext\">2</div></td></tr><tr><td>2</td><td><div class=\"dni-plaintext\">3</div></td></tr><tr><td>3</td><td><div class=\"dni-plaintext\">4</div></td></tr></tbody></table>"
      ]
     },
     "metadata": {},
     "output_type": "display_data"
    }
   ],
   "source": [
    "// This does\n",
    "Array.Resize(ref myNumbers, 4);\n",
    "myNumbers[3] = 4;\n",
    "display(myNumbers);"
   ]
  },
  {
   "cell_type": "code",
   "execution_count": 7,
   "metadata": {},
   "outputs": [
    {
     "data": {
      "text/html": [
       "<table><thead><tr><th><i>index</i></th><th>value</th></tr></thead><tbody><tr><td>0</td><td><div class=\"dni-plaintext\">1</div></td></tr><tr><td>1</td><td><div class=\"dni-plaintext\">2</div></td></tr><tr><td>2</td><td><div class=\"dni-plaintext\">3</div></td></tr></tbody></table>"
      ]
     },
     "metadata": {},
     "output_type": "display_data"
    }
   ],
   "source": [
    "// Remove is similar, and eliminates elements from the end of the array\n",
    "Array.Resize(ref myNumbers, 3);\n",
    "display(myNumbers);"
   ]
  },
  {
   "cell_type": "markdown",
   "metadata": {},
   "source": [
    "Arrays are enumerable and implement the `IEnumerable` interface, meaning you can iterate over the contents of a collection with a loop and interact with them:"
   ]
  },
  {
   "cell_type": "code",
   "execution_count": 8,
   "metadata": {},
   "outputs": [
    {
     "data": {
      "text/html": [
       "<div class=\"dni-plaintext\">1</div>"
      ]
     },
     "metadata": {},
     "output_type": "display_data"
    },
    {
     "data": {
      "text/html": [
       "<div class=\"dni-plaintext\">2</div>"
      ]
     },
     "metadata": {},
     "output_type": "display_data"
    },
    {
     "data": {
      "text/html": [
       "<div class=\"dni-plaintext\">3</div>"
      ]
     },
     "metadata": {},
     "output_type": "display_data"
    }
   ],
   "source": [
    "foreach (var i in myNumbers) {\n",
    "    display(i);\n",
    "}"
   ]
  },
  {
   "cell_type": "markdown",
   "metadata": {},
   "source": [
    "### Hashtable and SortedList\n",
    "\n",
    "A [Hashtable](https://docs.microsoft.com/dotnet/api/system.collections.hashtable?view=netcore-3.1) and [SortedList](https://docs.microsoft.com/en-us/dotnet/system.collections.sortedlist?view=netcore-3.1) are collections of key/value pairs that contain no duplicate keys.  The `Hashtable` is sorted based on the hash hash of the keys and a `SortedList` is sorted based on the key value"
   ]
  },
  {
   "cell_type": "code",
   "execution_count": 9,
   "metadata": {},
   "outputs": [
    {
     "data": {
      "text/html": [
       "<table><thead><tr><th><i>key</i></th><th>value</th></tr></thead><tbody><tr><td><div class=\"dni-plaintext\">jpg</div></td><td><div class=\"dni-plaintext\">Jpeg Compressed Images</div></td></tr><tr><td><div class=\"dni-plaintext\">mp3</div></td><td><div class=\"dni-plaintext\">Compressed Music</div></td></tr><tr><td><div class=\"dni-plaintext\">txt</div></td><td><div class=\"dni-plaintext\">Plain text</div></td></tr></tbody></table>"
      ]
     },
     "execution_count": 9,
     "metadata": {},
     "output_type": "execute_result"
    }
   ],
   "source": [
    "//var fileExt = new Hashtable();\n",
    "var fileExt = new SortedList();\n",
    "fileExt.Add(\"txt\", \"Plain text\");\n",
    "fileExt.Add(\"mp3\", \"Compressed Music\");\n",
    "fileExt.Add(\"jpg\", \"Jpeg Compressed Images\");\n",
    "\n",
    "fileExt"
   ]
  },
  {
   "cell_type": "code",
   "execution_count": 10,
   "metadata": {},
   "outputs": [],
   "source": [
    "// No duplicates are allowed\n",
    "//fileExt.Add(\"mp3\", \"Sound effects\");"
   ]
  },
  {
   "cell_type": "code",
   "execution_count": 11,
   "metadata": {},
   "outputs": [
    {
     "data": {
      "text/plain": [
       "Compressed Music"
      ]
     },
     "execution_count": 11,
     "metadata": {},
     "output_type": "execute_result"
    }
   ],
   "source": [
    "fileExt[\"mp3\"]"
   ]
  },
  {
   "cell_type": "markdown",
   "metadata": {},
   "source": [
    "### Queue\n",
    "\n",
    "A [Queue](https://docs.microsoft.com/dotnet/api/system.collections.queue?view=netcore-3.1) is a collection of objects stored and accessed in a first-in / first-out manner.  `Enqueue` to add elements to the `Queue` and `Dequeue` to remove elements from the `Queue`.  You can also `Peek` to inspect the oldest element in the `Queue`"
   ]
  },
  {
   "cell_type": "code",
   "execution_count": 12,
   "metadata": {},
   "outputs": [
    {
     "data": {
      "text/html": [
       "<table><thead><tr><th><i>index</i></th><th>value</th></tr></thead><tbody><tr><td>0</td><td><div class=\"dni-plaintext\">First</div></td></tr><tr><td>1</td><td><div class=\"dni-plaintext\">Second</div></td></tr></tbody></table>"
      ]
     },
     "execution_count": 12,
     "metadata": {},
     "output_type": "execute_result"
    }
   ],
   "source": [
    "var myQueue = new Queue();\n",
    "myQueue.Enqueue(\"First\");\n",
    "myQueue.Enqueue(\"Second\");\n",
    "myQueue"
   ]
  },
  {
   "cell_type": "code",
   "execution_count": 13,
   "metadata": {},
   "outputs": [
    {
     "data": {
      "text/html": [
       "<div class=\"dni-plaintext\">2</div>"
      ]
     },
     "execution_count": 13,
     "metadata": {},
     "output_type": "execute_result"
    }
   ],
   "source": [
    "// Use Count to check the size of the queue\n",
    "myQueue.Count"
   ]
  },
  {
   "cell_type": "code",
   "execution_count": 14,
   "metadata": {},
   "outputs": [
    {
     "data": {
      "text/plain": [
       "First"
      ]
     },
     "metadata": {},
     "output_type": "display_data"
    }
   ],
   "source": [
    "// Use Peek to inspect the next value off of the queue\n",
    "display(myQueue.Peek());"
   ]
  },
  {
   "cell_type": "code",
   "execution_count": 15,
   "metadata": {},
   "outputs": [
    {
     "data": {
      "text/plain": [
       "First"
      ]
     },
     "execution_count": 15,
     "metadata": {},
     "output_type": "execute_result"
    }
   ],
   "source": [
    "var z = myQueue.Dequeue();\n",
    "z"
   ]
  },
  {
   "cell_type": "markdown",
   "metadata": {},
   "source": [
    "### Stack\n",
    "\n",
    "A [Stack](https://docs.microsoft.com/dotnet/api/system.collections.stack?view=netcore-3.1) is a collection that is accessed in Last-in/First-out manner using the `Push` and `Pop` methods to add and remove items, with the `Peek` method available to examine the next item to be removed from the `Stack`.  This of a `Stack` like a deck of cards:"
   ]
  },
  {
   "cell_type": "code",
   "execution_count": 39,
   "metadata": {},
   "outputs": [
    {
     "data": {
      "text/html": [
       "<table><thead><tr><th><i>index</i></th><th>value</th></tr></thead><tbody><tr><td>0</td><td><div class=\"dni-plaintext\">9-c</div></td></tr><tr><td>1</td><td><div class=\"dni-plaintext\">9-s</div></td></tr><tr><td>2</td><td><div class=\"dni-plaintext\">9-h</div></td></tr><tr><td>3</td><td><div class=\"dni-plaintext\">A-s</div></td></tr><tr><td>4</td><td><div class=\"dni-plaintext\">A-d</div></td></tr></tbody></table>"
      ]
     },
     "execution_count": 39,
     "metadata": {},
     "output_type": "execute_result"
    }
   ],
   "source": [
    "var myHand = new Stack();\n",
    "myHand.Push(\"A-d\");\n",
    "myHand.Push(\"A-s\");\n",
    "myHand.Push(\"9-h\");\n",
    "myHand.Push(\"9-s\");\n",
    "myHand.Push(\"9-c\");\n",
    "\n",
    "myHand"
   ]
  },
  {
   "cell_type": "code",
   "execution_count": 38,
   "metadata": {},
   "outputs": [
    {
     "data": {
      "text/plain": [
       "9-c"
      ]
     },
     "execution_count": 38,
     "metadata": {},
     "output_type": "execute_result"
    }
   ],
   "source": [
    "var myCard = myHand.Pop();\n",
    "myCard"
   ]
  },
  {
   "cell_type": "markdown",
   "metadata": {},
   "source": [
    "We've looked at these basic interactions with collection types and the keys or values stored don't have a specific type associated.  You can get into some hairy situations dealing with type conversions if you mix and match types for keys or values."
   ]
  },
  {
   "cell_type": "code",
   "execution_count": 77,
   "metadata": {},
   "outputs": [
    {
     "data": {
      "text/html": [
       "<table><thead><tr><th><i>index</i></th><th><i>type</i></th><th>Rank</th><th>Suit</th><th>value</th></tr></thead><tbody><tr><td>0</td><td>Submission#80+Card</td><td><div class=\"dni-plaintext\">J</div></td><td><div class=\"dni-plaintext\">h</div></td><td></td></tr><tr><td>1</td><td><span><a href=\"https://docs.microsoft.com/dotnet/api/system.string?view=netcore-3.0\">System.String</a></span></td><td></td><td></td><td><div class=\"dni-plaintext\">Joker</div></td></tr><tr><td>2</td><td>Submission#80+Card</td><td><div class=\"dni-plaintext\">K</div></td><td><div class=\"dni-plaintext\">h</div></td><td></td></tr><tr><td>3</td><td>Submission#80+Card</td><td><div class=\"dni-plaintext\">A</div></td><td><div class=\"dni-plaintext\">d</div></td><td></td></tr></tbody></table>"
      ]
     },
     "execution_count": 77,
     "metadata": {},
     "output_type": "execute_result"
    }
   ],
   "source": [
    "class Card {\n",
    "    public string Rank;\n",
    "    public string Suit;\n",
    "    public Card(string id) {\n",
    "        Rank = id.Split('-')[0];\n",
    "        Suit = id.Split('-')[1];\n",
    "    }\n",
    "    public override string ToString() { return Rank + \"-\" + Suit; }\n",
    "}\n",
    "\n",
    "var deckOfCards = new Stack();\n",
    "deckOfCards.Push(new Card(\"A-d\"));\n",
    "deckOfCards.Push(new Card(\"K-h\"));\n",
    "\n",
    "// Now add a Joker card\n",
    "deckOfCards.Push(\"Joker\");\n",
    "\n",
    "deckOfCards.Push(new Card(\"J-h\"));\n",
    "\n",
    "deckOfCards"
   ]
  },
  {
   "cell_type": "code",
   "execution_count": 32,
   "metadata": {},
   "outputs": [
    {
     "data": {},
     "execution_count": 32,
     "metadata": {},
     "output_type": "execute_result"
    }
   ],
   "source": [
    "// take a card off the deck\n",
    "Card myCard = deckOfCards.Pop() as Card;\n",
    "myCard"
   ]
  },
  {
   "cell_type": "markdown",
   "metadata": {},
   "source": [
    "## Generics \n",
    "\n",
    "[Generics](https://docs.microsoft.com/dotnet/csharp/programming-guide/generics/) are a way for you to force the type of a parameter from within client code.  You declare the type generically using the convention `<T>` with a class name or a method name and this allows that type to be passed around and enforced on those methods or properties in a class.\n",
    "\n",
    "Most developers are familiar with using [Generic Collections](https://docs.microsoft.com/dotnet/standard/generics/collections), which enforce the type of the objects in the collection.  You'll find a `Queue<T>` and a `Stack<T>` available in the `System.Collections.Generic` namespace that mirror the versions we used above, as well as a few others list `List<T>` and `Dictionary<T>`.\n",
    "\n",
    "Let's take a look at some examples\n",
    "\n",
    "### List&lt;T&gt;\n",
    "\n",
    "The [List&lt;T&gt;](https://docs.microsoft.com/dotnet/api/system.collections.generic.list-1?view=netcore-3.1) is the most flexible of the generic collections, allowing you to add, remove, and access objects of the specified type.  Let's take a look at that deck of cards sample again:"
   ]
  },
  {
   "cell_type": "code",
   "execution_count": 40,
   "metadata": {},
   "outputs": [
    {
     "data": {
      "text/html": [
       "<table><thead><tr><th><i>index</i></th><th>Rank</th><th>Suit</th></tr></thead><tbody><tr><td>0</td><td><div class=\"dni-plaintext\">A</div></td><td><div class=\"dni-plaintext\">d</div></td></tr><tr><td>1</td><td><div class=\"dni-plaintext\">J</div></td><td><div class=\"dni-plaintext\">d</div></td></tr><tr><td>2</td><td><div class=\"dni-plaintext\">9</div></td><td><div class=\"dni-plaintext\">c</div></td></tr><tr><td>3</td><td><div class=\"dni-plaintext\">8</div></td><td><div class=\"dni-plaintext\">s</div></td></tr></tbody></table>"
      ]
     },
     "execution_count": 40,
     "metadata": {},
     "output_type": "execute_result"
    }
   ],
   "source": [
    "// Declare the list with the specified type inside angle-brackets\n",
    "var listOfCards = new List<Card>();\n",
    "listOfCards.Add(new Card(\"A-d\"));\n",
    "listOfCards.Add(new Card(\"J-d\"));\n",
    "listOfCards.Add(new Card(\"9-c\"));\n",
    "listOfCards.Add(new Card(\"8-s\"));\n",
    "\n",
    "listOfCards"
   ]
  },
  {
   "cell_type": "code",
   "execution_count": 42,
   "metadata": {},
   "outputs": [
    {
     "data": {
      "text/html": [
       "<table><thead><tr><th>Rank</th><th>Suit</th></tr></thead><tbody><tr><td><div class=\"dni-plaintext\">9</div></td><td><div class=\"dni-plaintext\">c</div></td></tr></tbody></table>"
      ]
     },
     "execution_count": 42,
     "metadata": {},
     "output_type": "execute_result"
    }
   ],
   "source": [
    "listOfCards[2]"
   ]
  },
  {
   "cell_type": "code",
   "execution_count": 44,
   "metadata": {},
   "outputs": [
    {
     "data": {
      "text/html": [
       "<table><thead><tr><th><i>index</i></th><th>Rank</th><th>Suit</th></tr></thead><tbody><tr><td>0</td><td><div class=\"dni-plaintext\">A</div></td><td><div class=\"dni-plaintext\">d</div></td></tr><tr><td>1</td><td><div class=\"dni-plaintext\">J</div></td><td><div class=\"dni-plaintext\">d</div></td></tr><tr><td>2</td><td><div class=\"dni-plaintext\">3</div></td><td><div class=\"dni-plaintext\">h</div></td></tr><tr><td>3</td><td><div class=\"dni-plaintext\">9</div></td><td><div class=\"dni-plaintext\">c</div></td></tr><tr><td>4</td><td><div class=\"dni-plaintext\">8</div></td><td><div class=\"dni-plaintext\">s</div></td></tr></tbody></table>"
      ]
     },
     "execution_count": 44,
     "metadata": {},
     "output_type": "execute_result"
    }
   ],
   "source": [
    "listOfCards.Insert(2, new Card(\"3-h\"));\n",
    "listOfCards"
   ]
  },
  {
   "cell_type": "code",
   "execution_count": 45,
   "metadata": {},
   "outputs": [],
   "source": [
    "//listOfCards.Add(\"Joker\");"
   ]
  },
  {
   "cell_type": "markdown",
   "metadata": {},
   "source": [
    "### Dictionary&lt;TKey,TValue&gt;\n",
    "\n",
    "In some classes, you may have multiple type-arguments like the Dictionary class.  In [Dictionary&lt;TKey,TValue&gt;](https://docs.microsoft.com/dotnet/api/system.collections.generic.dictionary-2?view=netcore-3.1) there are type arguments for the key and the value stored."
   ]
  },
  {
   "cell_type": "code",
   "execution_count": 46,
   "metadata": {},
   "outputs": [
    {
     "data": {
      "text/html": [
       "<table><thead><tr><th><i>key</i></th><th>value</th></tr></thead><tbody><tr><td><div class=\"dni-plaintext\">txt</div></td><td><div class=\"dni-plaintext\">Plain text</div></td></tr><tr><td><div class=\"dni-plaintext\">mp3</div></td><td><div class=\"dni-plaintext\">Compressed Music</div></td></tr><tr><td><div class=\"dni-plaintext\">jpg</div></td><td><div class=\"dni-plaintext\">Jpeg Compressed Images</div></td></tr></tbody></table>"
      ]
     },
     "execution_count": 46,
     "metadata": {},
     "output_type": "execute_result"
    }
   ],
   "source": [
    "var exts = new Dictionary<string, string>();\n",
    "exts.Add(\"txt\", \"Plain text\");\n",
    "exts.Add(\"mp3\", \"Compressed Music\");\n",
    "exts.Add(\"jpg\", \"Jpeg Compressed Images\");\n",
    "\n",
    "exts"
   ]
  },
  {
   "cell_type": "code",
   "execution_count": 47,
   "metadata": {},
   "outputs": [
    {
     "data": {
      "text/plain": [
       "Jpeg Compressed Images"
      ]
     },
     "execution_count": 47,
     "metadata": {},
     "output_type": "execute_result"
    }
   ],
   "source": [
    "exts[\"jpg\"]"
   ]
  },
  {
   "cell_type": "code",
   "execution_count": 49,
   "metadata": {},
   "outputs": [],
   "source": [
    "// exts.Add(\"mp3\", \"Sound Effects\");"
   ]
  },
  {
   "cell_type": "code",
   "execution_count": 51,
   "metadata": {},
   "outputs": [],
   "source": [
    "// exts.Add(5, \"Something else\");"
   ]
  },
  {
   "cell_type": "markdown",
   "metadata": {},
   "source": [
    "### Creating Generic Classes\n",
    "\n",
    "Ok, generics are cool... but how do you create your own classes or methods to work with them?  Perhaps we have our own custom collection object that randomly inserts objects into the collection and we want to work with the objects generically.\n",
    "\n",
    "Declare your class and methods using the `<T>` notation where the characters inside the angle-brackets are identical for all methods with the same characters."
   ]
  },
  {
   "cell_type": "code",
   "execution_count": 74,
   "metadata": {},
   "outputs": [
    {
     "data": {
      "text/html": [
       "<table><thead><tr><th>_Inner</th></tr></thead><tbody><tr><td><div class=\"dni-plaintext\">[ 2, 5, 1, 3, 4 ]</div></td></tr></tbody></table>"
      ]
     },
     "execution_count": 74,
     "metadata": {},
     "output_type": "execute_result"
    }
   ],
   "source": [
    "class FritzSet<T> \n",
    "{\n",
    "    // This normally wouldn't be public scoped, but making it public for the notebook visualizer\n",
    "    public List<T> _Inner = new List<T>();\n",
    "    \n",
    "    public void Add(T newItem) \n",
    "    {\n",
    "        var insertAt = _Inner.Count == 0 ? 0 : new Random().Next(0,_Inner.Count+1);\n",
    "        _Inner.Insert(insertAt, newItem);\n",
    "    }\n",
    "    \n",
    "}\n",
    "\n",
    "// Let's insert some numbers\n",
    "var set = new FritzSet<int>();\n",
    "set.Add(1);\n",
    "set.Add(2);\n",
    "set.Add(3);\n",
    "set.Add(4);\n",
    "set.Add(5);\n",
    "set"
   ]
  },
  {
   "cell_type": "code",
   "execution_count": 93,
   "metadata": {},
   "outputs": [
    {
     "data": {
      "text/html": [
       "<table><thead><tr><th>_Inner</th></tr></thead><tbody><tr><td><div class=\"dni-plaintext\">[ 2-s, 3-c, A-d, 9-d, J-h ]</div></td></tr></tbody></table>"
      ]
     },
     "execution_count": 93,
     "metadata": {},
     "output_type": "execute_result"
    }
   ],
   "source": [
    "var deck = new FritzSet<Card>();\n",
    "deck.Add(new Card(\"A-d\"));\n",
    "deck.Add(new Card(\"9-d\"));\n",
    "deck.Add(new Card(\"J-h\"));\n",
    "deck.Add(new Card(\"3-c\"));\n",
    "deck.Add(new Card(\"2-s\"));\n",
    "\n",
    "deck"
   ]
  },
  {
   "cell_type": "markdown",
   "metadata": {},
   "source": [
    "## LINQ & Lambda"
   ]
  },
  {
   "cell_type": "code",
   "execution_count": null,
   "metadata": {},
   "outputs": [],
   "source": []
  }
 ],
 "metadata": {
  "kernelspec": {
   "display_name": ".NET (C#)",
   "language": "C#",
   "name": ".net-csharp"
  },
  "language_info": {
   "file_extension": ".cs",
   "mimetype": "text/x-csharp",
   "name": "C#",
   "pygments_lexer": "csharp",
   "version": "8.0"
  }
 },
 "nbformat": 4,
 "nbformat_minor": 4
}
