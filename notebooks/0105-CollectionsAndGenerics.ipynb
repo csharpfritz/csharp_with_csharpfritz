{
 "cells": [
  {
   "cell_type": "markdown",
   "metadata": {},
   "source": [
    "# Session 5: Collections and Generics\n",
    "\n",
    "## Collections\n",
    "\n",
    "### Array\n",
    "\n",
    "### ArrayList\n",
    "\n",
    "### HashTable\n",
    "\n",
    "### Dictionary\n",
    "\n",
    "### Queue\n",
    "\n",
    "### Stack\n",
    "\n",
    "## Generics \n",
    "\n",
    "### Using Generic Collections\n",
    "\n",
    "### Creating Generic Classes\n",
    "\n",
    "### Generic Methods\n"
   ]
  }
 ],
 "metadata": {
  "kernelspec": {
   "display_name": ".NET (C#)",
   "language": "C#",
   "name": ".net-csharp"
  },
  "language_info": {
   "file_extension": ".cs",
   "mimetype": "text/x-csharp",
   "name": "C#",
   "pygments_lexer": "csharp",
   "version": "8.0"
  }
 },
 "nbformat": 4,
 "nbformat_minor": 4
}
