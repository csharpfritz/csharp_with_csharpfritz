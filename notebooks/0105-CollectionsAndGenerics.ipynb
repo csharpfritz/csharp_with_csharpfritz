{
 "cells": [
  {
   "cell_type": "markdown",
   "metadata": {},
   "source": [
    "# Session 5: Collections and Generics\n",
    "\n",
    "We've worked with loops, conditions, methods, and our own types in C# but what about collections of objects?  A group of Person objects or Products that are added to a shopping cart, how do we handle those?  \n",
    "\n",
    "## Collections\n",
    "\n",
    "There are a number of different collection objects that you can use that implement the same basic interactions.\n",
    "\n",
    "### Array\n",
    "\n",
    "[Arrays](https://docs.microsoft.com/dotnet/csharp/programming-guide/arrays?WT.mc_id=visualstudio-twitch-jefritz) are reference types and the simplest of the collection types, and can be declared with one to many dimensions and can also be declared jagged.  Simplify declared with a type and square brackets `[ ]` defining the size of the array, initialized with a `new` statement and curly braces `{ }` optionally containing the initial values of the array."
   ]
  },
  {
   "cell_type": "code",
   "execution_count": 2,
   "metadata": {},
   "outputs": [
    {
     "data": {
      "text/plain": [
       "Array is created: True"
      ]
     },
     "metadata": {},
     "output_type": "display_data"
    },
    {
     "data": {
      "text/plain": [
       "Array is null: False"
      ]
     },
     "metadata": {},
     "output_type": "display_data"
    },
    {
     "data": {
      "text/plain": [
       "Array Size: 3"
      ]
     },
     "metadata": {},
     "output_type": "display_data"
    },
    {
     "data": {
      "text/plain": [
       "Array Size: 3"
      ]
     },
     "metadata": {},
     "output_type": "display_data"
    }
   ],
   "source": [
    "int[] numbers;\n",
    "\n",
    "// Numbers doesn't contain anything, as it wasn't assigned yet\n",
    "display(\"Array is created: \" + (numbers == null).ToString());\n",
    "\n",
    "// Create an array by using square brackets containing a size \n",
    "numbers = new int[3];\n",
    "display(\"Array is null: \" + (numbers == null).ToString());\n",
    "\n",
    "// The read-only Length property shows the number of elements in the array  \n",
    "display(\"Array Size: \"  + numbers.Length);\n",
    "\n",
    "// Declare the array with initial values\n",
    "var fullArrayOfNumbers = new int[3] {1, 2, 3};\n",
    "display(\"Array Size: \" + fullArrayOfNumbers.Length);"
   ]
  },
  {
   "cell_type": "markdown",
   "metadata": {},
   "source": [
    "You can then interact with the values of the array using numeric a numeric indexer starting with a base value of 0"
   ]
  },
  {
   "cell_type": "code",
   "execution_count": 2,
   "metadata": {},
   "outputs": [
    {
     "data": {
      "text/plain": [
       "Item[0]: 1"
      ]
     },
     "metadata": {},
     "output_type": "display_data"
    },
    {
     "data": {
      "text/plain": [
       "Item[0]: 5"
      ]
     },
     "metadata": {},
     "output_type": "display_data"
    }
   ],
   "source": [
    "display(\"Item[0]: \" + fullArrayOfNumbers[0]);\n",
    "\n",
    "// You can set values on the array using the equals assignment operator\n",
    "fullArrayOfNumbers[0] = 5;\n",
    "display(\"Item[0]: \" + fullArrayOfNumbers[0]);"
   ]
  },
  {
   "cell_type": "code",
   "execution_count": 5,
   "metadata": {},
   "outputs": [
    {
     "ename": "Unhandled exception",
     "evalue": "System.IndexOutOfRangeException: Index was outside the bounds of the array.\r\n   at Submission#8.<<Initialize>>d__0.MoveNext()\r\n--- End of stack trace from previous location where exception was thrown ---\r\n   at Microsoft.CodeAnalysis.Scripting.ScriptExecutionState.RunSubmissionsAsync[TResult](ImmutableArray`1 precedingExecutors, Func`2 currentExecutor, StrongBox`1 exceptionHolderOpt, Func`2 catchExceptionOpt, CancellationToken cancellationToken)",
     "output_type": "error",
     "traceback": [
      "System.IndexOutOfRangeException: Index was outside the bounds of the array.\r\n   at Submission#8.<<Initialize>>d__0.MoveNext()\r\n--- End of stack trace from previous location where exception was thrown ---\r\n   at Microsoft.CodeAnalysis.Scripting.ScriptExecutionState.RunSubmissionsAsync[TResult](ImmutableArray`1 precedingExecutors, Func`2 currentExecutor, StrongBox`1 exceptionHolderOpt, Func`2 catchExceptionOpt, CancellationToken cancellationToken)",
      "   at Submission#8.<<Initialize>>d__0.MoveNext()",
      "--- End of stack trace from previous location where exception was thrown ---",
      "   at Microsoft.CodeAnalysis.Scripting.ScriptExecutionState.RunSubmissionsAsync[TResult](ImmutableArray`1 precedingExecutors, Func`2 currentExecutor, StrongBox`1 exceptionHolderOpt, Func`2 catchExceptionOpt, CancellationToken cancellationToken)"
     ]
    }
   ],
   "source": [
    "// You cannot interact with array values outside the size of the array\n",
    "// display(fullArrayOfNumbers[5]);\n",
    "fullArrayOfNumbers[5] = 100;"
   ]
  },
  {
   "cell_type": "code",
   "execution_count": 4,
   "metadata": {},
   "outputs": [
    {
     "data": {
      "text/html": [
       "<div class=\"dni-plaintext\">6</div>"
      ]
     },
     "metadata": {},
     "output_type": "display_data"
    },
    {
     "data": {
      "text/html": [
       "<div class=\"dni-plaintext\">2</div>"
      ]
     },
     "execution_count": 4,
     "metadata": {},
     "output_type": "execute_result"
    }
   ],
   "source": [
    "// You can work with multi-dimensional arrays as well\n",
    "var matrix = new int[3,2] { {1,2}, {3,4}, {5,6} };\n",
    "display(matrix.Length);\n",
    "\n",
    "// Access elements of the multi-dimensional using a comma between index values\n",
    "matrix[0,1]"
   ]
  },
  {
   "cell_type": "markdown",
   "metadata": {},
   "source": [
    "The challenge with arrays is that you cannot easily add or remove objects from the array without going through a complex bit of resizing using the `Array.Resize` method."
   ]
  },
  {
   "cell_type": "code",
   "execution_count": 16,
   "metadata": {},
   "outputs": [
    {
     "data": {
      "text/html": [
       "<table><thead><tr><th><i>index</i></th><th>value</th></tr></thead><tbody><tr><td>0</td><td><div class=\"dni-plaintext\">1</div></td></tr><tr><td>1</td><td><div class=\"dni-plaintext\">2</div></td></tr><tr><td>2</td><td><div class=\"dni-plaintext\">3</div></td></tr></tbody></table>"
      ]
     },
     "metadata": {},
     "output_type": "display_data"
    }
   ],
   "source": [
    "var myNumbers = new int[] {1,2,3};\n",
    "display(myNumbers);\n",
    "\n",
    "// This doesn't work\n",
    "//myNumbers.Add(4);"
   ]
  },
  {
   "cell_type": "code",
   "execution_count": 21,
   "metadata": {},
   "outputs": [
    {
     "data": {
      "text/html": [
       "<table><thead><tr><th><i>index</i></th><th>value</th></tr></thead><tbody><tr><td>0</td><td><div class=\"dni-plaintext\">1</div></td></tr><tr><td>1</td><td><div class=\"dni-plaintext\">2</div></td></tr><tr><td>2</td><td><div class=\"dni-plaintext\">3</div></td></tr><tr><td>3</td><td><div class=\"dni-plaintext\">4</div></td></tr></tbody></table>"
      ]
     },
     "metadata": {},
     "output_type": "display_data"
    }
   ],
   "source": [
    "// This does\n",
    "Array.Resize(ref myNumbers, 4);\n",
    "myNumbers[3] = 4;\n",
    "display(myNumbers);"
   ]
  },
  {
   "cell_type": "code",
   "execution_count": 22,
   "metadata": {},
   "outputs": [
    {
     "data": {
      "text/html": [
       "<table><thead><tr><th><i>index</i></th><th>value</th></tr></thead><tbody><tr><td>0</td><td><div class=\"dni-plaintext\">1</div></td></tr><tr><td>1</td><td><div class=\"dni-plaintext\">2</div></td></tr><tr><td>2</td><td><div class=\"dni-plaintext\">3</div></td></tr></tbody></table>"
      ]
     },
     "metadata": {},
     "output_type": "display_data"
    }
   ],
   "source": [
    "// Remove is similar, and eliminates elements from the end of the array\n",
    "Array.Resize(ref myNumbers, 3);\n",
    "display(myNumbers);"
   ]
  },
  {
   "cell_type": "markdown",
   "metadata": {},
   "source": [
    "Arrays are enumerable and implement the `IEnumerable` interface, meaning you can iterate over the contents of a collection with a loop and interact with them:"
   ]
  },
  {
   "cell_type": "code",
   "execution_count": 17,
   "metadata": {},
   "outputs": [
    {
     "data": {
      "text/html": [
       "<div class=\"dni-plaintext\">1</div>"
      ]
     },
     "metadata": {},
     "output_type": "display_data"
    },
    {
     "data": {
      "text/html": [
       "<div class=\"dni-plaintext\">2</div>"
      ]
     },
     "metadata": {},
     "output_type": "display_data"
    },
    {
     "data": {
      "text/html": [
       "<div class=\"dni-plaintext\">3</div>"
      ]
     },
     "metadata": {},
     "output_type": "display_data"
    }
   ],
   "source": [
    "// i in this case returns the element in the collection, not the index\n",
    "\n",
    "foreach (var i in myNumbers) {\n",
    "    display(i);\n",
    "}"
   ]
  },
  {
   "cell_type": "markdown",
   "metadata": {},
   "source": [
    "Array.Fill"
   ]
  },
  {
   "cell_type": "code",
   "execution_count": 18,
   "metadata": {},
   "outputs": [
    {
     "data": {
      "text/html": [
       "<table><thead><tr><th><i>index</i></th><th>value</th></tr></thead><tbody><tr><td>0</td><td><div class=\"dni-plaintext\">1</div></td></tr><tr><td>1</td><td><div class=\"dni-plaintext\">1</div></td></tr><tr><td>2</td><td><div class=\"dni-plaintext\">1</div></td></tr></tbody></table>"
      ]
     },
     "execution_count": 18,
     "metadata": {},
     "output_type": "execute_result"
    }
   ],
   "source": [
    "var myOneArray = new int[3];\n",
    "Array.Fill(myOneArray, 1);\n",
    "\n",
    "myOneArray"
   ]
  },
  {
   "cell_type": "markdown",
   "metadata": {},
   "source": [
    "### Hashtable and SortedList\n",
    "\n",
    "A [Hashtable](https://docs.microsoft.com/dotnet/api/system.collections.hashtable?view=netcore-3.1?WT.mc_id=visualstudio-twitch-jefritz) and [SortedList](https://docs.microsoft.com/en-us/dotnet/system.collections.sortedlist?view=netcore-3.1&WT.mc_id=visualstudio-twitch-jefritz) are collections of key/value pairs that contain no duplicate keys.  The `Hashtable` is sorted based on the hash hash of the keys and a `SortedList` is sorted based on the key value"
   ]
  },
  {
   "cell_type": "code",
   "execution_count": 20,
   "metadata": {},
   "outputs": [
    {
     "data": {
      "text/html": [
       "<table><thead><tr><th><i>key</i></th><th>value</th></tr></thead><tbody><tr><td><div class=\"dni-plaintext\">jpg</div></td><td><div class=\"dni-plaintext\">Jpeg Compressed Images</div></td></tr><tr><td><div class=\"dni-plaintext\">mp3</div></td><td><div class=\"dni-plaintext\">Compressed Music</div></td></tr><tr><td><div class=\"dni-plaintext\">txt</div></td><td><div class=\"dni-plaintext\">Plain text</div></td></tr></tbody></table>"
      ]
     },
     "execution_count": 20,
     "metadata": {},
     "output_type": "execute_result"
    }
   ],
   "source": [
    "//var fileExt = new Hashtable();\n",
    "var fileExt = new SortedList();\n",
    "fileExt.Add(\"txt\", \"Plain text\");\n",
    "fileExt.Add(\"mp3\", \"Compressed Music\");\n",
    "fileExt.Add(\"jpg\", \"Jpeg Compressed Images\");\n",
    "\n",
    "fileExt"
   ]
  },
  {
   "cell_type": "code",
   "execution_count": 24,
   "metadata": {},
   "outputs": [],
   "source": [
    "// No duplicates are allowed\n",
    "//fileExt.Add(\"mp3\", \"Sound effects\");"
   ]
  },
  {
   "cell_type": "code",
   "execution_count": 11,
   "metadata": {},
   "outputs": [
    {
     "data": {
      "text/plain": [
       "Compressed Music"
      ]
     },
     "execution_count": 11,
     "metadata": {},
     "output_type": "execute_result"
    }
   ],
   "source": [
    "fileExt[\"mp3\"]"
   ]
  },
  {
   "cell_type": "code",
   "execution_count": 34,
   "metadata": {},
   "outputs": [
    {
     "data": {
      "text/plain": [
       "jpg"
      ]
     },
     "metadata": {},
     "output_type": "display_data"
    },
    {
     "data": {
      "text/plain": [
       "mp3"
      ]
     },
     "metadata": {},
     "output_type": "display_data"
    },
    {
     "data": {
      "text/plain": [
       "txt"
      ]
     },
     "metadata": {},
     "output_type": "display_data"
    }
   ],
   "source": [
    "foreach (var kv in fileExt) \n",
    "{\n",
    "    display(((DictionaryEntry)kv).Key);\n",
    "}"
   ]
  },
  {
   "cell_type": "markdown",
   "metadata": {},
   "source": [
    "### Queue\n",
    "\n",
    "A [Queue](https://docs.microsoft.com/dotnet/api/system.collections.queue?view=netcore-3.1&WT.mc_id=visualstudio-twitch-jefritz) is a collection of objects stored and accessed in a first-in / first-out manner.  `Enqueue` to add elements to the `Queue` and `Dequeue` to remove elements from the `Queue`.  You can also `Peek` to inspect the oldest element in the `Queue`"
   ]
  },
  {
   "cell_type": "code",
   "execution_count": 60,
   "metadata": {},
   "outputs": [
    {
     "data": {
      "text/html": [
       "<table><thead><tr><th><i>index</i></th><th>value</th></tr></thead><tbody><tr><td>0</td><td><div class=\"dni-plaintext\">First</div></td></tr><tr><td>1</td><td><div class=\"dni-plaintext\">Second</div></td></tr><tr><td>2</td><td><div class=\"dni-plaintext\">Third</div></td></tr></tbody></table>"
      ]
     },
     "execution_count": 60,
     "metadata": {},
     "output_type": "execute_result"
    }
   ],
   "source": [
    "var myQueue = new Queue();\n",
    "myQueue.Enqueue(\"First\");\n",
    "myQueue.Enqueue(\"Second\");\n",
    "\n",
    "myQueue.Enqueue(\"Third\");\n",
    "\n",
    "myQueue"
   ]
  },
  {
   "cell_type": "code",
   "execution_count": 47,
   "metadata": {},
   "outputs": [
    {
     "data": {
      "text/html": [
       "<div class=\"dni-plaintext\">3</div>"
      ]
     },
     "execution_count": 47,
     "metadata": {},
     "output_type": "execute_result"
    }
   ],
   "source": [
    "// Use Count to check the size of the queue\n",
    "myQueue.Count"
   ]
  },
  {
   "cell_type": "code",
   "execution_count": 61,
   "metadata": {},
   "outputs": [
    {
     "data": {
      "text/plain": [
       "First"
      ]
     },
     "metadata": {},
     "output_type": "display_data"
    }
   ],
   "source": [
    "// Use Peek to inspect the next value off of the queue\n",
    "display(myQueue.Peek());"
   ]
  },
  {
   "cell_type": "code",
   "execution_count": 49,
   "metadata": {},
   "outputs": [
    {
     "data": {
      "text/plain": [
       "First"
      ]
     },
     "execution_count": 49,
     "metadata": {},
     "output_type": "execute_result"
    }
   ],
   "source": [
    "var z = myQueue.Dequeue();\n",
    "z"
   ]
  },
  {
   "cell_type": "markdown",
   "metadata": {},
   "source": [
    "### Stack\n",
    "\n",
    "A [Stack](https://docs.microsoft.com/dotnet/api/system.collections.stack?view=netcore-3.1&WT.mc_id=visualstudio-twitch-jefritz) is a collection that is accessed in Last-in/First-out manner using the `Push` and `Pop` methods to add and remove items, with the `Peek` method available to examine the next item to be removed from the `Stack`.  This of a `Stack` like a deck of cards:"
   ]
  },
  {
   "cell_type": "code",
   "execution_count": 63,
   "metadata": {},
   "outputs": [
    {
     "data": {
      "text/html": [
       "<table><thead><tr><th><i>index</i></th><th>value</th></tr></thead><tbody><tr><td>0</td><td><div class=\"dni-plaintext\">9-c</div></td></tr><tr><td>1</td><td><div class=\"dni-plaintext\">9-s</div></td></tr><tr><td>2</td><td><div class=\"dni-plaintext\">9-h</div></td></tr><tr><td>3</td><td><div class=\"dni-plaintext\">A-s</div></td></tr><tr><td>4</td><td><div class=\"dni-plaintext\">A-d</div></td></tr></tbody></table>"
      ]
     },
     "execution_count": 63,
     "metadata": {},
     "output_type": "execute_result"
    }
   ],
   "source": [
    "var myHand = new Stack();\n",
    "myHand.Push(\"A-d\");\n",
    "myHand.Push(\"A-s\");\n",
    "myHand.Push(\"9-h\");\n",
    "myHand.Push(\"9-s\");\n",
    "myHand.Push(\"9-c\");\n",
    "\n",
    "myHand"
   ]
  },
  {
   "cell_type": "code",
   "execution_count": 64,
   "metadata": {},
   "outputs": [
    {
     "data": {
      "text/plain": [
       "9-c"
      ]
     },
     "execution_count": 64,
     "metadata": {},
     "output_type": "execute_result"
    }
   ],
   "source": [
    "var myCard = myHand.Peek();\n",
    "myCard"
   ]
  },
  {
   "cell_type": "code",
   "execution_count": 69,
   "metadata": {},
   "outputs": [
    {
     "data": {
      "text/plain": [
       "9-c"
      ]
     },
     "metadata": {},
     "output_type": "display_data"
    },
    {
     "data": {
      "text/plain": [
       "9-s"
      ]
     },
     "metadata": {},
     "output_type": "display_data"
    },
    {
     "data": {
      "text/plain": [
       "9-h"
      ]
     },
     "metadata": {},
     "output_type": "display_data"
    },
    {
     "data": {
      "text/plain": [
       "A-s"
      ]
     },
     "metadata": {},
     "output_type": "display_data"
    },
    {
     "data": {
      "text/plain": [
       "A-d"
      ]
     },
     "metadata": {},
     "output_type": "display_data"
    },
    {
     "data": {
      "text/plain": [
       "9-c"
      ]
     },
     "metadata": {},
     "output_type": "display_data"
    },
    {
     "data": {
      "text/plain": [
       "9-c"
      ]
     },
     "execution_count": 69,
     "metadata": {},
     "output_type": "execute_result"
    }
   ],
   "source": [
    "foreach (var item in myHand) \n",
    "{\n",
    "    display(item);\n",
    "}\n",
    "\n",
    "display(myHand.Peek());\n",
    "var thisCard = myHand.Pop();\n",
    "thisCard"
   ]
  },
  {
   "cell_type": "markdown",
   "metadata": {},
   "source": [
    "We've looked at these basic interactions with collection types and the keys or values stored don't have a specific type associated.  You can get into some hairy situations dealing with type conversions if you mix and match types for keys or values."
   ]
  },
  {
   "cell_type": "code",
   "execution_count": 152,
   "metadata": {},
   "outputs": [
    {
     "data": {
      "text/html": [
       "<table><thead><tr><th><i>index</i></th><th><i>type</i></th><th>Rank</th><th>Suit</th><th>value</th></tr></thead><tbody><tr><td>0</td><td>Submission#155+Card</td><td><div class=\"dni-plaintext\">J</div></td><td><div class=\"dni-plaintext\">h</div></td><td></td></tr><tr><td>1</td><td><span><a href=\"https://docs.microsoft.com/dotnet/api/system.string?view=netcore-3.0\">System.String</a></span></td><td></td><td></td><td><div class=\"dni-plaintext\">Joker</div></td></tr><tr><td>2</td><td>Submission#155+Card</td><td><div class=\"dni-plaintext\">K</div></td><td><div class=\"dni-plaintext\">h</div></td><td></td></tr><tr><td>3</td><td>Submission#155+Card</td><td><div class=\"dni-plaintext\">A</div></td><td><div class=\"dni-plaintext\">d</div></td><td></td></tr></tbody></table>"
      ]
     },
     "execution_count": 152,
     "metadata": {},
     "output_type": "execute_result"
    }
   ],
   "source": [
    "class Card {\n",
    "    public string Rank;\n",
    "    public string Suit;\n",
    "    public Card(string id) {\n",
    "        Rank = id.Split('-')[0];\n",
    "        Suit = id.Split('-')[1];\n",
    "    }\n",
    "    public override string ToString() { return Rank + \"-\" + Suit; }\n",
    "}\n",
    "\n",
    "var deckOfCards = new Stack();\n",
    "deckOfCards.Push(new Card(\"A-d\"));\n",
    "deckOfCards.Push(new Card(\"K-h\"));\n",
    "\n",
    "// Now add a Joker card\n",
    "deckOfCards.Push(\"Joker\");\n",
    "\n",
    "deckOfCards.Push(new Card(\"J-h\"));\n",
    "\n",
    "deckOfCards"
   ]
  },
  {
   "cell_type": "code",
   "execution_count": 79,
   "metadata": {},
   "outputs": [
    {
     "data": {
      "text/html": [
       "<table><thead><tr><th>Rank</th><th>Suit</th></tr></thead><tbody><tr><td><div class=\"dni-plaintext\">K</div></td><td><div class=\"dni-plaintext\">h</div></td></tr></tbody></table>"
      ]
     },
     "execution_count": 79,
     "metadata": {},
     "output_type": "execute_result"
    }
   ],
   "source": [
    "// take a card off the deck\n",
    "var myCard = deckOfCards.Pop();\n",
    "myCard"
   ]
  },
  {
   "cell_type": "markdown",
   "metadata": {},
   "source": [
    "## Generics \n",
    "\n",
    "[Generics](https://docs.microsoft.com/dotnet/csharp/programming-guide/generics?WT.mc_id=visualstudio-twitch-jefritz) are a way for you to force the type of a parameter from within client code.  You declare the type generically using the convention `<T>` with a class name or a method name and this allows that type to be passed around and enforced on those methods or properties in a class.\n",
    "\n",
    "Most developers are familiar with using [Generic Collections](https://docs.microsoft.com/dotnet/standard/generics/collections?WT.mc_id=visualstudio-twitch-jefritz), which enforce the type of the objects in the collection.  You'll find a `Queue<T>` and a `Stack<T>` available in the `System.Collections.Generic` namespace that mirror the versions we used above, as well as a few others list `List<T>` and `Dictionary<T>`.\n",
    "\n",
    "Let's take a look at some examples\n",
    "\n",
    "### List&lt;T&gt;\n",
    "\n",
    "The [List&lt;T&gt;](https://docs.microsoft.com/dotnet/api/system.collections.generic.list-1?view=netcore-3.1&WT.mc_id=visualstudio-twitch-jefritz) is the most flexible of the generic collections, allowing you to add, remove, and access objects of the specified type.  Let's take a look at that deck of cards sample again:"
   ]
  },
  {
   "cell_type": "code",
   "execution_count": 87,
   "metadata": {},
   "outputs": [
    {
     "data": {
      "text/html": [
       "<span><a href=\"https://docs.microsoft.com/dotnet/api/system.collections.generic.list-1?view=netcore-3.0\">System.Collections.Generic.List&lt;Submission#78+Card&gt;</a></span>"
      ]
     },
     "metadata": {},
     "output_type": "display_data"
    },
    {
     "data": {
      "text/html": [
       "<table><thead><tr><th><i>index</i></th><th>Rank</th><th>Suit</th></tr></thead><tbody><tr><td>0</td><td><div class=\"dni-plaintext\">A</div></td><td><div class=\"dni-plaintext\">d</div></td></tr><tr><td>1</td><td><div class=\"dni-plaintext\">J</div></td><td><div class=\"dni-plaintext\">d</div></td></tr><tr><td>2</td><td><div class=\"dni-plaintext\">9</div></td><td><div class=\"dni-plaintext\">c</div></td></tr><tr><td>3</td><td><div class=\"dni-plaintext\">8</div></td><td><div class=\"dni-plaintext\">s</div></td></tr></tbody></table>"
      ]
     },
     "execution_count": 87,
     "metadata": {},
     "output_type": "execute_result"
    }
   ],
   "source": [
    "// Declare the list with the specified type inside angle-brackets\n",
    "var listOfCards = new List<Card>();\n",
    "listOfCards.Add(new Card(\"A-d\"));\n",
    "listOfCards.Add(new Card(\"J-d\"));\n",
    "listOfCards.Add(new Card(\"9-c\"));\n",
    "listOfCards.Add(new Card(\"8-s\"));\n",
    "\n",
    "display(listOfCards.GetType());\n",
    "listOfCards"
   ]
  },
  {
   "cell_type": "code",
   "execution_count": 42,
   "metadata": {},
   "outputs": [
    {
     "data": {
      "text/html": [
       "<table><thead><tr><th>Rank</th><th>Suit</th></tr></thead><tbody><tr><td><div class=\"dni-plaintext\">9</div></td><td><div class=\"dni-plaintext\">c</div></td></tr></tbody></table>"
      ]
     },
     "execution_count": 42,
     "metadata": {},
     "output_type": "execute_result"
    }
   ],
   "source": [
    "listOfCards[2]"
   ]
  },
  {
   "cell_type": "code",
   "execution_count": 88,
   "metadata": {},
   "outputs": [
    {
     "data": {
      "text/html": [
       "<table><thead><tr><th><i>index</i></th><th>Rank</th><th>Suit</th></tr></thead><tbody><tr><td>0</td><td><div class=\"dni-plaintext\">A</div></td><td><div class=\"dni-plaintext\">d</div></td></tr><tr><td>1</td><td><div class=\"dni-plaintext\">J</div></td><td><div class=\"dni-plaintext\">d</div></td></tr><tr><td>2</td><td><div class=\"dni-plaintext\">3</div></td><td><div class=\"dni-plaintext\">h</div></td></tr><tr><td>3</td><td><div class=\"dni-plaintext\">9</div></td><td><div class=\"dni-plaintext\">c</div></td></tr><tr><td>4</td><td><div class=\"dni-plaintext\">8</div></td><td><div class=\"dni-plaintext\">s</div></td></tr></tbody></table>"
      ]
     },
     "execution_count": 88,
     "metadata": {},
     "output_type": "execute_result"
    }
   ],
   "source": [
    "var ThreeHearts = new Card(\"3-h\");\n",
    "listOfCards.Insert(2, ThreeHearts);\n",
    "listOfCards"
   ]
  },
  {
   "cell_type": "code",
   "execution_count": 92,
   "metadata": {},
   "outputs": [
    {
     "data": {
      "text/html": [
       "<div class=\"dni-plaintext\">2</div>"
      ]
     },
     "execution_count": 92,
     "metadata": {},
     "output_type": "execute_result"
    }
   ],
   "source": [
    "listOfCards.IndexOf(ThreeHearts)"
   ]
  },
  {
   "cell_type": "code",
   "execution_count": 95,
   "metadata": {},
   "outputs": [
    {
     "data": {
      "text/html": [
       "<table><thead><tr><th>Rank</th><th>Suit</th></tr></thead><tbody><tr><td><div class=\"dni-plaintext\">J</div></td><td><div class=\"dni-plaintext\">d</div></td></tr></tbody></table>"
      ]
     },
     "execution_count": 95,
     "metadata": {},
     "output_type": "execute_result"
    }
   ],
   "source": [
    "listOfCards.ElementAt(1)"
   ]
  },
  {
   "cell_type": "code",
   "execution_count": 97,
   "metadata": {},
   "outputs": [],
   "source": [
    "//listOfCards.Add(\"Joker\");"
   ]
  },
  {
   "cell_type": "markdown",
   "metadata": {},
   "source": [
    "### Dictionary&lt;TKey,TValue&gt;\n",
    "\n",
    "In some classes, you may have multiple type-arguments like the Dictionary class.  In [Dictionary&lt;TKey,TValue&gt;](https://docs.microsoft.com/dotnet/api/system.collections.generic.dictionary-2?view=netcore-3.1&WT.mc_id=visualstudio-twitch-jefritz) there are type arguments for the key and the value stored."
   ]
  },
  {
   "cell_type": "code",
   "execution_count": 130,
   "metadata": {},
   "outputs": [
    {
     "name": "stderr",
     "output_type": "stream",
     "text": [
      "\n",
      "(1,16): error CS0305: Using the generic type 'HashSet<T>' requires 1 type arguments\n",
      "\n"
     ]
    },
    {
     "ename": "Cell not executed",
     "evalue": "compilation error",
     "output_type": "error",
     "traceback": []
    }
   ],
   "source": [
    "var exts = new Dictionary<string, string>();\n",
    "exts.Add(\"txt\", \"Plain text\");\n",
    "exts.Add(\"mp3\", \"Compressed Music\");\n",
    "exts.Add(\"jpg\", \"Jpeg Compressed Images\");\n",
    "\n",
    "exts"
   ]
  },
  {
   "cell_type": "code",
   "execution_count": 47,
   "metadata": {},
   "outputs": [
    {
     "data": {
      "text/plain": [
       "Jpeg Compressed Images"
      ]
     },
     "execution_count": 47,
     "metadata": {},
     "output_type": "execute_result"
    }
   ],
   "source": [
    "exts[\"jpg\"]"
   ]
  },
  {
   "cell_type": "code",
   "execution_count": 99,
   "metadata": {},
   "outputs": [],
   "source": [
    "//exts.Add(\"mp3\", \"Sound Effects\");"
   ]
  },
  {
   "cell_type": "code",
   "execution_count": 103,
   "metadata": {},
   "outputs": [
    {
     "name": "stderr",
     "output_type": "stream",
     "text": [
      "\n",
      "(1,18): error CS1503: Argument 2: cannot convert from 'Card' to 'string'\n",
      "\n"
     ]
    },
    {
     "ename": "Cell not executed",
     "evalue": "compilation error",
     "output_type": "error",
     "traceback": []
    }
   ],
   "source": [
    "//exts.Add(\"card\", new Card(\"J-h\"));"
   ]
  },
  {
   "cell_type": "markdown",
   "metadata": {},
   "source": [
    "### Hashset\n",
    "\n"
   ]
  },
  {
   "cell_type": "code",
   "execution_count": 138,
   "metadata": {},
   "outputs": [
    {
     "data": {
      "text/html": [
       "<table><thead><tr><th><i>index</i></th><th>Rank</th><th>Suit</th></tr></thead><tbody><tr><td>0</td><td><div class=\"dni-plaintext\">J</div></td><td><div class=\"dni-plaintext\">c</div></td></tr><tr><td>1</td><td><div class=\"dni-plaintext\">A</div></td><td><div class=\"dni-plaintext\">c</div></td></tr><tr><td>2</td><td><div class=\"dni-plaintext\">9</div></td><td><div class=\"dni-plaintext\">d</div></td></tr><tr><td>3</td><td><div class=\"dni-plaintext\">3</div></td><td><div class=\"dni-plaintext\">h</div></td></tr></tbody></table>"
      ]
     },
     "execution_count": 138,
     "metadata": {},
     "output_type": "execute_result"
    }
   ],
   "source": [
    "var set = new HashSet<Card>();\n",
    "set.Add(new Card(\"J-c\"));\n",
    "set.Add(new Card(\"A-c\"));\n",
    "set.Add(new Card(\"9-d\"));\n",
    "set.Add(new Card(\"3-h\"));\n",
    "\n",
    "set"
   ]
  },
  {
   "cell_type": "markdown",
   "metadata": {},
   "source": [
    "### Creating Generic Classes\n",
    "\n",
    "Ok, generics are cool... but how do you create your own classes or methods to work with them?  Perhaps we have our own custom collection object that randomly inserts objects into the collection and we want to work with the objects generically.\n",
    "\n",
    "Declare your class and methods using the `<T>` notation where the characters inside the angle-brackets are identical for all methods with the same characters."
   ]
  },
  {
   "cell_type": "code",
   "execution_count": 118,
   "metadata": {},
   "outputs": [
    {
     "data": {
      "text/html": [
       "<table><thead><tr><th>_Inner</th></tr></thead><tbody><tr><td><div class=\"dni-plaintext\">[ 2, 4, 1, 3, 5 ]</div></td></tr></tbody></table>"
      ]
     },
     "execution_count": 118,
     "metadata": {},
     "output_type": "execute_result"
    }
   ],
   "source": [
    "class FritzSet<T> \n",
    "{\n",
    "    // This normally wouldn't be public scoped, but making it public for the notebook visualizer\n",
    "    public List<T> _Inner = new List<T>();\n",
    "    \n",
    "    public void Add(T newItem) \n",
    "    {\n",
    "        var insertAt = _Inner.Count == 0 ? 0 : new Random().Next(0,_Inner.Count+1);\n",
    "        _Inner.Insert(insertAt, newItem);\n",
    "    }\n",
    "    \n",
    "}\n",
    "\n",
    "// Let's insert some numbers\n",
    "var set = new FritzSet<int>();\n",
    "set.Add(1);\n",
    "set.Add(2);\n",
    "set.Add(3);\n",
    "set.Add(4);\n",
    "set.Add(5);\n",
    "set"
   ]
  },
  {
   "cell_type": "code",
   "execution_count": 126,
   "metadata": {},
   "outputs": [
    {
     "data": {
      "text/html": [
       "<table><thead><tr><th>_Inner</th></tr></thead><tbody><tr><td><div class=\"dni-plaintext\">[ 2-s, 9-d, 3-c, A-d, J-h ]</div></td></tr></tbody></table>"
      ]
     },
     "execution_count": 126,
     "metadata": {},
     "output_type": "execute_result"
    }
   ],
   "source": [
    "var deck = new FritzSet<Card>();\n",
    "deck.Add(new Card(\"A-d\"));\n",
    "deck.Add(new Card(\"9-d\"));\n",
    "deck.Add(new Card(\"J-h\"));\n",
    "deck.Add(new Card(\"3-c\"));\n",
    "deck.Add(new Card(\"2-s\"));\n",
    "\n",
    "deck"
   ]
  },
  {
   "cell_type": "code",
   "execution_count": 143,
   "metadata": {},
   "outputs": [
    {
     "data": {
      "text/html": [
       "<table><thead><tr><th>_Inner</th></tr></thead><tbody><tr><td><div class=\"dni-plaintext\">[ J-h, Joker ]</div></td></tr></tbody></table>"
      ]
     },
     "execution_count": 143,
     "metadata": {},
     "output_type": "execute_result"
    }
   ],
   "source": [
    "// you can also force a generic type of 'object' and lose that compile-time type checking\n",
    "var objSet = new FritzSet<object>();\n",
    "objSet.Add(new Card(\"J-h\"));\n",
    "objSet.Add(\"Joker\");\n",
    "\n",
    "objSet"
   ]
  },
  {
   "cell_type": "markdown",
   "metadata": {},
   "source": [
    "## LINQ & Lambda"
   ]
  },
  {
   "cell_type": "code",
   "execution_count": 234,
   "metadata": {},
   "outputs": [
    {
     "data": {
      "text/html": [
       "<table><thead><tr><th><i>index</i></th><th>Rank</th><th>Suit</th></tr></thead><tbody><tr><td>0</td><td><div class=\"dni-plaintext\">A</div></td><td><div class=\"dni-plaintext\">s</div></td></tr><tr><td>1</td><td><div class=\"dni-plaintext\">A</div></td><td><div class=\"dni-plaintext\">h</div></td></tr></tbody></table>"
      ]
     },
     "execution_count": 234,
     "metadata": {},
     "output_type": "execute_result"
    }
   ],
   "source": [
    "var deck = new FritzSet<Card>();\n",
    "deck.Add(new Card(\"A-d\"));\n",
    "deck.Add(new Card(\"A-h\"));\n",
    "deck.Add(new Card(\"A-c\"));\n",
    "deck.Add(new Card(\"A-s\"));\n",
    "deck.Add(new Card(\"9-d\"));\n",
    "deck.Add(new Card(\"J-h\"));\n",
    "deck.Add(new Card(\"3-c\"));\n",
    "deck.Add(new Card(\"2-c\"));\n",
    "deck.Add(new Card(\"7-d\"));\n",
    "deck.Add(new Card(\"6-d\"));\n",
    "deck.Add(new Card(\"5-d\"));\n",
    "deck.Add(new Card(\"4-d\"));\n",
    "deck.Add(new Card(\"4-h\"));\n",
    "\n",
    "//deck._Inner.Count(c => c.Suit == \"d\")\n",
    "//deck._Inner.Where(c => c.Suit == \"d\")\n",
    "//deck._Inner.Where(c => c.Suit == \"d\").Count()\n",
    "//deck._Inner.Where(c => c.Suit == \"d\").Count(c => c.Rank == \"A\")\n",
    "//deck._Inner.Where(c => c.Suit == \"d\").Select(c => c.Rank)\n",
    "//deck._Inner.Any(c => c.Rank == \"Q\") /// Do you have any Queens?   No?  Go-Fish\n",
    "//deck._Inner.All(c => c.Suit == \"d\") // Do you have a flush of Diamonds?\n",
    "// deck._Inner.Where(c => c.Suit != \"c\" && c.Suit != \"h\").All(c => c.Suit == \"d\") // Do you have a flush of Diamonds?\n",
    "//deck._Inner.Where(c => c.Suit != \"c\" && c.Suit != \"h\").Any() \n",
    "\n",
    "//deck._Inner.First()\n",
    "//deck._Inner.Skip(1).Take(2)\n",
    "//deck._Inner.OrderBy(c => c.Rank == \"A\" ? \"ZZ\" : c.Rank).Take(10)\n",
    "deck._Inner.OrderByDescending(c => c.Rank == \"A\" ? \"ZZ\" : c.Rank)\n",
    "    .ThenByDescending(c => c.Suit)\n",
    "    .Take(2)\n",
    " "
   ]
  }
 ],
 "metadata": {
  "kernelspec": {
   "display_name": ".NET (C#)",
   "language": "C#",
   "name": ".net-csharp"
  },
  "language_info": {
   "file_extension": ".cs",
   "mimetype": "text/x-csharp",
   "name": "C#",
   "pygments_lexer": "csharp",
   "version": "8.0"
  }
 },
 "nbformat": 4,
 "nbformat_minor": 4
}
