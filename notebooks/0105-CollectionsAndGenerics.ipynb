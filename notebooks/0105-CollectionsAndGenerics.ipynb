{
 "cells": [
  {
   "cell_type": "markdown",
   "metadata": {},
   "source": [
    "# Session 5: Collections and Generics\n",
    "\n",
    "We've worked with loops, conditions, methods, and our own types in C# but what about collections of objects?  A group of Person objects or Products that are added to a shopping cart, how do we handle those?  \n",
    "\n",
    "## Collections\n",
    "\n",
    "There are a number of different collection objects that you can use that implement the same basic interactions.\n",
    "\n",
    "### Array\n",
    "\n",
    "Arrays are the simplest of the collection types, and can be declared with one to many dimensions and can also be declared jagged.  Simplify declared with a type and square brackets `[ ]` defining the size of the array, initialized with a `new` statement and curly braces `{ }` optionally containing the initial values of the array."
   ]
  },
  {
   "cell_type": "code",
   "execution_count": 27,
   "metadata": {},
   "outputs": [
    {
     "data": {
      "text/plain": [
       "Array is created: True"
      ]
     },
     "metadata": {},
     "output_type": "display_data"
    },
    {
     "data": {
      "text/plain": [
       "Array is created: False"
      ]
     },
     "metadata": {},
     "output_type": "display_data"
    },
    {
     "data": {
      "text/plain": [
       "Array Size: 3"
      ]
     },
     "metadata": {},
     "output_type": "display_data"
    },
    {
     "data": {
      "text/plain": [
       "Array Size: 3"
      ]
     },
     "metadata": {},
     "output_type": "display_data"
    }
   ],
   "source": [
    "int[] numbers;\n",
    "\n",
    "// Numbers doesn't contain anything, as it wasn't assigned yet\n",
    "display(\"Array is created: \" + (numbers == null).ToString());\n",
    "\n",
    "// Create an array by using square brackets containing a size \n",
    "numbers = new int[3];\n",
    "display(\"Array is created: \" + (numbers == null).ToString());\n",
    "\n",
    "// The read-only Length property shows the number of elements in the array  \n",
    "display(\"Array Size: \"  + numbers.Length);\n",
    "\n",
    "// Declare the array with initial values\n",
    "var fullArrayOfNumbers = new int[3] {1, 2, 3};\n",
    "display(\"Array Size: \" + fullArrayOfNumbers.Length);"
   ]
  },
  {
   "cell_type": "markdown",
   "metadata": {},
   "source": [
    "You can then interact with the values of the array using numeric a numeric indexer starting with a base value of 0"
   ]
  },
  {
   "cell_type": "code",
   "execution_count": 22,
   "metadata": {},
   "outputs": [
    {
     "data": {
      "text/plain": [
       "Item[0]: 1"
      ]
     },
     "metadata": {},
     "output_type": "display_data"
    },
    {
     "data": {
      "text/plain": [
       "Item[0]: 5"
      ]
     },
     "metadata": {},
     "output_type": "display_data"
    }
   ],
   "source": [
    "display(\"Item[0]: \" + fullArrayOfNumbers[0]);\n",
    "\n",
    "// You can set values on the array using the equals assignment operator\n",
    "fullArrayOfNumbers[0] = 5;\n",
    "display(\"Item[0]: \" + fullArrayOfNumbers[0]);"
   ]
  },
  {
   "cell_type": "code",
   "execution_count": 24,
   "metadata": {},
   "outputs": [],
   "source": [
    "// You cannot interact with array values outside the size of the array\n",
    "// display(fullArrayOfNumbers[5]);"
   ]
  },
  {
   "cell_type": "code",
   "execution_count": 29,
   "metadata": {},
   "outputs": [
    {
     "data": {
      "text/html": [
       "6"
      ]
     },
     "metadata": {},
     "output_type": "display_data"
    },
    {
     "data": {
      "text/html": [
       "2"
      ]
     },
     "execution_count": 29,
     "metadata": {},
     "output_type": "execute_result"
    }
   ],
   "source": [
    "// You can work with multi-dimensional arrays as well\n",
    "var matrix = new int[3,2] { {1,2}, {3,4}, {5,6} };\n",
    "display(matrix.Length);\n",
    "\n",
    "// Access elements of the multi-dimensional using a comma between index values\n",
    "matrix[0,1]"
   ]
  },
  {
   "cell_type": "markdown",
   "metadata": {},
   "source": [
    "### ArrayList\n",
    "\n",
    "### HashTable\n",
    "\n",
    "### Dictionary\n",
    "\n",
    "### Queue\n",
    "\n",
    "### Stack\n",
    "\n",
    "## Generics \n",
    "\n",
    "### Using Generic Collections\n",
    "\n",
    "### Creating Generic Classes\n",
    "\n",
    "### Generic Methods\n",
    "\n",
    "## LINQ & Lambda"
   ]
  },
  {
   "cell_type": "code",
   "execution_count": null,
   "metadata": {},
   "outputs": [],
   "source": []
  }
 ],
 "metadata": {
  "kernelspec": {
   "display_name": ".NET (C#)",
   "language": "C#",
   "name": ".net-csharp"
  },
  "language_info": {
   "file_extension": ".cs",
   "mimetype": "text/x-csharp",
   "name": "C#",
   "pygments_lexer": "csharp",
   "version": "8.0"
  }
 },
 "nbformat": 4,
 "nbformat_minor": 4
}
